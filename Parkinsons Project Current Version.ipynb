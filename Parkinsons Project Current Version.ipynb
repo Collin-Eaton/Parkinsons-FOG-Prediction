{
 "cells": [
  {
   "cell_type": "code",
   "execution_count": 1,
   "id": "8b242d9e",
   "metadata": {},
   "outputs": [],
   "source": [
    "#Importing packages for reading data\n",
    "import os\n",
    "os.chdir(r\"C:\\Users\\colli\\OneDrive\\Documents\\Parkinsons Project Regis\")\n",
    "import pandas as pd\n",
    "import glob\n",
    "import numpy as np"
   ]
  },
  {
   "cell_type": "code",
   "execution_count": 2,
   "id": "51e214fe",
   "metadata": {},
   "outputs": [],
   "source": [
    "#Importing Relational Tables for training and test data\n",
    "#source https://www.kaggle.com/code/dongkeunbak/pytorch-basic-starter-code-fog-with-lstm\n",
    "#info about subjects with parkinson's\n",
    "subjects = pd.read_csv('subjects.csv')\n",
    "#outcome for subjects action in a lab or at home whether it caused a FOG event from Starting to walk, turning, or walking\n",
    "events = pd.read_csv('events.csv')\n",
    "#info for subjects action in a lab or at home that may have caused a FOG event\n",
    "tasks = pd.read_csv('tasks.csv')\n",
    "#Identifies each series in the defog dataset by a unique Subject, Visit, Medication condition.\n",
    "meta = pd.read_csv('tdcsfog_metadata.csv')\n",
    "#dataset, comprising data series collected in the subject's home, as subjects completed a FOG-provoking protocol\n",
    "defog = pd.read_csv('defog_metadata.csv')\n",
    "#Shows what a submission for the competition would look like\n",
    "sub = pd.read_csv('sample_submission.csv')\n",
    "#Final data to run your model against to predict if 1 of three FOG events occured for Start Hesitation, turning, or walking\n",
    "test = glob.glob('test/**/**')"
   ]
  },
  {
   "cell_type": "code",
   "execution_count": 3,
   "id": "5413ba3e",
   "metadata": {},
   "outputs": [],
   "source": [
    "#function to read in the files\n",
    "#source https://www.kaggle.com/code/dongkeunbak/pytorch-basic-starter-code-fog-with-lstm\n",
    "def reader(f):\n",
    "    df = pd.read_csv(f)\n",
    "    df['Id'] = f.split('\\\\\\\\')[-1].split('.')[0]\n",
    "    return df"
   ]
  },
  {
   "cell_type": "code",
   "execution_count": 4,
   "id": "e26df06c",
   "metadata": {},
   "outputs": [
    {
     "name": "stdout",
     "output_type": "stream",
     "text": [
      "(286370, 5)\n"
     ]
    }
   ],
   "source": [
    "# read train data\n",
    "#source https://www.kaggle.com/code/dongkeunbak/pytorch-basic-starter-code-fog-with-lstm\n",
    "test = pd.concat([reader(f) for f in test]).fillna(0); print(test.shape)\n",
    "cols = [c for c in test.columns if c not in ['Id', 'StartHesitation', 'Turn' , 'Walking', 'Valid', 'Task','Event']] # except categorical and target fetaure"
   ]
  },
  {
   "cell_type": "code",
   "execution_count": 5,
   "id": "8007b32d",
   "metadata": {},
   "outputs": [
    {
     "data": {
      "text/html": [
       "<div>\n",
       "<style scoped>\n",
       "    .dataframe tbody tr th:only-of-type {\n",
       "        vertical-align: middle;\n",
       "    }\n",
       "\n",
       "    .dataframe tbody tr th {\n",
       "        vertical-align: top;\n",
       "    }\n",
       "\n",
       "    .dataframe thead th {\n",
       "        text-align: right;\n",
       "    }\n",
       "</style>\n",
       "<table border=\"1\" class=\"dataframe\">\n",
       "  <thead>\n",
       "    <tr style=\"text-align: right;\">\n",
       "      <th></th>\n",
       "      <th>Subject</th>\n",
       "      <th>Visit</th>\n",
       "      <th>Age</th>\n",
       "      <th>Sex</th>\n",
       "      <th>YearsSinceDx</th>\n",
       "      <th>UPDRSIII_On</th>\n",
       "      <th>UPDRSIII_Off</th>\n",
       "      <th>NFOGQ</th>\n",
       "    </tr>\n",
       "  </thead>\n",
       "  <tbody>\n",
       "    <tr>\n",
       "      <th>0</th>\n",
       "      <td>04fcdb</td>\n",
       "      <td>1.0</td>\n",
       "      <td>63</td>\n",
       "      <td>M</td>\n",
       "      <td>3.0</td>\n",
       "      <td>30.0</td>\n",
       "      <td>NaN</td>\n",
       "      <td>0</td>\n",
       "    </tr>\n",
       "    <tr>\n",
       "      <th>1</th>\n",
       "      <td>05595e</td>\n",
       "      <td>1.0</td>\n",
       "      <td>56</td>\n",
       "      <td>M</td>\n",
       "      <td>8.0</td>\n",
       "      <td>28.0</td>\n",
       "      <td>NaN</td>\n",
       "      <td>0</td>\n",
       "    </tr>\n",
       "    <tr>\n",
       "      <th>2</th>\n",
       "      <td>0967b2</td>\n",
       "      <td>1.0</td>\n",
       "      <td>59</td>\n",
       "      <td>M</td>\n",
       "      <td>10.0</td>\n",
       "      <td>38.0</td>\n",
       "      <td>48.0</td>\n",
       "      <td>19</td>\n",
       "    </tr>\n",
       "    <tr>\n",
       "      <th>3</th>\n",
       "      <td>0967b2</td>\n",
       "      <td>2.0</td>\n",
       "      <td>59</td>\n",
       "      <td>M</td>\n",
       "      <td>10.0</td>\n",
       "      <td>37.0</td>\n",
       "      <td>44.0</td>\n",
       "      <td>13</td>\n",
       "    </tr>\n",
       "    <tr>\n",
       "      <th>4</th>\n",
       "      <td>097078</td>\n",
       "      <td>NaN</td>\n",
       "      <td>70</td>\n",
       "      <td>F</td>\n",
       "      <td>10.0</td>\n",
       "      <td>27.0</td>\n",
       "      <td>50.0</td>\n",
       "      <td>20</td>\n",
       "    </tr>\n",
       "  </tbody>\n",
       "</table>\n",
       "</div>"
      ],
      "text/plain": [
       "  Subject  Visit  Age Sex  YearsSinceDx  UPDRSIII_On  UPDRSIII_Off  NFOGQ\n",
       "0  04fcdb    1.0   63   M           3.0         30.0           NaN      0\n",
       "1  05595e    1.0   56   M           8.0         28.0           NaN      0\n",
       "2  0967b2    1.0   59   M          10.0         38.0          48.0     19\n",
       "3  0967b2    2.0   59   M          10.0         37.0          44.0     13\n",
       "4  097078    NaN   70   F          10.0         27.0          50.0     20"
      ]
     },
     "execution_count": 5,
     "metadata": {},
     "output_type": "execute_result"
    }
   ],
   "source": [
    "#looking at sujects data\n",
    "subjects.head()"
   ]
  },
  {
   "cell_type": "code",
   "execution_count": 6,
   "id": "c7c43749",
   "metadata": {},
   "outputs": [
    {
     "data": {
      "text/plain": [
       "Subject          0\n",
       "Visit           62\n",
       "Age              0\n",
       "Sex              0\n",
       "YearsSinceDx     0\n",
       "UPDRSIII_On      1\n",
       "UPDRSIII_Off    41\n",
       "NFOGQ            0\n",
       "dtype: int64"
      ]
     },
     "execution_count": 6,
     "metadata": {},
     "output_type": "execute_result"
    }
   ],
   "source": [
    "#checking for null values\n",
    "subjects.isnull().sum()"
   ]
  },
  {
   "cell_type": "code",
   "execution_count": 7,
   "id": "231eeab9",
   "metadata": {},
   "outputs": [],
   "source": [
    "#importing visualization package\n",
    "import seaborn as sns"
   ]
  },
  {
   "cell_type": "code",
   "execution_count": 8,
   "id": "8df4470e",
   "metadata": {},
   "outputs": [
    {
     "name": "stderr",
     "output_type": "stream",
     "text": [
      "C:\\Users\\colli\\anaconda3\\lib\\site-packages\\seaborn\\_decorators.py:36: FutureWarning: Pass the following variable as a keyword arg: x. From version 0.12, the only valid positional argument will be `data`, and passing other arguments without an explicit keyword will result in an error or misinterpretation.\n",
      "  warnings.warn(\n"
     ]
    },
    {
     "data": {
      "text/plain": [
       "<AxesSubplot:xlabel='Sex', ylabel='count'>"
      ]
     },
     "execution_count": 8,
     "metadata": {},
     "output_type": "execute_result"
    },
    {
     "data": {
      "image/png": "[encoded data removed]",
      "text/plain": [
       "<Figure size 432x288 with 1 Axes>"
      ]
     },
     "metadata": {
      "needs_background": "light"
     },
     "output_type": "display_data"
    }
   ],
   "source": [
    "#EDA Subjects data for gender distibution\n",
    "sns.countplot(subjects['Sex'])"
   ]
  },
  {
   "cell_type": "code",
   "execution_count": 9,
   "id": "8b945c27",
   "metadata": {},
   "outputs": [
    {
     "data": {
      "text/plain": [
       "<AxesSubplot:xlabel='Age', ylabel='Count'>"
      ]
     },
     "execution_count": 9,
     "metadata": {},
     "output_type": "execute_result"
    },
    {
     "data": {
      "image/png": "[encoded data removed]",
      "text/plain": [
       "<Figure size 432x288 with 1 Axes>"
      ]
     },
     "metadata": {
      "needs_background": "light"
     },
     "output_type": "display_data"
    }
   ],
   "source": [
    "#EDA Subjects data for Age distribution\n",
    "sns.histplot(subjects['Age'])"
   ]
  },
  {
   "cell_type": "code",
   "execution_count": 10,
   "id": "345c73c0",
   "metadata": {},
   "outputs": [
    {
     "data": {
      "text/plain": [
       "<AxesSubplot:xlabel='YearsSinceDx', ylabel='Count'>"
      ]
     },
     "execution_count": 10,
     "metadata": {},
     "output_type": "execute_result"
    },
    {
     "data": {
      "image/png": "[encoded data removed]",
      "text/plain": [
       "<Figure size 432x288 with 1 Axes>"
      ]
     },
     "metadata": {
      "needs_background": "light"
     },
     "output_type": "display_data"
    }
   ],
   "source": [
    "#Distribution for number of years that the patients have had parkinsons\n",
    "sns.histplot(subjects['YearsSinceDx'], color = 'green')"
   ]
  },
  {
   "cell_type": "code",
   "execution_count": 11,
   "id": "c6af41eb",
   "metadata": {},
   "outputs": [
    {
     "data": {
      "text/plain": [
       "<AxesSubplot:xlabel='UPDRSIII_On', ylabel='Count'>"
      ]
     },
     "execution_count": 11,
     "metadata": {},
     "output_type": "execute_result"
    },
    {
     "data": {
      "image/png": "[encoded data removed]",
      "text/plain": [
       "<Figure size 432x288 with 1 Axes>"
      ]
     },
     "metadata": {
      "needs_background": "light"
     },
     "output_type": "display_data"
    }
   ],
   "source": [
    "#Unified Parkinson's Disease Rating Scale score for each patient while on medication\n",
    "sns.histplot(subjects['UPDRSIII_On'], color = 'red')"
   ]
  },
  {
   "cell_type": "code",
   "execution_count": 12,
   "id": "6207ecb2",
   "metadata": {},
   "outputs": [
    {
     "data": {
      "text/plain": [
       "<AxesSubplot:xlabel='UPDRSIII_Off', ylabel='Count'>"
      ]
     },
     "execution_count": 12,
     "metadata": {},
     "output_type": "execute_result"
    },
    {
     "data": {
      "image/png": "[encoded data removed]",
      "text/plain": [
       "<Figure size 432x288 with 1 Axes>"
      ]
     },
     "metadata": {
      "needs_background": "light"
     },
     "output_type": "display_data"
    }
   ],
   "source": [
    "#Unified Parkinson's Disease Rating Scale score for each patient while off medication\n",
    "sns.histplot(subjects['UPDRSIII_Off'], color = 'yellow')"
   ]
  },
  {
   "cell_type": "code",
   "execution_count": 13,
   "id": "a1ca69b6",
   "metadata": {},
   "outputs": [
    {
     "data": {
      "text/html": [
       "<div>\n",
       "<style scoped>\n",
       "    .dataframe tbody tr th:only-of-type {\n",
       "        vertical-align: middle;\n",
       "    }\n",
       "\n",
       "    .dataframe tbody tr th {\n",
       "        vertical-align: top;\n",
       "    }\n",
       "\n",
       "    .dataframe thead th {\n",
       "        text-align: right;\n",
       "    }\n",
       "</style>\n",
       "<table border=\"1\" class=\"dataframe\">\n",
       "  <thead>\n",
       "    <tr style=\"text-align: right;\">\n",
       "      <th></th>\n",
       "      <th>Id</th>\n",
       "      <th>Begin</th>\n",
       "      <th>End</th>\n",
       "      <th>Task</th>\n",
       "    </tr>\n",
       "  </thead>\n",
       "  <tbody>\n",
       "    <tr>\n",
       "      <th>0</th>\n",
       "      <td>02ab235146</td>\n",
       "      <td>10.00</td>\n",
       "      <td>190.48</td>\n",
       "      <td>Rest1</td>\n",
       "    </tr>\n",
       "    <tr>\n",
       "      <th>1</th>\n",
       "      <td>02ab235146</td>\n",
       "      <td>211.24</td>\n",
       "      <td>271.56</td>\n",
       "      <td>Rest2</td>\n",
       "    </tr>\n",
       "    <tr>\n",
       "      <th>2</th>\n",
       "      <td>02ab235146</td>\n",
       "      <td>505.88</td>\n",
       "      <td>522.40</td>\n",
       "      <td>4MW</td>\n",
       "    </tr>\n",
       "    <tr>\n",
       "      <th>3</th>\n",
       "      <td>02ab235146</td>\n",
       "      <td>577.96</td>\n",
       "      <td>594.64</td>\n",
       "      <td>4MW-C</td>\n",
       "    </tr>\n",
       "    <tr>\n",
       "      <th>4</th>\n",
       "      <td>02ab235146</td>\n",
       "      <td>701.32</td>\n",
       "      <td>715.28</td>\n",
       "      <td>MB1</td>\n",
       "    </tr>\n",
       "  </tbody>\n",
       "</table>\n",
       "</div>"
      ],
      "text/plain": [
       "           Id   Begin     End   Task\n",
       "0  02ab235146   10.00  190.48  Rest1\n",
       "1  02ab235146  211.24  271.56  Rest2\n",
       "2  02ab235146  505.88  522.40    4MW\n",
       "3  02ab235146  577.96  594.64  4MW-C\n",
       "4  02ab235146  701.32  715.28    MB1"
      ]
     },
     "execution_count": 13,
     "metadata": {},
     "output_type": "execute_result"
    }
   ],
   "source": [
    "#looking at tasks data\n",
    "tasks.head()"
   ]
  },
  {
   "cell_type": "code",
   "execution_count": 14,
   "id": "f0dbbe7f",
   "metadata": {},
   "outputs": [
    {
     "name": "stdout",
     "output_type": "stream",
     "text": [
      "<class 'pandas.core.frame.DataFrame'>\n",
      "RangeIndex: 2817 entries, 0 to 2816\n",
      "Data columns (total 4 columns):\n",
      " #   Column  Non-Null Count  Dtype  \n",
      "---  ------  --------------  -----  \n",
      " 0   Id      2817 non-null   object \n",
      " 1   Begin   2817 non-null   float64\n",
      " 2   End     2817 non-null   float64\n",
      " 3   Task    2817 non-null   object \n",
      "dtypes: float64(2), object(2)\n",
      "memory usage: 88.2+ KB\n"
     ]
    }
   ],
   "source": [
    "#checking for nulls in tasks data\n",
    "tasks.info()"
   ]
  },
  {
   "cell_type": "code",
   "execution_count": 15,
   "id": "4c84749e",
   "metadata": {},
   "outputs": [
    {
     "data": {
      "text/plain": [
       "array(['Rest1', 'Rest2', '4MW', '4MW-C', 'MB1', 'MB2a', 'MB2b', 'MB3-R',\n",
       "       'MB3-L', 'MB4', 'MB5', 'MB6-R', 'MB6-L', 'MB7', 'MB8', 'MB9',\n",
       "       'MB10', 'MB11', 'MB12', 'MB13', 'TUG-ST', 'TUG-DT', 'TUG-C',\n",
       "       'Turning-ST', 'Turning-DT', 'Turning-C', 'Hotspot1', 'Hotspot1-C',\n",
       "       'Hotspot2', 'Hotspot2-C', 'MB6'], dtype=object)"
      ]
     },
     "execution_count": 15,
     "metadata": {},
     "output_type": "execute_result"
    }
   ],
   "source": [
    "#checking the different types of tasks the subjects performed\n",
    "tasks['Task'].unique()"
   ]
  },
  {
   "cell_type": "code",
   "execution_count": 16,
   "id": "ca36a250",
   "metadata": {},
   "outputs": [],
   "source": [
    "#Getting the time it took a patient to perform a task\n",
    "tasks['Length'] = tasks['End'] - tasks['Begin']"
   ]
  },
  {
   "cell_type": "code",
   "execution_count": 17,
   "id": "d4e0decf",
   "metadata": {},
   "outputs": [
    {
     "data": {
      "text/html": [
       "<div>\n",
       "<style scoped>\n",
       "    .dataframe tbody tr th:only-of-type {\n",
       "        vertical-align: middle;\n",
       "    }\n",
       "\n",
       "    .dataframe tbody tr th {\n",
       "        vertical-align: top;\n",
       "    }\n",
       "\n",
       "    .dataframe thead th {\n",
       "        text-align: right;\n",
       "    }\n",
       "</style>\n",
       "<table border=\"1\" class=\"dataframe\">\n",
       "  <thead>\n",
       "    <tr style=\"text-align: right;\">\n",
       "      <th></th>\n",
       "      <th>Id</th>\n",
       "      <th>Begin</th>\n",
       "      <th>End</th>\n",
       "      <th>Task</th>\n",
       "      <th>Length</th>\n",
       "    </tr>\n",
       "  </thead>\n",
       "  <tbody>\n",
       "    <tr>\n",
       "      <th>0</th>\n",
       "      <td>02ab235146</td>\n",
       "      <td>10.00</td>\n",
       "      <td>190.48</td>\n",
       "      <td>Rest1</td>\n",
       "      <td>180.48</td>\n",
       "    </tr>\n",
       "    <tr>\n",
       "      <th>1</th>\n",
       "      <td>02ab235146</td>\n",
       "      <td>211.24</td>\n",
       "      <td>271.56</td>\n",
       "      <td>Rest2</td>\n",
       "      <td>60.32</td>\n",
       "    </tr>\n",
       "    <tr>\n",
       "      <th>2</th>\n",
       "      <td>02ab235146</td>\n",
       "      <td>505.88</td>\n",
       "      <td>522.40</td>\n",
       "      <td>4MW</td>\n",
       "      <td>16.52</td>\n",
       "    </tr>\n",
       "    <tr>\n",
       "      <th>3</th>\n",
       "      <td>02ab235146</td>\n",
       "      <td>577.96</td>\n",
       "      <td>594.64</td>\n",
       "      <td>4MW-C</td>\n",
       "      <td>16.68</td>\n",
       "    </tr>\n",
       "    <tr>\n",
       "      <th>4</th>\n",
       "      <td>02ab235146</td>\n",
       "      <td>701.32</td>\n",
       "      <td>715.28</td>\n",
       "      <td>MB1</td>\n",
       "      <td>13.96</td>\n",
       "    </tr>\n",
       "  </tbody>\n",
       "</table>\n",
       "</div>"
      ],
      "text/plain": [
       "           Id   Begin     End   Task  Length\n",
       "0  02ab235146   10.00  190.48  Rest1  180.48\n",
       "1  02ab235146  211.24  271.56  Rest2   60.32\n",
       "2  02ab235146  505.88  522.40    4MW   16.52\n",
       "3  02ab235146  577.96  594.64  4MW-C   16.68\n",
       "4  02ab235146  701.32  715.28    MB1   13.96"
      ]
     },
     "execution_count": 17,
     "metadata": {},
     "output_type": "execute_result"
    }
   ],
   "source": [
    "tasks.head()"
   ]
  },
  {
   "cell_type": "code",
   "execution_count": 18,
   "id": "5447a44a",
   "metadata": {},
   "outputs": [
    {
     "data": {
      "text/plain": [
       "Task\n",
       "4MW            16.742168\n",
       "4MW-C          18.444077\n",
       "Hotspot1       19.805146\n",
       "Hotspot1-C     19.661356\n",
       "Hotspot2       57.677015\n",
       "Hotspot2-C     57.270153\n",
       "MB1             5.218015\n",
       "MB10           12.152212\n",
       "MB11           10.900179\n",
       "MB12            7.263586\n",
       "MB13            8.758779\n",
       "MB2a            6.845810\n",
       "MB2b            6.760318\n",
       "MB3-L          13.335517\n",
       "MB3-R          12.237815\n",
       "MB4             3.902638\n",
       "MB5             4.530712\n",
       "MB6             4.023333\n",
       "MB6-L           4.158355\n",
       "MB6-R           4.162885\n",
       "MB7            30.991477\n",
       "MB8            21.458338\n",
       "MB9            30.580231\n",
       "Rest1         178.256378\n",
       "Rest2          60.590000\n",
       "TUG-C          19.021294\n",
       "TUG-DT         22.462824\n",
       "TUG-ST         16.011014\n",
       "Turning-C      52.903918\n",
       "Turning-DT     72.360219\n",
       "Turning-ST     56.416672\n",
       "Name: Length, dtype: float64"
      ]
     },
     "execution_count": 18,
     "metadata": {},
     "output_type": "execute_result"
    }
   ],
   "source": [
    "#Checking the average time each task takes a patient\n",
    "tasks.groupby('Task')['Length'].mean()"
   ]
  },
  {
   "cell_type": "code",
   "execution_count": 19,
   "id": "277674a7",
   "metadata": {},
   "outputs": [
    {
     "data": {
      "text/html": [
       "<div>\n",
       "<style scoped>\n",
       "    .dataframe tbody tr th:only-of-type {\n",
       "        vertical-align: middle;\n",
       "    }\n",
       "\n",
       "    .dataframe tbody tr th {\n",
       "        vertical-align: top;\n",
       "    }\n",
       "\n",
       "    .dataframe thead th {\n",
       "        text-align: right;\n",
       "    }\n",
       "</style>\n",
       "<table border=\"1\" class=\"dataframe\">\n",
       "  <thead>\n",
       "    <tr style=\"text-align: right;\">\n",
       "      <th></th>\n",
       "      <th>Id</th>\n",
       "      <th>Subject</th>\n",
       "      <th>Visit</th>\n",
       "      <th>Medication</th>\n",
       "    </tr>\n",
       "  </thead>\n",
       "  <tbody>\n",
       "    <tr>\n",
       "      <th>0</th>\n",
       "      <td>02ab235146</td>\n",
       "      <td>ab54e1</td>\n",
       "      <td>2</td>\n",
       "      <td>on</td>\n",
       "    </tr>\n",
       "    <tr>\n",
       "      <th>1</th>\n",
       "      <td>02ea782681</td>\n",
       "      <td>bf608b</td>\n",
       "      <td>2</td>\n",
       "      <td>on</td>\n",
       "    </tr>\n",
       "    <tr>\n",
       "      <th>2</th>\n",
       "      <td>06414383cf</td>\n",
       "      <td>c0b71e</td>\n",
       "      <td>2</td>\n",
       "      <td>off</td>\n",
       "    </tr>\n",
       "    <tr>\n",
       "      <th>3</th>\n",
       "      <td>092b4c1819</td>\n",
       "      <td>b6a627</td>\n",
       "      <td>1</td>\n",
       "      <td>off</td>\n",
       "    </tr>\n",
       "    <tr>\n",
       "      <th>4</th>\n",
       "      <td>0a900ed8a2</td>\n",
       "      <td>b7bd52</td>\n",
       "      <td>2</td>\n",
       "      <td>on</td>\n",
       "    </tr>\n",
       "  </tbody>\n",
       "</table>\n",
       "</div>"
      ],
      "text/plain": [
       "           Id Subject  Visit Medication\n",
       "0  02ab235146  ab54e1      2         on\n",
       "1  02ea782681  bf608b      2         on\n",
       "2  06414383cf  c0b71e      2        off\n",
       "3  092b4c1819  b6a627      1        off\n",
       "4  0a900ed8a2  b7bd52      2         on"
      ]
     },
     "execution_count": 19,
     "metadata": {},
     "output_type": "execute_result"
    }
   ],
   "source": [
    "#Checking defog data\n",
    "defog.head()"
   ]
  },
  {
   "cell_type": "code",
   "execution_count": 20,
   "id": "18d31e61",
   "metadata": {},
   "outputs": [
    {
     "name": "stderr",
     "output_type": "stream",
     "text": [
      "C:\\Users\\colli\\anaconda3\\lib\\site-packages\\seaborn\\_decorators.py:36: FutureWarning: Pass the following variable as a keyword arg: x. From version 0.12, the only valid positional argument will be `data`, and passing other arguments without an explicit keyword will result in an error or misinterpretation.\n",
      "  warnings.warn(\n"
     ]
    },
    {
     "data": {
      "text/plain": [
       "<AxesSubplot:xlabel='Visit', ylabel='count'>"
      ]
     },
     "execution_count": 20,
     "metadata": {},
     "output_type": "execute_result"
    },
    {
     "data": {
      "image/png": "[encoded data removed]",
      "text/plain": [
       "<Figure size 432x288 with 1 Axes>"
      ]
     },
     "metadata": {
      "needs_background": "light"
     },
     "output_type": "display_data"
    }
   ],
   "source": [
    "#checking the number of visits\n",
    "sns.countplot(defog['Visit'])"
   ]
  },
  {
   "cell_type": "code",
   "execution_count": 21,
   "id": "e1093653",
   "metadata": {},
   "outputs": [
    {
     "name": "stderr",
     "output_type": "stream",
     "text": [
      "C:\\Users\\colli\\anaconda3\\lib\\site-packages\\seaborn\\_decorators.py:36: FutureWarning: Pass the following variable as a keyword arg: x. From version 0.12, the only valid positional argument will be `data`, and passing other arguments without an explicit keyword will result in an error or misinterpretation.\n",
      "  warnings.warn(\n"
     ]
    },
    {
     "data": {
      "text/plain": [
       "<AxesSubplot:xlabel='Medication', ylabel='count'>"
      ]
     },
     "execution_count": 21,
     "metadata": {},
     "output_type": "execute_result"
    },
    {
     "data": {
      "image/png": "[encoded data removed]",
      "text/plain": [
       "<Figure size 432x288 with 1 Axes>"
      ]
     },
     "metadata": {
      "needs_background": "light"
     },
     "output_type": "display_data"
    }
   ],
   "source": [
    "#Checking how many subjects were on or off medication\n",
    "sns.countplot(defog['Medication'])"
   ]
  },
  {
   "cell_type": "code",
   "execution_count": 22,
   "id": "592e52e0",
   "metadata": {},
   "outputs": [
    {
     "data": {
      "text/html": [
       "<div>\n",
       "<style scoped>\n",
       "    .dataframe tbody tr th:only-of-type {\n",
       "        vertical-align: middle;\n",
       "    }\n",
       "\n",
       "    .dataframe tbody tr th {\n",
       "        vertical-align: top;\n",
       "    }\n",
       "\n",
       "    .dataframe thead th {\n",
       "        text-align: right;\n",
       "    }\n",
       "</style>\n",
       "<table border=\"1\" class=\"dataframe\">\n",
       "  <thead>\n",
       "    <tr style=\"text-align: right;\">\n",
       "      <th></th>\n",
       "      <th>Id</th>\n",
       "      <th>Subject</th>\n",
       "      <th>Visit</th>\n",
       "      <th>Test</th>\n",
       "      <th>Medication</th>\n",
       "    </tr>\n",
       "  </thead>\n",
       "  <tbody>\n",
       "    <tr>\n",
       "      <th>0</th>\n",
       "      <td>003f117e14</td>\n",
       "      <td>13abfd</td>\n",
       "      <td>3</td>\n",
       "      <td>2</td>\n",
       "      <td>on</td>\n",
       "    </tr>\n",
       "    <tr>\n",
       "      <th>1</th>\n",
       "      <td>009ee11563</td>\n",
       "      <td>d81e3a</td>\n",
       "      <td>4</td>\n",
       "      <td>2</td>\n",
       "      <td>on</td>\n",
       "    </tr>\n",
       "    <tr>\n",
       "      <th>2</th>\n",
       "      <td>011322847a</td>\n",
       "      <td>203e85</td>\n",
       "      <td>2</td>\n",
       "      <td>2</td>\n",
       "      <td>on</td>\n",
       "    </tr>\n",
       "    <tr>\n",
       "      <th>3</th>\n",
       "      <td>01d0fe7266</td>\n",
       "      <td>203e85</td>\n",
       "      <td>2</td>\n",
       "      <td>1</td>\n",
       "      <td>off</td>\n",
       "    </tr>\n",
       "    <tr>\n",
       "      <th>4</th>\n",
       "      <td>024418ba39</td>\n",
       "      <td>cecfb8</td>\n",
       "      <td>19</td>\n",
       "      <td>3</td>\n",
       "      <td>on</td>\n",
       "    </tr>\n",
       "  </tbody>\n",
       "</table>\n",
       "</div>"
      ],
      "text/plain": [
       "           Id Subject  Visit  Test Medication\n",
       "0  003f117e14  13abfd      3     2         on\n",
       "1  009ee11563  d81e3a      4     2         on\n",
       "2  011322847a  203e85      2     2         on\n",
       "3  01d0fe7266  203e85      2     1        off\n",
       "4  024418ba39  cecfb8     19     3         on"
      ]
     },
     "execution_count": 22,
     "metadata": {},
     "output_type": "execute_result"
    }
   ],
   "source": [
    "#Checking Meta dataset\n",
    "meta.head()"
   ]
  },
  {
   "cell_type": "code",
   "execution_count": 23,
   "id": "af92ce9d",
   "metadata": {},
   "outputs": [],
   "source": [
    "#Building a joined dataset to have subject information added to defog data where events were performed at home\n",
    "join_df = pd.merge(defog, subjects, how='left', on='Subject').fillna(-1)"
   ]
  },
  {
   "cell_type": "code",
   "execution_count": 24,
   "id": "68516c55",
   "metadata": {},
   "outputs": [
    {
     "data": {
      "text/html": [
       "<div>\n",
       "<style scoped>\n",
       "    .dataframe tbody tr th:only-of-type {\n",
       "        vertical-align: middle;\n",
       "    }\n",
       "\n",
       "    .dataframe tbody tr th {\n",
       "        vertical-align: top;\n",
       "    }\n",
       "\n",
       "    .dataframe thead th {\n",
       "        text-align: right;\n",
       "    }\n",
       "</style>\n",
       "<table border=\"1\" class=\"dataframe\">\n",
       "  <thead>\n",
       "    <tr style=\"text-align: right;\">\n",
       "      <th></th>\n",
       "      <th>Id</th>\n",
       "      <th>Subject</th>\n",
       "      <th>Visit_x</th>\n",
       "      <th>Medication</th>\n",
       "      <th>Visit_y</th>\n",
       "      <th>Age</th>\n",
       "      <th>Sex</th>\n",
       "      <th>YearsSinceDx</th>\n",
       "      <th>UPDRSIII_On</th>\n",
       "      <th>UPDRSIII_Off</th>\n",
       "      <th>NFOGQ</th>\n",
       "    </tr>\n",
       "  </thead>\n",
       "  <tbody>\n",
       "    <tr>\n",
       "      <th>0</th>\n",
       "      <td>02ab235146</td>\n",
       "      <td>ab54e1</td>\n",
       "      <td>2</td>\n",
       "      <td>on</td>\n",
       "      <td>1.0</td>\n",
       "      <td>79</td>\n",
       "      <td>F</td>\n",
       "      <td>8.0</td>\n",
       "      <td>52.0</td>\n",
       "      <td>55.0</td>\n",
       "      <td>28</td>\n",
       "    </tr>\n",
       "    <tr>\n",
       "      <th>1</th>\n",
       "      <td>02ab235146</td>\n",
       "      <td>ab54e1</td>\n",
       "      <td>2</td>\n",
       "      <td>on</td>\n",
       "      <td>2.0</td>\n",
       "      <td>79</td>\n",
       "      <td>F</td>\n",
       "      <td>8.0</td>\n",
       "      <td>38.0</td>\n",
       "      <td>64.0</td>\n",
       "      <td>28</td>\n",
       "    </tr>\n",
       "    <tr>\n",
       "      <th>2</th>\n",
       "      <td>02ea782681</td>\n",
       "      <td>bf608b</td>\n",
       "      <td>2</td>\n",
       "      <td>on</td>\n",
       "      <td>1.0</td>\n",
       "      <td>67</td>\n",
       "      <td>M</td>\n",
       "      <td>7.0</td>\n",
       "      <td>15.0</td>\n",
       "      <td>48.0</td>\n",
       "      <td>23</td>\n",
       "    </tr>\n",
       "    <tr>\n",
       "      <th>3</th>\n",
       "      <td>02ea782681</td>\n",
       "      <td>bf608b</td>\n",
       "      <td>2</td>\n",
       "      <td>on</td>\n",
       "      <td>2.0</td>\n",
       "      <td>67</td>\n",
       "      <td>M</td>\n",
       "      <td>7.0</td>\n",
       "      <td>14.0</td>\n",
       "      <td>57.0</td>\n",
       "      <td>19</td>\n",
       "    </tr>\n",
       "    <tr>\n",
       "      <th>4</th>\n",
       "      <td>06414383cf</td>\n",
       "      <td>c0b71e</td>\n",
       "      <td>2</td>\n",
       "      <td>off</td>\n",
       "      <td>1.0</td>\n",
       "      <td>61</td>\n",
       "      <td>F</td>\n",
       "      <td>7.0</td>\n",
       "      <td>45.0</td>\n",
       "      <td>52.0</td>\n",
       "      <td>22</td>\n",
       "    </tr>\n",
       "  </tbody>\n",
       "</table>\n",
       "</div>"
      ],
      "text/plain": [
       "           Id Subject  Visit_x Medication  Visit_y  Age Sex  YearsSinceDx  \\\n",
       "0  02ab235146  ab54e1        2         on      1.0   79   F           8.0   \n",
       "1  02ab235146  ab54e1        2         on      2.0   79   F           8.0   \n",
       "2  02ea782681  bf608b        2         on      1.0   67   M           7.0   \n",
       "3  02ea782681  bf608b        2         on      2.0   67   M           7.0   \n",
       "4  06414383cf  c0b71e        2        off      1.0   61   F           7.0   \n",
       "\n",
       "   UPDRSIII_On  UPDRSIII_Off  NFOGQ  \n",
       "0         52.0          55.0     28  \n",
       "1         38.0          64.0     28  \n",
       "2         15.0          48.0     23  \n",
       "3         14.0          57.0     19  \n",
       "4         45.0          52.0     22  "
      ]
     },
     "execution_count": 24,
     "metadata": {},
     "output_type": "execute_result"
    }
   ],
   "source": [
    "join_df.head()"
   ]
  },
  {
   "cell_type": "code",
   "execution_count": 25,
   "id": "797f1850",
   "metadata": {},
   "outputs": [],
   "source": [
    "#creating a 2nd dataset where events were performed in lab\n",
    "join_df2 = pd.merge(meta, subjects, how='left', on='Subject').fillna(-1)"
   ]
  },
  {
   "cell_type": "code",
   "execution_count": 26,
   "id": "c0934fcf",
   "metadata": {},
   "outputs": [
    {
     "data": {
      "text/html": [
       "<div>\n",
       "<style scoped>\n",
       "    .dataframe tbody tr th:only-of-type {\n",
       "        vertical-align: middle;\n",
       "    }\n",
       "\n",
       "    .dataframe tbody tr th {\n",
       "        vertical-align: top;\n",
       "    }\n",
       "\n",
       "    .dataframe thead th {\n",
       "        text-align: right;\n",
       "    }\n",
       "</style>\n",
       "<table border=\"1\" class=\"dataframe\">\n",
       "  <thead>\n",
       "    <tr style=\"text-align: right;\">\n",
       "      <th></th>\n",
       "      <th>Id</th>\n",
       "      <th>Subject</th>\n",
       "      <th>Visit_x</th>\n",
       "      <th>Test</th>\n",
       "      <th>Medication</th>\n",
       "      <th>Visit_y</th>\n",
       "      <th>Age</th>\n",
       "      <th>Sex</th>\n",
       "      <th>YearsSinceDx</th>\n",
       "      <th>UPDRSIII_On</th>\n",
       "      <th>UPDRSIII_Off</th>\n",
       "      <th>NFOGQ</th>\n",
       "    </tr>\n",
       "  </thead>\n",
       "  <tbody>\n",
       "    <tr>\n",
       "      <th>0</th>\n",
       "      <td>003f117e14</td>\n",
       "      <td>13abfd</td>\n",
       "      <td>3</td>\n",
       "      <td>2</td>\n",
       "      <td>on</td>\n",
       "      <td>-1.0</td>\n",
       "      <td>68</td>\n",
       "      <td>F</td>\n",
       "      <td>9.0</td>\n",
       "      <td>17.0</td>\n",
       "      <td>15.0</td>\n",
       "      <td>15</td>\n",
       "    </tr>\n",
       "    <tr>\n",
       "      <th>1</th>\n",
       "      <td>009ee11563</td>\n",
       "      <td>d81e3a</td>\n",
       "      <td>4</td>\n",
       "      <td>2</td>\n",
       "      <td>on</td>\n",
       "      <td>-1.0</td>\n",
       "      <td>71</td>\n",
       "      <td>M</td>\n",
       "      <td>10.0</td>\n",
       "      <td>42.0</td>\n",
       "      <td>-1.0</td>\n",
       "      <td>24</td>\n",
       "    </tr>\n",
       "    <tr>\n",
       "      <th>2</th>\n",
       "      <td>011322847a</td>\n",
       "      <td>203e85</td>\n",
       "      <td>2</td>\n",
       "      <td>2</td>\n",
       "      <td>on</td>\n",
       "      <td>-1.0</td>\n",
       "      <td>67</td>\n",
       "      <td>M</td>\n",
       "      <td>12.0</td>\n",
       "      <td>27.0</td>\n",
       "      <td>28.0</td>\n",
       "      <td>19</td>\n",
       "    </tr>\n",
       "    <tr>\n",
       "      <th>3</th>\n",
       "      <td>01d0fe7266</td>\n",
       "      <td>203e85</td>\n",
       "      <td>2</td>\n",
       "      <td>1</td>\n",
       "      <td>off</td>\n",
       "      <td>-1.0</td>\n",
       "      <td>67</td>\n",
       "      <td>M</td>\n",
       "      <td>12.0</td>\n",
       "      <td>27.0</td>\n",
       "      <td>28.0</td>\n",
       "      <td>19</td>\n",
       "    </tr>\n",
       "    <tr>\n",
       "      <th>4</th>\n",
       "      <td>024418ba39</td>\n",
       "      <td>cecfb8</td>\n",
       "      <td>19</td>\n",
       "      <td>3</td>\n",
       "      <td>on</td>\n",
       "      <td>-1.0</td>\n",
       "      <td>60</td>\n",
       "      <td>F</td>\n",
       "      <td>7.0</td>\n",
       "      <td>30.0</td>\n",
       "      <td>-1.0</td>\n",
       "      <td>19</td>\n",
       "    </tr>\n",
       "  </tbody>\n",
       "</table>\n",
       "</div>"
      ],
      "text/plain": [
       "           Id Subject  Visit_x  Test Medication  Visit_y  Age Sex  \\\n",
       "0  003f117e14  13abfd        3     2         on     -1.0   68   F   \n",
       "1  009ee11563  d81e3a        4     2         on     -1.0   71   M   \n",
       "2  011322847a  203e85        2     2         on     -1.0   67   M   \n",
       "3  01d0fe7266  203e85        2     1        off     -1.0   67   M   \n",
       "4  024418ba39  cecfb8       19     3         on     -1.0   60   F   \n",
       "\n",
       "   YearsSinceDx  UPDRSIII_On  UPDRSIII_Off  NFOGQ  \n",
       "0           9.0         17.0          15.0     15  \n",
       "1          10.0         42.0          -1.0     24  \n",
       "2          12.0         27.0          28.0     19  \n",
       "3          12.0         27.0          28.0     19  \n",
       "4           7.0         30.0          -1.0     19  "
      ]
     },
     "execution_count": 26,
     "metadata": {},
     "output_type": "execute_result"
    }
   ],
   "source": [
    "join_df2.head()"
   ]
  },
  {
   "cell_type": "code",
   "execution_count": 27,
   "id": "882ffecd",
   "metadata": {},
   "outputs": [],
   "source": [
    "#Shrinking memory usage by changing datatype to smaller version\n",
    "cols1 = ['Visit_x', 'YearsSinceDx','NFOGQ']\n",
    "join_df[cols1] = join_df[cols1].astype('int8')"
   ]
  },
  {
   "cell_type": "code",
   "execution_count": 28,
   "id": "85fb42fe",
   "metadata": {},
   "outputs": [],
   "source": [
    "#Shrinking memory usage by changing datatype to smaller version\n",
    "cols2 = ['Visit_y', 'YearsSinceDx','UPDRSIII_On','UPDRSIII_Off']\n",
    "join_df[cols2] = join_df[cols2].astype('float16')"
   ]
  },
  {
   "cell_type": "code",
   "execution_count": 29,
   "id": "8b068802",
   "metadata": {},
   "outputs": [],
   "source": [
    "#Shrinking memory usage by changing datatype to smaller version\n",
    "join_df2[cols1] = join_df2[cols1].astype('int8')\n",
    "join_df2[cols2] = join_df2[cols2].astype('float16')"
   ]
  },
  {
   "cell_type": "code",
   "execution_count": 30,
   "id": "a535fef1",
   "metadata": {},
   "outputs": [
    {
     "name": "stdout",
     "output_type": "stream",
     "text": [
      "<class 'pandas.core.frame.DataFrame'>\n",
      "Int64Index: 250 entries, 0 to 249\n",
      "Data columns (total 11 columns):\n",
      " #   Column        Non-Null Count  Dtype  \n",
      "---  ------        --------------  -----  \n",
      " 0   Id            250 non-null    object \n",
      " 1   Subject       250 non-null    object \n",
      " 2   Visit_x       250 non-null    int8   \n",
      " 3   Medication    250 non-null    object \n",
      " 4   Visit_y       250 non-null    float16\n",
      " 5   Age           250 non-null    int64  \n",
      " 6   Sex           250 non-null    object \n",
      " 7   YearsSinceDx  250 non-null    float16\n",
      " 8   UPDRSIII_On   250 non-null    float16\n",
      " 9   UPDRSIII_Off  250 non-null    float16\n",
      " 10  NFOGQ         250 non-null    int8   \n",
      "dtypes: float16(4), int64(1), int8(2), object(4)\n",
      "memory usage: 14.2+ KB\n"
     ]
    }
   ],
   "source": [
    "join_df.info()"
   ]
  },
  {
   "cell_type": "code",
   "execution_count": 31,
   "id": "592383b9",
   "metadata": {},
   "outputs": [
    {
     "data": {
      "text/html": [
       "<div>\n",
       "<style scoped>\n",
       "    .dataframe tbody tr th:only-of-type {\n",
       "        vertical-align: middle;\n",
       "    }\n",
       "\n",
       "    .dataframe tbody tr th {\n",
       "        vertical-align: top;\n",
       "    }\n",
       "\n",
       "    .dataframe thead th {\n",
       "        text-align: right;\n",
       "    }\n",
       "</style>\n",
       "<table border=\"1\" class=\"dataframe\">\n",
       "  <thead>\n",
       "    <tr style=\"text-align: right;\">\n",
       "      <th></th>\n",
       "      <th>Id</th>\n",
       "      <th>Init</th>\n",
       "      <th>Completion</th>\n",
       "      <th>Type</th>\n",
       "      <th>Kinetic</th>\n",
       "    </tr>\n",
       "  </thead>\n",
       "  <tbody>\n",
       "    <tr>\n",
       "      <th>0</th>\n",
       "      <td>003f117e14</td>\n",
       "      <td>8.61312</td>\n",
       "      <td>14.7731</td>\n",
       "      <td>Turn</td>\n",
       "      <td>1.0</td>\n",
       "    </tr>\n",
       "    <tr>\n",
       "      <th>1</th>\n",
       "      <td>009ee11563</td>\n",
       "      <td>11.38470</td>\n",
       "      <td>41.1847</td>\n",
       "      <td>Turn</td>\n",
       "      <td>1.0</td>\n",
       "    </tr>\n",
       "    <tr>\n",
       "      <th>2</th>\n",
       "      <td>009ee11563</td>\n",
       "      <td>54.66470</td>\n",
       "      <td>58.7847</td>\n",
       "      <td>Turn</td>\n",
       "      <td>1.0</td>\n",
       "    </tr>\n",
       "    <tr>\n",
       "      <th>3</th>\n",
       "      <td>011322847a</td>\n",
       "      <td>28.09660</td>\n",
       "      <td>30.2966</td>\n",
       "      <td>Turn</td>\n",
       "      <td>1.0</td>\n",
       "    </tr>\n",
       "    <tr>\n",
       "      <th>4</th>\n",
       "      <td>01d0fe7266</td>\n",
       "      <td>30.31840</td>\n",
       "      <td>31.8784</td>\n",
       "      <td>Turn</td>\n",
       "      <td>1.0</td>\n",
       "    </tr>\n",
       "  </tbody>\n",
       "</table>\n",
       "</div>"
      ],
      "text/plain": [
       "           Id      Init  Completion  Type  Kinetic\n",
       "0  003f117e14   8.61312     14.7731  Turn      1.0\n",
       "1  009ee11563  11.38470     41.1847  Turn      1.0\n",
       "2  009ee11563  54.66470     58.7847  Turn      1.0\n",
       "3  011322847a  28.09660     30.2966  Turn      1.0\n",
       "4  01d0fe7266  30.31840     31.8784  Turn      1.0"
      ]
     },
     "execution_count": 31,
     "metadata": {},
     "output_type": "execute_result"
    }
   ],
   "source": [
    "events.head()"
   ]
  },
  {
   "cell_type": "code",
   "execution_count": 32,
   "id": "a9052e57",
   "metadata": {},
   "outputs": [],
   "source": [
    "#Adding events to at home dataset\n",
    "join_df3 = pd.merge(join_df, events, how='left', on='Id').fillna(-1)"
   ]
  },
  {
   "cell_type": "code",
   "execution_count": 33,
   "id": "9c215222",
   "metadata": {},
   "outputs": [
    {
     "data": {
      "text/html": [
       "<div>\n",
       "<style scoped>\n",
       "    .dataframe tbody tr th:only-of-type {\n",
       "        vertical-align: middle;\n",
       "    }\n",
       "\n",
       "    .dataframe tbody tr th {\n",
       "        vertical-align: top;\n",
       "    }\n",
       "\n",
       "    .dataframe thead th {\n",
       "        text-align: right;\n",
       "    }\n",
       "</style>\n",
       "<table border=\"1\" class=\"dataframe\">\n",
       "  <thead>\n",
       "    <tr style=\"text-align: right;\">\n",
       "      <th></th>\n",
       "      <th>Id</th>\n",
       "      <th>Subject</th>\n",
       "      <th>Visit_x</th>\n",
       "      <th>Medication</th>\n",
       "      <th>Visit_y</th>\n",
       "      <th>Age</th>\n",
       "      <th>Sex</th>\n",
       "      <th>YearsSinceDx</th>\n",
       "      <th>UPDRSIII_On</th>\n",
       "      <th>UPDRSIII_Off</th>\n",
       "      <th>NFOGQ</th>\n",
       "      <th>Init</th>\n",
       "      <th>Completion</th>\n",
       "      <th>Type</th>\n",
       "      <th>Kinetic</th>\n",
       "    </tr>\n",
       "  </thead>\n",
       "  <tbody>\n",
       "    <tr>\n",
       "      <th>0</th>\n",
       "      <td>02ab235146</td>\n",
       "      <td>ab54e1</td>\n",
       "      <td>2</td>\n",
       "      <td>on</td>\n",
       "      <td>1.0</td>\n",
       "      <td>79</td>\n",
       "      <td>F</td>\n",
       "      <td>8.0</td>\n",
       "      <td>52.0</td>\n",
       "      <td>55.0</td>\n",
       "      <td>28</td>\n",
       "      <td>1969.173</td>\n",
       "      <td>1972.535</td>\n",
       "      <td>-1</td>\n",
       "      <td>-1.0</td>\n",
       "    </tr>\n",
       "    <tr>\n",
       "      <th>1</th>\n",
       "      <td>02ab235146</td>\n",
       "      <td>ab54e1</td>\n",
       "      <td>2</td>\n",
       "      <td>on</td>\n",
       "      <td>1.0</td>\n",
       "      <td>79</td>\n",
       "      <td>F</td>\n",
       "      <td>8.0</td>\n",
       "      <td>52.0</td>\n",
       "      <td>55.0</td>\n",
       "      <td>28</td>\n",
       "      <td>2078.982</td>\n",
       "      <td>2080.524</td>\n",
       "      <td>-1</td>\n",
       "      <td>-1.0</td>\n",
       "    </tr>\n",
       "    <tr>\n",
       "      <th>2</th>\n",
       "      <td>02ab235146</td>\n",
       "      <td>ab54e1</td>\n",
       "      <td>2</td>\n",
       "      <td>on</td>\n",
       "      <td>1.0</td>\n",
       "      <td>79</td>\n",
       "      <td>F</td>\n",
       "      <td>8.0</td>\n",
       "      <td>52.0</td>\n",
       "      <td>55.0</td>\n",
       "      <td>28</td>\n",
       "      <td>2290.606</td>\n",
       "      <td>2291.952</td>\n",
       "      <td>-1</td>\n",
       "      <td>-1.0</td>\n",
       "    </tr>\n",
       "    <tr>\n",
       "      <th>3</th>\n",
       "      <td>02ab235146</td>\n",
       "      <td>ab54e1</td>\n",
       "      <td>2</td>\n",
       "      <td>on</td>\n",
       "      <td>1.0</td>\n",
       "      <td>79</td>\n",
       "      <td>F</td>\n",
       "      <td>8.0</td>\n",
       "      <td>52.0</td>\n",
       "      <td>55.0</td>\n",
       "      <td>28</td>\n",
       "      <td>2704.292</td>\n",
       "      <td>2704.770</td>\n",
       "      <td>-1</td>\n",
       "      <td>-1.0</td>\n",
       "    </tr>\n",
       "    <tr>\n",
       "      <th>4</th>\n",
       "      <td>02ab235146</td>\n",
       "      <td>ab54e1</td>\n",
       "      <td>2</td>\n",
       "      <td>on</td>\n",
       "      <td>1.0</td>\n",
       "      <td>79</td>\n",
       "      <td>F</td>\n",
       "      <td>8.0</td>\n",
       "      <td>52.0</td>\n",
       "      <td>55.0</td>\n",
       "      <td>28</td>\n",
       "      <td>2785.534</td>\n",
       "      <td>2785.774</td>\n",
       "      <td>-1</td>\n",
       "      <td>-1.0</td>\n",
       "    </tr>\n",
       "  </tbody>\n",
       "</table>\n",
       "</div>"
      ],
      "text/plain": [
       "           Id Subject  Visit_x Medication  Visit_y  Age Sex  YearsSinceDx  \\\n",
       "0  02ab235146  ab54e1        2         on      1.0   79   F           8.0   \n",
       "1  02ab235146  ab54e1        2         on      1.0   79   F           8.0   \n",
       "2  02ab235146  ab54e1        2         on      1.0   79   F           8.0   \n",
       "3  02ab235146  ab54e1        2         on      1.0   79   F           8.0   \n",
       "4  02ab235146  ab54e1        2         on      1.0   79   F           8.0   \n",
       "\n",
       "   UPDRSIII_On  UPDRSIII_Off  NFOGQ      Init  Completion Type  Kinetic  \n",
       "0         52.0          55.0     28  1969.173    1972.535   -1     -1.0  \n",
       "1         52.0          55.0     28  2078.982    2080.524   -1     -1.0  \n",
       "2         52.0          55.0     28  2290.606    2291.952   -1     -1.0  \n",
       "3         52.0          55.0     28  2704.292    2704.770   -1     -1.0  \n",
       "4         52.0          55.0     28  2785.534    2785.774   -1     -1.0  "
      ]
     },
     "execution_count": 33,
     "metadata": {},
     "output_type": "execute_result"
    }
   ],
   "source": [
    "join_df3.head()"
   ]
  },
  {
   "cell_type": "code",
   "execution_count": 34,
   "id": "3bcdd993",
   "metadata": {},
   "outputs": [],
   "source": [
    "#adding events to at lab dataset\n",
    "join_df4 = pd.merge(join_df2, events, how='left', on='Id').fillna(-1)"
   ]
  },
  {
   "cell_type": "code",
   "execution_count": 35,
   "id": "30eca218",
   "metadata": {
    "scrolled": true
   },
   "outputs": [
    {
     "name": "stdout",
     "output_type": "stream",
     "text": [
      "<class 'pandas.core.frame.DataFrame'>\n",
      "Int64Index: 1627 entries, 0 to 1626\n",
      "Data columns (total 16 columns):\n",
      " #   Column        Non-Null Count  Dtype  \n",
      "---  ------        --------------  -----  \n",
      " 0   Id            1627 non-null   object \n",
      " 1   Subject       1627 non-null   object \n",
      " 2   Visit_x       1627 non-null   int8   \n",
      " 3   Test          1627 non-null   int64  \n",
      " 4   Medication    1627 non-null   object \n",
      " 5   Visit_y       1627 non-null   float16\n",
      " 6   Age           1627 non-null   int64  \n",
      " 7   Sex           1627 non-null   object \n",
      " 8   YearsSinceDx  1627 non-null   float16\n",
      " 9   UPDRSIII_On   1627 non-null   float16\n",
      " 10  UPDRSIII_Off  1627 non-null   float16\n",
      " 11  NFOGQ         1627 non-null   int8   \n",
      " 12  Init          1627 non-null   float64\n",
      " 13  Completion    1627 non-null   float64\n",
      " 14  Type          1627 non-null   object \n",
      " 15  Kinetic       1627 non-null   float64\n",
      "dtypes: float16(4), float64(3), int64(2), int8(2), object(5)\n",
      "memory usage: 155.7+ KB\n"
     ]
    }
   ],
   "source": [
    "join_df4.info()"
   ]
  },
  {
   "cell_type": "code",
   "execution_count": 36,
   "id": "b59a29f5",
   "metadata": {},
   "outputs": [],
   "source": [
    "#Getting rid of duplicate info between joined datasets\n",
    "join_df3 = join_df3.drop(join_df3['Visit_y'])"
   ]
  },
  {
   "cell_type": "code",
   "execution_count": 37,
   "id": "e1dd3fe1",
   "metadata": {
    "scrolled": true
   },
   "outputs": [
    {
     "data": {
      "text/html": [
       "<div>\n",
       "<style scoped>\n",
       "    .dataframe tbody tr th:only-of-type {\n",
       "        vertical-align: middle;\n",
       "    }\n",
       "\n",
       "    .dataframe tbody tr th {\n",
       "        vertical-align: top;\n",
       "    }\n",
       "\n",
       "    .dataframe thead th {\n",
       "        text-align: right;\n",
       "    }\n",
       "</style>\n",
       "<table border=\"1\" class=\"dataframe\">\n",
       "  <thead>\n",
       "    <tr style=\"text-align: right;\">\n",
       "      <th></th>\n",
       "      <th>Id</th>\n",
       "      <th>Subject</th>\n",
       "      <th>Visit_x</th>\n",
       "      <th>Medication</th>\n",
       "      <th>Visit_y</th>\n",
       "      <th>Age</th>\n",
       "      <th>Sex</th>\n",
       "      <th>YearsSinceDx</th>\n",
       "      <th>UPDRSIII_On</th>\n",
       "      <th>UPDRSIII_Off</th>\n",
       "      <th>NFOGQ</th>\n",
       "      <th>Init</th>\n",
       "      <th>Completion</th>\n",
       "      <th>Type</th>\n",
       "      <th>Kinetic</th>\n",
       "    </tr>\n",
       "  </thead>\n",
       "  <tbody>\n",
       "    <tr>\n",
       "      <th>0</th>\n",
       "      <td>02ab235146</td>\n",
       "      <td>ab54e1</td>\n",
       "      <td>2</td>\n",
       "      <td>on</td>\n",
       "      <td>1.0</td>\n",
       "      <td>79</td>\n",
       "      <td>F</td>\n",
       "      <td>8.0</td>\n",
       "      <td>52.0</td>\n",
       "      <td>55.0</td>\n",
       "      <td>28</td>\n",
       "      <td>1969.173</td>\n",
       "      <td>1972.535</td>\n",
       "      <td>-1</td>\n",
       "      <td>-1.0</td>\n",
       "    </tr>\n",
       "    <tr>\n",
       "      <th>3</th>\n",
       "      <td>02ab235146</td>\n",
       "      <td>ab54e1</td>\n",
       "      <td>2</td>\n",
       "      <td>on</td>\n",
       "      <td>1.0</td>\n",
       "      <td>79</td>\n",
       "      <td>F</td>\n",
       "      <td>8.0</td>\n",
       "      <td>52.0</td>\n",
       "      <td>55.0</td>\n",
       "      <td>28</td>\n",
       "      <td>2704.292</td>\n",
       "      <td>2704.770</td>\n",
       "      <td>-1</td>\n",
       "      <td>-1.0</td>\n",
       "    </tr>\n",
       "    <tr>\n",
       "      <th>4</th>\n",
       "      <td>02ab235146</td>\n",
       "      <td>ab54e1</td>\n",
       "      <td>2</td>\n",
       "      <td>on</td>\n",
       "      <td>1.0</td>\n",
       "      <td>79</td>\n",
       "      <td>F</td>\n",
       "      <td>8.0</td>\n",
       "      <td>52.0</td>\n",
       "      <td>55.0</td>\n",
       "      <td>28</td>\n",
       "      <td>2785.534</td>\n",
       "      <td>2785.774</td>\n",
       "      <td>-1</td>\n",
       "      <td>-1.0</td>\n",
       "    </tr>\n",
       "    <tr>\n",
       "      <th>5</th>\n",
       "      <td>02ab235146</td>\n",
       "      <td>ab54e1</td>\n",
       "      <td>2</td>\n",
       "      <td>on</td>\n",
       "      <td>1.0</td>\n",
       "      <td>79</td>\n",
       "      <td>F</td>\n",
       "      <td>8.0</td>\n",
       "      <td>52.0</td>\n",
       "      <td>55.0</td>\n",
       "      <td>28</td>\n",
       "      <td>2785.786</td>\n",
       "      <td>2786.344</td>\n",
       "      <td>-1</td>\n",
       "      <td>-1.0</td>\n",
       "    </tr>\n",
       "    <tr>\n",
       "      <th>6</th>\n",
       "      <td>02ab235146</td>\n",
       "      <td>ab54e1</td>\n",
       "      <td>2</td>\n",
       "      <td>on</td>\n",
       "      <td>1.0</td>\n",
       "      <td>79</td>\n",
       "      <td>F</td>\n",
       "      <td>8.0</td>\n",
       "      <td>52.0</td>\n",
       "      <td>55.0</td>\n",
       "      <td>28</td>\n",
       "      <td>2827.264</td>\n",
       "      <td>2829.428</td>\n",
       "      <td>-1</td>\n",
       "      <td>-1.0</td>\n",
       "    </tr>\n",
       "  </tbody>\n",
       "</table>\n",
       "</div>"
      ],
      "text/plain": [
       "           Id Subject  Visit_x Medication  Visit_y  Age Sex  YearsSinceDx  \\\n",
       "0  02ab235146  ab54e1        2         on      1.0   79   F           8.0   \n",
       "3  02ab235146  ab54e1        2         on      1.0   79   F           8.0   \n",
       "4  02ab235146  ab54e1        2         on      1.0   79   F           8.0   \n",
       "5  02ab235146  ab54e1        2         on      1.0   79   F           8.0   \n",
       "6  02ab235146  ab54e1        2         on      1.0   79   F           8.0   \n",
       "\n",
       "   UPDRSIII_On  UPDRSIII_Off  NFOGQ      Init  Completion Type  Kinetic  \n",
       "0         52.0          55.0     28  1969.173    1972.535   -1     -1.0  \n",
       "3         52.0          55.0     28  2704.292    2704.770   -1     -1.0  \n",
       "4         52.0          55.0     28  2785.534    2785.774   -1     -1.0  \n",
       "5         52.0          55.0     28  2785.786    2786.344   -1     -1.0  \n",
       "6         52.0          55.0     28  2827.264    2829.428   -1     -1.0  "
      ]
     },
     "execution_count": 37,
     "metadata": {},
     "output_type": "execute_result"
    }
   ],
   "source": [
    "join_df3.head()"
   ]
  },
  {
   "cell_type": "code",
   "execution_count": 38,
   "id": "3bde4945",
   "metadata": {},
   "outputs": [],
   "source": [
    "column_list = ['Id','Subject','Visit_x','Medication','Age','Sex','YearsSinceDx','UPDRSIII_On','UPDRSIII_Off','NFOGQ','Init','Completion','Type','Kinetic']"
   ]
  },
  {
   "cell_type": "code",
   "execution_count": 39,
   "id": "279baba6",
   "metadata": {},
   "outputs": [],
   "source": [
    "#Keeping only necessary columns\n",
    "join_df4 = join_df4[column_list]"
   ]
  },
  {
   "cell_type": "code",
   "execution_count": 40,
   "id": "928ff27c",
   "metadata": {},
   "outputs": [
    {
     "data": {
      "text/html": [
       "<div>\n",
       "<style scoped>\n",
       "    .dataframe tbody tr th:only-of-type {\n",
       "        vertical-align: middle;\n",
       "    }\n",
       "\n",
       "    .dataframe tbody tr th {\n",
       "        vertical-align: top;\n",
       "    }\n",
       "\n",
       "    .dataframe thead th {\n",
       "        text-align: right;\n",
       "    }\n",
       "</style>\n",
       "<table border=\"1\" class=\"dataframe\">\n",
       "  <thead>\n",
       "    <tr style=\"text-align: right;\">\n",
       "      <th></th>\n",
       "      <th>Id</th>\n",
       "      <th>Subject</th>\n",
       "      <th>Visit_x</th>\n",
       "      <th>Medication</th>\n",
       "      <th>Age</th>\n",
       "      <th>Sex</th>\n",
       "      <th>YearsSinceDx</th>\n",
       "      <th>UPDRSIII_On</th>\n",
       "      <th>UPDRSIII_Off</th>\n",
       "      <th>NFOGQ</th>\n",
       "      <th>Init</th>\n",
       "      <th>Completion</th>\n",
       "      <th>Type</th>\n",
       "      <th>Kinetic</th>\n",
       "    </tr>\n",
       "  </thead>\n",
       "  <tbody>\n",
       "    <tr>\n",
       "      <th>0</th>\n",
       "      <td>003f117e14</td>\n",
       "      <td>13abfd</td>\n",
       "      <td>3</td>\n",
       "      <td>on</td>\n",
       "      <td>68</td>\n",
       "      <td>F</td>\n",
       "      <td>9.0</td>\n",
       "      <td>17.0</td>\n",
       "      <td>15.0</td>\n",
       "      <td>15</td>\n",
       "      <td>8.61312</td>\n",
       "      <td>14.7731</td>\n",
       "      <td>Turn</td>\n",
       "      <td>1.0</td>\n",
       "    </tr>\n",
       "    <tr>\n",
       "      <th>1</th>\n",
       "      <td>009ee11563</td>\n",
       "      <td>d81e3a</td>\n",
       "      <td>4</td>\n",
       "      <td>on</td>\n",
       "      <td>71</td>\n",
       "      <td>M</td>\n",
       "      <td>10.0</td>\n",
       "      <td>42.0</td>\n",
       "      <td>-1.0</td>\n",
       "      <td>24</td>\n",
       "      <td>11.38470</td>\n",
       "      <td>41.1847</td>\n",
       "      <td>Turn</td>\n",
       "      <td>1.0</td>\n",
       "    </tr>\n",
       "    <tr>\n",
       "      <th>2</th>\n",
       "      <td>009ee11563</td>\n",
       "      <td>d81e3a</td>\n",
       "      <td>4</td>\n",
       "      <td>on</td>\n",
       "      <td>71</td>\n",
       "      <td>M</td>\n",
       "      <td>10.0</td>\n",
       "      <td>42.0</td>\n",
       "      <td>-1.0</td>\n",
       "      <td>24</td>\n",
       "      <td>54.66470</td>\n",
       "      <td>58.7847</td>\n",
       "      <td>Turn</td>\n",
       "      <td>1.0</td>\n",
       "    </tr>\n",
       "    <tr>\n",
       "      <th>3</th>\n",
       "      <td>011322847a</td>\n",
       "      <td>203e85</td>\n",
       "      <td>2</td>\n",
       "      <td>on</td>\n",
       "      <td>67</td>\n",
       "      <td>M</td>\n",
       "      <td>12.0</td>\n",
       "      <td>27.0</td>\n",
       "      <td>28.0</td>\n",
       "      <td>19</td>\n",
       "      <td>28.09660</td>\n",
       "      <td>30.2966</td>\n",
       "      <td>Turn</td>\n",
       "      <td>1.0</td>\n",
       "    </tr>\n",
       "    <tr>\n",
       "      <th>4</th>\n",
       "      <td>01d0fe7266</td>\n",
       "      <td>203e85</td>\n",
       "      <td>2</td>\n",
       "      <td>off</td>\n",
       "      <td>67</td>\n",
       "      <td>M</td>\n",
       "      <td>12.0</td>\n",
       "      <td>27.0</td>\n",
       "      <td>28.0</td>\n",
       "      <td>19</td>\n",
       "      <td>30.31840</td>\n",
       "      <td>31.8784</td>\n",
       "      <td>Turn</td>\n",
       "      <td>1.0</td>\n",
       "    </tr>\n",
       "  </tbody>\n",
       "</table>\n",
       "</div>"
      ],
      "text/plain": [
       "           Id Subject  Visit_x Medication  Age Sex  YearsSinceDx  UPDRSIII_On  \\\n",
       "0  003f117e14  13abfd        3         on   68   F           9.0         17.0   \n",
       "1  009ee11563  d81e3a        4         on   71   M          10.0         42.0   \n",
       "2  009ee11563  d81e3a        4         on   71   M          10.0         42.0   \n",
       "3  011322847a  203e85        2         on   67   M          12.0         27.0   \n",
       "4  01d0fe7266  203e85        2        off   67   M          12.0         27.0   \n",
       "\n",
       "   UPDRSIII_Off  NFOGQ      Init  Completion  Type  Kinetic  \n",
       "0          15.0     15   8.61312     14.7731  Turn      1.0  \n",
       "1          -1.0     24  11.38470     41.1847  Turn      1.0  \n",
       "2          -1.0     24  54.66470     58.7847  Turn      1.0  \n",
       "3          28.0     19  28.09660     30.2966  Turn      1.0  \n",
       "4          28.0     19  30.31840     31.8784  Turn      1.0  "
      ]
     },
     "execution_count": 40,
     "metadata": {},
     "output_type": "execute_result"
    }
   ],
   "source": [
    "join_df4.head()"
   ]
  },
  {
   "cell_type": "code",
   "execution_count": 41,
   "id": "68886106",
   "metadata": {},
   "outputs": [],
   "source": [
    "#Keeping only necessary columns\n",
    "cols2 = ['Init', 'Completion','Kinetic']\n",
    "join_df3[cols2] = join_df3[cols2].astype('float16')\n",
    "cols3 = ['Age']\n",
    "join_df3[cols3] = join_df3[cols3].astype('int8')"
   ]
  },
  {
   "cell_type": "code",
   "execution_count": 42,
   "id": "4e1f7be9",
   "metadata": {},
   "outputs": [],
   "source": [
    "#Shrinking memory usage by changing datatype to smaller version\n",
    "cols2 = ['Init', 'Completion','Kinetic']\n",
    "join_df4[cols2] = join_df4[cols2].astype('float16')\n",
    "cols3 = ['Age']\n",
    "join_df4[cols3] = join_df4[cols3].astype('int8')"
   ]
  },
  {
   "cell_type": "code",
   "execution_count": 43,
   "id": "96e17e0e",
   "metadata": {},
   "outputs": [],
   "source": [
    "#Shrinking memory usage by changing datatype to smaller version\n",
    "join_df3['Type'] = join_df3['Type'].astype('category')"
   ]
  },
  {
   "cell_type": "code",
   "execution_count": 44,
   "id": "07b28ed0",
   "metadata": {},
   "outputs": [],
   "source": [
    "#Shrinking memory usage by changing datatype to smaller version\n",
    "join_df4['Type'] = join_df4['Type'].astype('category')"
   ]
  },
  {
   "cell_type": "code",
   "execution_count": 45,
   "id": "39716ffa",
   "metadata": {},
   "outputs": [],
   "source": [
    "join_df3[\"Type\"] = np.where(join_df3[\"Type\"] == -1, 'None', join_df3[\"Type\"])"
   ]
  },
  {
   "cell_type": "code",
   "execution_count": 46,
   "id": "c353c8c1",
   "metadata": {},
   "outputs": [],
   "source": [
    "join_df4[\"Type\"] = np.where(join_df4[\"Type\"] == -1, 'None', join_df4[\"Type\"])"
   ]
  },
  {
   "cell_type": "code",
   "execution_count": 47,
   "id": "9ae98f1b",
   "metadata": {},
   "outputs": [
    {
     "name": "stderr",
     "output_type": "stream",
     "text": [
      "C:\\Users\\colli\\anaconda3\\lib\\site-packages\\seaborn\\_decorators.py:36: FutureWarning: Pass the following variable as a keyword arg: x. From version 0.12, the only valid positional argument will be `data`, and passing other arguments without an explicit keyword will result in an error or misinterpretation.\n",
      "  warnings.warn(\n"
     ]
    },
    {
     "data": {
      "text/plain": [
       "<AxesSubplot:xlabel='Type', ylabel='count'>"
      ]
     },
     "execution_count": 47,
     "metadata": {},
     "output_type": "execute_result"
    },
    {
     "data": {
      "image/png": "[encoded data removed]",
      "text/plain": [
       "<Figure size 432x288 with 1 Axes>"
      ]
     },
     "metadata": {
      "needs_background": "light"
     },
     "output_type": "display_data"
    }
   ],
   "source": [
    "#Checking distribution of Dependent variable for at home dataset\n",
    "sns.countplot(join_df3['Type'])"
   ]
  },
  {
   "cell_type": "code",
   "execution_count": 48,
   "id": "48884ca8",
   "metadata": {
    "scrolled": true
   },
   "outputs": [
    {
     "name": "stderr",
     "output_type": "stream",
     "text": [
      "C:\\Users\\colli\\anaconda3\\lib\\site-packages\\seaborn\\_decorators.py:36: FutureWarning: Pass the following variable as a keyword arg: x. From version 0.12, the only valid positional argument will be `data`, and passing other arguments without an explicit keyword will result in an error or misinterpretation.\n",
      "  warnings.warn(\n"
     ]
    },
    {
     "data": {
      "text/plain": [
       "<AxesSubplot:xlabel='Type', ylabel='count'>"
      ]
     },
     "execution_count": 48,
     "metadata": {},
     "output_type": "execute_result"
    },
    {
     "data": {
      "image/png": "[encoded data removed]",
      "text/plain": [
       "<Figure size 432x288 with 1 Axes>"
      ]
     },
     "metadata": {
      "needs_background": "light"
     },
     "output_type": "display_data"
    }
   ],
   "source": [
    "#Checking distribution of Dependent variable for at lab dataset, whether FOG was provoked from Walking, Turning, Starting to Walk, or no FOG event occured\n",
    "sns.countplot(join_df4['Type'])"
   ]
  },
  {
   "cell_type": "code",
   "execution_count": 49,
   "id": "0ee72d7e",
   "metadata": {},
   "outputs": [],
   "source": [
    "#Turning categorical into zeros and ones for model prediction\n",
    "join_df3 = pd.get_dummies(join_df3\n",
    "               ,columns = ['Type']\n",
    "               )"
   ]
  },
  {
   "cell_type": "code",
   "execution_count": 50,
   "id": "3fdd1b56",
   "metadata": {},
   "outputs": [],
   "source": [
    "#Turning categorical into zeros and ones for model prediction\n",
    "join_df4 = pd.get_dummies(join_df4\n",
    "               ,columns = ['Type']\n",
    "               )"
   ]
  },
  {
   "cell_type": "code",
   "execution_count": 51,
   "id": "6fcd50a9",
   "metadata": {},
   "outputs": [
    {
     "data": {
      "text/html": [
       "<div>\n",
       "<style scoped>\n",
       "    .dataframe tbody tr th:only-of-type {\n",
       "        vertical-align: middle;\n",
       "    }\n",
       "\n",
       "    .dataframe tbody tr th {\n",
       "        vertical-align: top;\n",
       "    }\n",
       "\n",
       "    .dataframe thead th {\n",
       "        text-align: right;\n",
       "    }\n",
       "</style>\n",
       "<table border=\"1\" class=\"dataframe\">\n",
       "  <thead>\n",
       "    <tr style=\"text-align: right;\">\n",
       "      <th></th>\n",
       "      <th>Id</th>\n",
       "      <th>Subject</th>\n",
       "      <th>Visit_x</th>\n",
       "      <th>Medication</th>\n",
       "      <th>Visit_y</th>\n",
       "      <th>Age</th>\n",
       "      <th>Sex</th>\n",
       "      <th>YearsSinceDx</th>\n",
       "      <th>UPDRSIII_On</th>\n",
       "      <th>UPDRSIII_Off</th>\n",
       "      <th>NFOGQ</th>\n",
       "      <th>Init</th>\n",
       "      <th>Completion</th>\n",
       "      <th>Kinetic</th>\n",
       "      <th>Type_None</th>\n",
       "      <th>Type_StartHesitation</th>\n",
       "      <th>Type_Turn</th>\n",
       "      <th>Type_Walking</th>\n",
       "    </tr>\n",
       "  </thead>\n",
       "  <tbody>\n",
       "    <tr>\n",
       "      <th>0</th>\n",
       "      <td>02ab235146</td>\n",
       "      <td>ab54e1</td>\n",
       "      <td>2</td>\n",
       "      <td>on</td>\n",
       "      <td>1.0</td>\n",
       "      <td>79</td>\n",
       "      <td>F</td>\n",
       "      <td>8.0</td>\n",
       "      <td>52.0</td>\n",
       "      <td>55.0</td>\n",
       "      <td>28</td>\n",
       "      <td>1969.0</td>\n",
       "      <td>1973.0</td>\n",
       "      <td>-1.0</td>\n",
       "      <td>1</td>\n",
       "      <td>0</td>\n",
       "      <td>0</td>\n",
       "      <td>0</td>\n",
       "    </tr>\n",
       "    <tr>\n",
       "      <th>3</th>\n",
       "      <td>02ab235146</td>\n",
       "      <td>ab54e1</td>\n",
       "      <td>2</td>\n",
       "      <td>on</td>\n",
       "      <td>1.0</td>\n",
       "      <td>79</td>\n",
       "      <td>F</td>\n",
       "      <td>8.0</td>\n",
       "      <td>52.0</td>\n",
       "      <td>55.0</td>\n",
       "      <td>28</td>\n",
       "      <td>2704.0</td>\n",
       "      <td>2704.0</td>\n",
       "      <td>-1.0</td>\n",
       "      <td>1</td>\n",
       "      <td>0</td>\n",
       "      <td>0</td>\n",
       "      <td>0</td>\n",
       "    </tr>\n",
       "    <tr>\n",
       "      <th>4</th>\n",
       "      <td>02ab235146</td>\n",
       "      <td>ab54e1</td>\n",
       "      <td>2</td>\n",
       "      <td>on</td>\n",
       "      <td>1.0</td>\n",
       "      <td>79</td>\n",
       "      <td>F</td>\n",
       "      <td>8.0</td>\n",
       "      <td>52.0</td>\n",
       "      <td>55.0</td>\n",
       "      <td>28</td>\n",
       "      <td>2786.0</td>\n",
       "      <td>2786.0</td>\n",
       "      <td>-1.0</td>\n",
       "      <td>1</td>\n",
       "      <td>0</td>\n",
       "      <td>0</td>\n",
       "      <td>0</td>\n",
       "    </tr>\n",
       "    <tr>\n",
       "      <th>5</th>\n",
       "      <td>02ab235146</td>\n",
       "      <td>ab54e1</td>\n",
       "      <td>2</td>\n",
       "      <td>on</td>\n",
       "      <td>1.0</td>\n",
       "      <td>79</td>\n",
       "      <td>F</td>\n",
       "      <td>8.0</td>\n",
       "      <td>52.0</td>\n",
       "      <td>55.0</td>\n",
       "      <td>28</td>\n",
       "      <td>2786.0</td>\n",
       "      <td>2786.0</td>\n",
       "      <td>-1.0</td>\n",
       "      <td>1</td>\n",
       "      <td>0</td>\n",
       "      <td>0</td>\n",
       "      <td>0</td>\n",
       "    </tr>\n",
       "    <tr>\n",
       "      <th>6</th>\n",
       "      <td>02ab235146</td>\n",
       "      <td>ab54e1</td>\n",
       "      <td>2</td>\n",
       "      <td>on</td>\n",
       "      <td>1.0</td>\n",
       "      <td>79</td>\n",
       "      <td>F</td>\n",
       "      <td>8.0</td>\n",
       "      <td>52.0</td>\n",
       "      <td>55.0</td>\n",
       "      <td>28</td>\n",
       "      <td>2828.0</td>\n",
       "      <td>2830.0</td>\n",
       "      <td>-1.0</td>\n",
       "      <td>1</td>\n",
       "      <td>0</td>\n",
       "      <td>0</td>\n",
       "      <td>0</td>\n",
       "    </tr>\n",
       "  </tbody>\n",
       "</table>\n",
       "</div>"
      ],
      "text/plain": [
       "           Id Subject  Visit_x Medication  Visit_y  Age Sex  YearsSinceDx  \\\n",
       "0  02ab235146  ab54e1        2         on      1.0   79   F           8.0   \n",
       "3  02ab235146  ab54e1        2         on      1.0   79   F           8.0   \n",
       "4  02ab235146  ab54e1        2         on      1.0   79   F           8.0   \n",
       "5  02ab235146  ab54e1        2         on      1.0   79   F           8.0   \n",
       "6  02ab235146  ab54e1        2         on      1.0   79   F           8.0   \n",
       "\n",
       "   UPDRSIII_On  UPDRSIII_Off  NFOGQ    Init  Completion  Kinetic  Type_None  \\\n",
       "0         52.0          55.0     28  1969.0      1973.0     -1.0          1   \n",
       "3         52.0          55.0     28  2704.0      2704.0     -1.0          1   \n",
       "4         52.0          55.0     28  2786.0      2786.0     -1.0          1   \n",
       "5         52.0          55.0     28  2786.0      2786.0     -1.0          1   \n",
       "6         52.0          55.0     28  2828.0      2830.0     -1.0          1   \n",
       "\n",
       "   Type_StartHesitation  Type_Turn  Type_Walking  \n",
       "0                     0          0             0  \n",
       "3                     0          0             0  \n",
       "4                     0          0             0  \n",
       "5                     0          0             0  \n",
       "6                     0          0             0  "
      ]
     },
     "execution_count": 51,
     "metadata": {},
     "output_type": "execute_result"
    }
   ],
   "source": [
    "#Checking to make sure get_dummies worked\n",
    "join_df3.head()"
   ]
  },
  {
   "cell_type": "code",
   "execution_count": 52,
   "id": "d692db10",
   "metadata": {},
   "outputs": [],
   "source": [
    "#Changing gender to numbers\n",
    "join_df3['Sex'] = join_df3['Sex'].map({'F': 1, 'M': 0})"
   ]
  },
  {
   "cell_type": "code",
   "execution_count": 53,
   "id": "b9077866",
   "metadata": {},
   "outputs": [],
   "source": [
    "#Changing medication to numbers\n",
    "join_df3['Medication'] = join_df4['Medication'].map({'on': 1, 'off': 0})"
   ]
  },
  {
   "cell_type": "code",
   "execution_count": 54,
   "id": "7c0286ea",
   "metadata": {},
   "outputs": [],
   "source": [
    "join_df4['Sex'] = join_df3['Sex'].map({'F': 1, 'M': 0})\n",
    "join_df4['Medication'] = join_df4['Medication'].map({'on': 1, 'off': 0})"
   ]
  },
  {
   "cell_type": "code",
   "execution_count": 55,
   "id": "d2653a70",
   "metadata": {},
   "outputs": [],
   "source": [
    "#combining at home and lab datasets to create final training set\n",
    "all_dfs = [join_df3,join_df4]"
   ]
  },
  {
   "cell_type": "code",
   "execution_count": 56,
   "id": "470c13d2",
   "metadata": {},
   "outputs": [],
   "source": [
    "#combining at home and lab datasets to create final training set\n",
    "all_dfs_concat = pd.concat(all_dfs)"
   ]
  },
  {
   "cell_type": "code",
   "execution_count": 57,
   "id": "a86067b8",
   "metadata": {},
   "outputs": [
    {
     "name": "stdout",
     "output_type": "stream",
     "text": [
      "<class 'pandas.core.frame.DataFrame'>\n",
      "Int64Index: 6291 entries, 0 to 1626\n",
      "Data columns (total 18 columns):\n",
      " #   Column                Non-Null Count  Dtype  \n",
      "---  ------                --------------  -----  \n",
      " 0   Id                    6291 non-null   object \n",
      " 1   Subject               6291 non-null   object \n",
      " 2   Visit_x               6291 non-null   int8   \n",
      " 3   Medication            3252 non-null   float64\n",
      " 4   Visit_y               4664 non-null   float16\n",
      " 5   Age                   6291 non-null   int8   \n",
      " 6   Sex                   4664 non-null   float64\n",
      " 7   YearsSinceDx          6291 non-null   float16\n",
      " 8   UPDRSIII_On           6291 non-null   float16\n",
      " 9   UPDRSIII_Off          6291 non-null   float16\n",
      " 10  NFOGQ                 6291 non-null   int8   \n",
      " 11  Init                  6291 non-null   float16\n",
      " 12  Completion            6291 non-null   float16\n",
      " 13  Kinetic               6291 non-null   float16\n",
      " 14  Type_None             6291 non-null   uint8  \n",
      " 15  Type_StartHesitation  6291 non-null   uint8  \n",
      " 16  Type_Turn             6291 non-null   uint8  \n",
      " 17  Type_Walking          6291 non-null   uint8  \n",
      "dtypes: float16(7), float64(2), int8(3), object(2), uint8(4)\n",
      "memory usage: 374.8+ KB\n"
     ]
    }
   ],
   "source": [
    "#combining at home and lab datasets to create final training set\n",
    "all_dfs_concat.info()"
   ]
  },
  {
   "cell_type": "code",
   "execution_count": 58,
   "id": "68f13614",
   "metadata": {},
   "outputs": [],
   "source": [
    "#turning start and stop of event into duration of event for more meaningful value for the models\n",
    "all_dfs_concat['Duration'] = all_dfs_concat['Completion'].sub(all_dfs_concat['Init'], axis = 0)"
   ]
  },
  {
   "cell_type": "code",
   "execution_count": 59,
   "id": "c4154228",
   "metadata": {},
   "outputs": [
    {
     "data": {
      "text/html": [
       "<div>\n",
       "<style scoped>\n",
       "    .dataframe tbody tr th:only-of-type {\n",
       "        vertical-align: middle;\n",
       "    }\n",
       "\n",
       "    .dataframe tbody tr th {\n",
       "        vertical-align: top;\n",
       "    }\n",
       "\n",
       "    .dataframe thead th {\n",
       "        text-align: right;\n",
       "    }\n",
       "</style>\n",
       "<table border=\"1\" class=\"dataframe\">\n",
       "  <thead>\n",
       "    <tr style=\"text-align: right;\">\n",
       "      <th></th>\n",
       "      <th>Id</th>\n",
       "      <th>Subject</th>\n",
       "      <th>Visit_x</th>\n",
       "      <th>Medication</th>\n",
       "      <th>Visit_y</th>\n",
       "      <th>Age</th>\n",
       "      <th>Sex</th>\n",
       "      <th>YearsSinceDx</th>\n",
       "      <th>UPDRSIII_On</th>\n",
       "      <th>UPDRSIII_Off</th>\n",
       "      <th>NFOGQ</th>\n",
       "      <th>Init</th>\n",
       "      <th>Completion</th>\n",
       "      <th>Kinetic</th>\n",
       "      <th>Type_None</th>\n",
       "      <th>Type_StartHesitation</th>\n",
       "      <th>Type_Turn</th>\n",
       "      <th>Type_Walking</th>\n",
       "      <th>Duration</th>\n",
       "    </tr>\n",
       "  </thead>\n",
       "  <tbody>\n",
       "    <tr>\n",
       "      <th>0</th>\n",
       "      <td>02ab235146</td>\n",
       "      <td>ab54e1</td>\n",
       "      <td>2</td>\n",
       "      <td>1.0</td>\n",
       "      <td>1.0</td>\n",
       "      <td>79</td>\n",
       "      <td>1.0</td>\n",
       "      <td>8.0</td>\n",
       "      <td>52.0</td>\n",
       "      <td>55.0</td>\n",
       "      <td>28</td>\n",
       "      <td>1969.0</td>\n",
       "      <td>1973.0</td>\n",
       "      <td>-1.0</td>\n",
       "      <td>1</td>\n",
       "      <td>0</td>\n",
       "      <td>0</td>\n",
       "      <td>0</td>\n",
       "      <td>4.0</td>\n",
       "    </tr>\n",
       "    <tr>\n",
       "      <th>3</th>\n",
       "      <td>02ab235146</td>\n",
       "      <td>ab54e1</td>\n",
       "      <td>2</td>\n",
       "      <td>1.0</td>\n",
       "      <td>1.0</td>\n",
       "      <td>79</td>\n",
       "      <td>1.0</td>\n",
       "      <td>8.0</td>\n",
       "      <td>52.0</td>\n",
       "      <td>55.0</td>\n",
       "      <td>28</td>\n",
       "      <td>2704.0</td>\n",
       "      <td>2704.0</td>\n",
       "      <td>-1.0</td>\n",
       "      <td>1</td>\n",
       "      <td>0</td>\n",
       "      <td>0</td>\n",
       "      <td>0</td>\n",
       "      <td>0.0</td>\n",
       "    </tr>\n",
       "    <tr>\n",
       "      <th>4</th>\n",
       "      <td>02ab235146</td>\n",
       "      <td>ab54e1</td>\n",
       "      <td>2</td>\n",
       "      <td>0.0</td>\n",
       "      <td>1.0</td>\n",
       "      <td>79</td>\n",
       "      <td>1.0</td>\n",
       "      <td>8.0</td>\n",
       "      <td>52.0</td>\n",
       "      <td>55.0</td>\n",
       "      <td>28</td>\n",
       "      <td>2786.0</td>\n",
       "      <td>2786.0</td>\n",
       "      <td>-1.0</td>\n",
       "      <td>1</td>\n",
       "      <td>0</td>\n",
       "      <td>0</td>\n",
       "      <td>0</td>\n",
       "      <td>0.0</td>\n",
       "    </tr>\n",
       "    <tr>\n",
       "      <th>5</th>\n",
       "      <td>02ab235146</td>\n",
       "      <td>ab54e1</td>\n",
       "      <td>2</td>\n",
       "      <td>1.0</td>\n",
       "      <td>1.0</td>\n",
       "      <td>79</td>\n",
       "      <td>1.0</td>\n",
       "      <td>8.0</td>\n",
       "      <td>52.0</td>\n",
       "      <td>55.0</td>\n",
       "      <td>28</td>\n",
       "      <td>2786.0</td>\n",
       "      <td>2786.0</td>\n",
       "      <td>-1.0</td>\n",
       "      <td>1</td>\n",
       "      <td>0</td>\n",
       "      <td>0</td>\n",
       "      <td>0</td>\n",
       "      <td>0.0</td>\n",
       "    </tr>\n",
       "    <tr>\n",
       "      <th>6</th>\n",
       "      <td>02ab235146</td>\n",
       "      <td>ab54e1</td>\n",
       "      <td>2</td>\n",
       "      <td>1.0</td>\n",
       "      <td>1.0</td>\n",
       "      <td>79</td>\n",
       "      <td>1.0</td>\n",
       "      <td>8.0</td>\n",
       "      <td>52.0</td>\n",
       "      <td>55.0</td>\n",
       "      <td>28</td>\n",
       "      <td>2828.0</td>\n",
       "      <td>2830.0</td>\n",
       "      <td>-1.0</td>\n",
       "      <td>1</td>\n",
       "      <td>0</td>\n",
       "      <td>0</td>\n",
       "      <td>0</td>\n",
       "      <td>2.0</td>\n",
       "    </tr>\n",
       "  </tbody>\n",
       "</table>\n",
       "</div>"
      ],
      "text/plain": [
       "           Id Subject  Visit_x  Medication  Visit_y  Age  Sex  YearsSinceDx  \\\n",
       "0  02ab235146  ab54e1        2         1.0      1.0   79  1.0           8.0   \n",
       "3  02ab235146  ab54e1        2         1.0      1.0   79  1.0           8.0   \n",
       "4  02ab235146  ab54e1        2         0.0      1.0   79  1.0           8.0   \n",
       "5  02ab235146  ab54e1        2         1.0      1.0   79  1.0           8.0   \n",
       "6  02ab235146  ab54e1        2         1.0      1.0   79  1.0           8.0   \n",
       "\n",
       "   UPDRSIII_On  UPDRSIII_Off  NFOGQ    Init  Completion  Kinetic  Type_None  \\\n",
       "0         52.0          55.0     28  1969.0      1973.0     -1.0          1   \n",
       "3         52.0          55.0     28  2704.0      2704.0     -1.0          1   \n",
       "4         52.0          55.0     28  2786.0      2786.0     -1.0          1   \n",
       "5         52.0          55.0     28  2786.0      2786.0     -1.0          1   \n",
       "6         52.0          55.0     28  2828.0      2830.0     -1.0          1   \n",
       "\n",
       "   Type_StartHesitation  Type_Turn  Type_Walking  Duration  \n",
       "0                     0          0             0       4.0  \n",
       "3                     0          0             0       0.0  \n",
       "4                     0          0             0       0.0  \n",
       "5                     0          0             0       0.0  \n",
       "6                     0          0             0       2.0  "
      ]
     },
     "execution_count": 59,
     "metadata": {},
     "output_type": "execute_result"
    }
   ],
   "source": [
    "all_dfs_concat.head()"
   ]
  },
  {
   "cell_type": "code",
   "execution_count": 60,
   "id": "fc7f9b26",
   "metadata": {},
   "outputs": [],
   "source": [
    "from sklearn.model_selection import train_test_split"
   ]
  },
  {
   "cell_type": "code",
   "execution_count": 61,
   "id": "c12c90c6",
   "metadata": {},
   "outputs": [],
   "source": [
    "#Defining Depent and independent variables for modeling\n",
    "X = all_dfs_concat[['Age','YearsSinceDx','UPDRSIII_On','UPDRSIII_Off','NFOGQ','Init','Duration']]\n",
    "ySH = all_dfs_concat['Type_StartHesitation']\n",
    "yT = all_dfs_concat['Type_Turn']\n",
    "yW = all_dfs_concat['Type_Walking']"
   ]
  },
  {
   "cell_type": "code",
   "execution_count": 62,
   "id": "f3bb4639",
   "metadata": {},
   "outputs": [],
   "source": [
    "#Splitting data into training and test\n",
    "X_train, X_test, ySH_train, ySH_test = train_test_split(X, ySH, test_size = 0.3, random_state = 22)\n",
    "X_train, X_test, yT_train, yT_test = train_test_split(X, yT, test_size = 0.3, random_state = 22)\n",
    "X_train, X_test, yW_train, yW_test = train_test_split(X, yW, test_size = 0.3, random_state = 22)"
   ]
  },
  {
   "cell_type": "code",
   "execution_count": 63,
   "id": "a71ea543",
   "metadata": {},
   "outputs": [
    {
     "name": "stderr",
     "output_type": "stream",
     "text": [
      "C:\\Users\\colli\\anaconda3\\lib\\site-packages\\numpy\\lib\\nanfunctions.py:1746: RuntimeWarning: overflow encountered in multiply\n",
      "  sqr = np.multiply(arr, arr, out=arr, where=where)\n",
      "C:\\Users\\colli\\anaconda3\\lib\\site-packages\\numpy\\lib\\nanfunctions.py:1746: RuntimeWarning: overflow encountered in multiply\n",
      "  sqr = np.multiply(arr, arr, out=arr, where=where)\n"
     ]
    }
   ],
   "source": [
    "#Scaling data\n",
    "from sklearn import preprocessing\n",
    "scaler = preprocessing.StandardScaler()\n",
    "X_train = scaler.fit_transform(X_train)\n",
    "X_test = scaler.fit_transform(X_test)"
   ]
  },
  {
   "cell_type": "code",
   "execution_count": 64,
   "id": "669ed305",
   "metadata": {},
   "outputs": [],
   "source": [
    "#staring with basic Tree model\n",
    "from sklearn.tree import DecisionTreeClassifier # Import Decision Tree Classifier\n",
    "clfSH = DecisionTreeClassifier(criterion=\"entropy\", max_depth=3)\n",
    "clfT = DecisionTreeClassifier(criterion=\"entropy\", max_depth=3)\n",
    "clfW = DecisionTreeClassifier(criterion=\"entropy\", max_depth=3)"
   ]
  },
  {
   "cell_type": "code",
   "execution_count": 65,
   "id": "faafa3ff",
   "metadata": {},
   "outputs": [
    {
     "data": {
      "text/plain": [
       "DecisionTreeClassifier(criterion='entropy', max_depth=3)"
      ]
     },
     "execution_count": 65,
     "metadata": {},
     "output_type": "execute_result"
    }
   ],
   "source": [
    "#There are three dependent variables for this data whether each of three events triggered FOG, which is why three models are needed.  \n",
    "#One to predict if Start Hesitation caused Freezing of Gait, one if turning caused FOG, and One if Walking caused Fog.\n",
    "#Three models are consistent with the sample submission file from Kaggle where three predictions are needed in the output file.\n",
    "clfSH.fit(X_train,ySH_train)\n",
    "clfT.fit(X_train,yT_train)\n",
    "clfW.fit(X_train,yW_train)"
   ]
  },
  {
   "cell_type": "code",
   "execution_count": 66,
   "id": "b520c234",
   "metadata": {},
   "outputs": [],
   "source": [
    "#Predicting test set values\n",
    "ySH_pred = clfSH.predict(X_test)\n",
    "yT_pred = clfT.predict(X_test)\n",
    "yW_pred = clfW.predict(X_test)"
   ]
  },
  {
   "cell_type": "code",
   "execution_count": 123,
   "id": "06acde43",
   "metadata": {},
   "outputs": [
    {
     "name": "stdout",
     "output_type": "stream",
     "text": [
      "StartHesitation:\n",
      "              precision    recall  f1-score   support\n",
      "\n",
      "           0       0.98      1.00      0.99      1854\n",
      "           1       0.00      0.00      0.00        34\n",
      "\n",
      "    accuracy                           0.98      1888\n",
      "   macro avg       0.49      0.50      0.50      1888\n",
      "weighted avg       0.96      0.98      0.97      1888\n",
      "\n",
      "Turning:\n",
      "              precision    recall  f1-score   support\n",
      "\n",
      "           0       1.00      0.21      0.35       948\n",
      "           1       0.56      1.00      0.71       940\n",
      "\n",
      "    accuracy                           0.60      1888\n",
      "   macro avg       0.78      0.60      0.53      1888\n",
      "weighted avg       0.78      0.60      0.53      1888\n",
      "\n",
      "Walking:\n",
      "              precision    recall  f1-score   support\n",
      "\n",
      "           0       0.91      1.00      0.95      1724\n",
      "           1       0.00      0.00      0.00       164\n",
      "\n",
      "    accuracy                           0.91      1888\n",
      "   macro avg       0.46      0.50      0.48      1888\n",
      "weighted avg       0.83      0.91      0.87      1888\n",
      "\n",
      "0.018008474576271187\n",
      "0.5562130177514792\n",
      "0.08686440677966102\n"
     ]
    },
    {
     "name": "stderr",
     "output_type": "stream",
     "text": [
      "C:\\Users\\colli\\anaconda3\\lib\\site-packages\\sklearn\\metrics\\_classification.py:1245: UndefinedMetricWarning: Precision and F-score are ill-defined and being set to 0.0 in labels with no predicted samples. Use `zero_division` parameter to control this behavior.\n",
      "  _warn_prf(average, modifier, msg_start, len(result))\n",
      "C:\\Users\\colli\\anaconda3\\lib\\site-packages\\sklearn\\metrics\\_classification.py:1245: UndefinedMetricWarning: Precision and F-score are ill-defined and being set to 0.0 in labels with no predicted samples. Use `zero_division` parameter to control this behavior.\n",
      "  _warn_prf(average, modifier, msg_start, len(result))\n",
      "C:\\Users\\colli\\anaconda3\\lib\\site-packages\\sklearn\\metrics\\_classification.py:1245: UndefinedMetricWarning: Precision and F-score are ill-defined and being set to 0.0 in labels with no predicted samples. Use `zero_division` parameter to control this behavior.\n",
      "  _warn_prf(average, modifier, msg_start, len(result))\n",
      "C:\\Users\\colli\\anaconda3\\lib\\site-packages\\sklearn\\metrics\\_classification.py:1245: UndefinedMetricWarning: Precision and F-score are ill-defined and being set to 0.0 in labels with no predicted samples. Use `zero_division` parameter to control this behavior.\n",
      "  _warn_prf(average, modifier, msg_start, len(result))\n",
      "C:\\Users\\colli\\anaconda3\\lib\\site-packages\\sklearn\\metrics\\_classification.py:1245: UndefinedMetricWarning: Precision and F-score are ill-defined and being set to 0.0 in labels with no predicted samples. Use `zero_division` parameter to control this behavior.\n",
      "  _warn_prf(average, modifier, msg_start, len(result))\n",
      "C:\\Users\\colli\\anaconda3\\lib\\site-packages\\sklearn\\metrics\\_classification.py:1245: UndefinedMetricWarning: Precision and F-score are ill-defined and being set to 0.0 in labels with no predicted samples. Use `zero_division` parameter to control this behavior.\n",
      "  _warn_prf(average, modifier, msg_start, len(result))\n"
     ]
    }
   ],
   "source": [
    "#Checking Results - Competition grades based off of precision\n",
    "from sklearn.metrics import classification_report\n",
    "print('StartHesitation:')\n",
    "print(classification_report(ySH_test, ySH_pred))\n",
    "print('Turning:')\n",
    "print(classification_report(yT_test, yT_pred))\n",
    "print('Walking:')\n",
    "print(classification_report(yW_test, yW_pred))\n"
   ]
  },
  {
   "cell_type": "code",
   "execution_count": 68,
   "id": "f5823614",
   "metadata": {},
   "outputs": [],
   "source": [
    "#Tuning parameters for better performance from tree model\n",
    "from sklearn.model_selection import GridSearchCV\n",
    "parameters = {'max_depth' : [2,3,4,5,6,7,8], 'min_samples_split' : [2,3,4], 'min_samples_leaf': [1,2]}"
   ]
  },
  {
   "cell_type": "code",
   "execution_count": 69,
   "id": "d11e999f",
   "metadata": {},
   "outputs": [],
   "source": [
    "clfSH2 = DecisionTreeClassifier()\n",
    "clfT2 = DecisionTreeClassifier()\n",
    "clfW2 = DecisionTreeClassifier()\n",
    "\n"
   ]
  },
  {
   "cell_type": "code",
   "execution_count": 70,
   "id": "ba4bd657",
   "metadata": {},
   "outputs": [],
   "source": [
    "#creating gridsearch tree models\n",
    "searchSH = GridSearchCV(estimator=clfSH2,param_grid = parameters)\n",
    "searchT = GridSearchCV(estimator=clfT2,param_grid = parameters)\n",
    "searchW = GridSearchCV(estimator=clfW2,param_grid = parameters)"
   ]
  },
  {
   "cell_type": "code",
   "execution_count": 71,
   "id": "68ab1a96",
   "metadata": {},
   "outputs": [
    {
     "data": {
      "text/plain": [
       "GridSearchCV(estimator=DecisionTreeClassifier(),\n",
       "             param_grid={'max_depth': [2, 3, 4, 5, 6, 7, 8],\n",
       "                         'min_samples_leaf': [1, 2],\n",
       "                         'min_samples_split': [2, 3, 4]})"
      ]
     },
     "execution_count": 71,
     "metadata": {},
     "output_type": "execute_result"
    }
   ],
   "source": [
    "#fitting models\n",
    "searchSH.fit(X_train,ySH_train)\n",
    "searchT.fit(X_train,yT_train)\n",
    "searchW.fit(X_train,yW_train)"
   ]
  },
  {
   "cell_type": "code",
   "execution_count": 72,
   "id": "7e3c76d7",
   "metadata": {},
   "outputs": [
    {
     "data": {
      "text/plain": [
       "DecisionTreeClassifier(max_depth=7)"
      ]
     },
     "execution_count": 72,
     "metadata": {},
     "output_type": "execute_result"
    }
   ],
   "source": [
    "#Fitting best parameters to the models\n",
    "TreemodelSH = searchSH.best_estimator_\n",
    "TreemodelSH.fit(X_train,ySH_train)\n",
    "\n",
    "TreemodelT = searchT.best_estimator_\n",
    "TreemodelT.fit(X_train,yT_train)\n",
    "\n",
    "TreemodelW = searchW.best_estimator_\n",
    "TreemodelW.fit(X_train,yW_train)"
   ]
  },
  {
   "cell_type": "code",
   "execution_count": 73,
   "id": "673756aa",
   "metadata": {},
   "outputs": [],
   "source": [
    "#predicting values for test data\n",
    "ySH_pred2 = TreemodelSH.predict(X_test)\n",
    "yT_pred2 = TreemodelT.predict(X_test)\n",
    "yW_pred2 = TreemodelW.predict(X_test)"
   ]
  },
  {
   "cell_type": "code",
   "execution_count": 124,
   "id": "48b04dbe",
   "metadata": {
    "scrolled": true
   },
   "outputs": [
    {
     "name": "stdout",
     "output_type": "stream",
     "text": [
      "StartHesitation:\n",
      "              precision    recall  f1-score   support\n",
      "\n",
      "           0       0.98      1.00      0.99      1854\n",
      "           1       0.00      0.00      0.00        34\n",
      "\n",
      "    accuracy                           0.98      1888\n",
      "   macro avg       0.49      0.50      0.50      1888\n",
      "weighted avg       0.96      0.98      0.97      1888\n",
      "\n",
      "Turning:\n",
      "              precision    recall  f1-score   support\n",
      "\n",
      "           0       0.64      0.83      0.72       948\n",
      "           1       0.75      0.52      0.62       940\n",
      "\n",
      "    accuracy                           0.68      1888\n",
      "   macro avg       0.69      0.68      0.67      1888\n",
      "weighted avg       0.69      0.68      0.67      1888\n",
      "\n",
      "Walking:\n",
      "              precision    recall  f1-score   support\n",
      "\n",
      "           0       0.93      0.99      0.96      1724\n",
      "           1       0.66      0.27      0.38       164\n",
      "\n",
      "    accuracy                           0.92      1888\n",
      "   macro avg       0.80      0.63      0.67      1888\n",
      "weighted avg       0.91      0.92      0.91      1888\n",
      "\n",
      "0.018008474576271187\n",
      "0.6311753870030685\n",
      "0.2397515317171892\n"
     ]
    },
    {
     "name": "stderr",
     "output_type": "stream",
     "text": [
      "C:\\Users\\colli\\anaconda3\\lib\\site-packages\\sklearn\\metrics\\_classification.py:1245: UndefinedMetricWarning: Precision and F-score are ill-defined and being set to 0.0 in labels with no predicted samples. Use `zero_division` parameter to control this behavior.\n",
      "  _warn_prf(average, modifier, msg_start, len(result))\n",
      "C:\\Users\\colli\\anaconda3\\lib\\site-packages\\sklearn\\metrics\\_classification.py:1245: UndefinedMetricWarning: Precision and F-score are ill-defined and being set to 0.0 in labels with no predicted samples. Use `zero_division` parameter to control this behavior.\n",
      "  _warn_prf(average, modifier, msg_start, len(result))\n",
      "C:\\Users\\colli\\anaconda3\\lib\\site-packages\\sklearn\\metrics\\_classification.py:1245: UndefinedMetricWarning: Precision and F-score are ill-defined and being set to 0.0 in labels with no predicted samples. Use `zero_division` parameter to control this behavior.\n",
      "  _warn_prf(average, modifier, msg_start, len(result))\n"
     ]
    }
   ],
   "source": [
    "#Model Performed a little better after tuning especially for predicting the walking\n",
    "from sklearn.metrics import classification_report\n",
    "print('StartHesitation:')\n",
    "print(classification_report(ySH_test, ySH_pred2))\n",
    "print('Turning:')\n",
    "print(classification_report(yT_test, yT_pred2))\n",
    "print('Walking:')\n",
    "print(classification_report(yW_test, yW_pred2))\n"
   ]
  },
  {
   "cell_type": "code",
   "execution_count": 75,
   "id": "d024d37a",
   "metadata": {},
   "outputs": [],
   "source": [
    "#Trying Logistic regression model\n",
    "from sklearn.linear_model import LogisticRegression\n",
    "LogModelSH = LogisticRegression(solver='lbfgs', max_iter=1000)\n",
    "LogModelT = LogisticRegression(solver='lbfgs', max_iter=1000)\n",
    "LogModelW = LogisticRegression(solver='lbfgs', max_iter=1000)\n",
    "\n",
    "LogModelSH.fit(X_train,ySH_train)\n",
    "LogModelT.fit(X_train,yT_train)\n",
    "LogModelW.fit(X_train,yW_train)\n",
    "\n",
    "ySH_pred3 = LogModelSH.predict(X_test)\n",
    "yT_pred3 = LogModelT.predict(X_test)\n",
    "yW_pred3 = LogModelW.predict(X_test)"
   ]
  },
  {
   "cell_type": "code",
   "execution_count": 76,
   "id": "53984d89",
   "metadata": {},
   "outputs": [
    {
     "name": "stdout",
     "output_type": "stream",
     "text": [
      "StartHesitation:\n",
      "              precision    recall  f1-score   support\n",
      "\n",
      "           0       0.98      1.00      0.99      1854\n",
      "           1       0.00      0.00      0.00        34\n",
      "\n",
      "    accuracy                           0.98      1888\n",
      "   macro avg       0.49      0.50      0.50      1888\n",
      "weighted avg       0.96      0.98      0.97      1888\n",
      "\n",
      "Turning:\n",
      "              precision    recall  f1-score   support\n",
      "\n",
      "           0       0.55      0.62      0.58       948\n",
      "           1       0.56      0.49      0.52       940\n",
      "\n",
      "    accuracy                           0.55      1888\n",
      "   macro avg       0.55      0.55      0.55      1888\n",
      "weighted avg       0.55      0.55      0.55      1888\n",
      "\n",
      "Walking:\n",
      "              precision    recall  f1-score   support\n",
      "\n",
      "           0       0.91      1.00      0.95      1724\n",
      "           1       0.00      0.00      0.00       164\n",
      "\n",
      "    accuracy                           0.91      1888\n",
      "   macro avg       0.46      0.50      0.48      1888\n",
      "weighted avg       0.83      0.91      0.87      1888\n",
      "\n"
     ]
    }
   ],
   "source": [
    "#Checking results, Logistic didn't perform better in any categories than the tree model\n",
    "from sklearn.metrics import classification_report\n",
    "print('StartHesitation:')\n",
    "print(classification_report(ySH_test, ySH_pred3, zero_division=0))\n",
    "print('Turning:')\n",
    "print(classification_report(yT_test, yT_pred3, zero_division=0))\n",
    "print('Walking:')\n",
    "print(classification_report(yW_test, yW_pred3, zero_division=0))"
   ]
  },
  {
   "cell_type": "code",
   "execution_count": 77,
   "id": "a62d7a91",
   "metadata": {},
   "outputs": [],
   "source": [
    "#Trying support vector classification model\n",
    "from sklearn.svm import SVC\n",
    "SVCModelSH = SVC()\n",
    "SVCModelT = SVC()\n",
    "SVCModelW = SVC()\n",
    "\n",
    "SVCModelSH.fit(X_train,ySH_train)\n",
    "SVCModelT.fit(X_train,yT_train)\n",
    "SVCModelW.fit(X_train,yW_train)\n",
    "\n",
    "ySH_pred4 = LogModelSH.predict(X_test)\n",
    "yT_pred4 = LogModelT.predict(X_test)\n",
    "yW_pred4 = LogModelW.predict(X_test)"
   ]
  },
  {
   "cell_type": "code",
   "execution_count": 78,
   "id": "57f6232a",
   "metadata": {
    "scrolled": false
   },
   "outputs": [
    {
     "name": "stdout",
     "output_type": "stream",
     "text": [
      "StartHesitation:\n",
      "              precision    recall  f1-score   support\n",
      "\n",
      "           0       0.98      1.00      0.99      1854\n",
      "           1       0.00      0.00      0.00        34\n",
      "\n",
      "    accuracy                           0.98      1888\n",
      "   macro avg       0.49      0.50      0.50      1888\n",
      "weighted avg       0.96      0.98      0.97      1888\n",
      "\n",
      "Turning:\n",
      "              precision    recall  f1-score   support\n",
      "\n",
      "           0       0.55      0.62      0.58       948\n",
      "           1       0.56      0.49      0.52       940\n",
      "\n",
      "    accuracy                           0.55      1888\n",
      "   macro avg       0.55      0.55      0.55      1888\n",
      "weighted avg       0.55      0.55      0.55      1888\n",
      "\n",
      "Walking:\n",
      "              precision    recall  f1-score   support\n",
      "\n",
      "           0       0.91      1.00      0.95      1724\n",
      "           1       0.00      0.00      0.00       164\n",
      "\n",
      "    accuracy                           0.91      1888\n",
      "   macro avg       0.46      0.50      0.48      1888\n",
      "weighted avg       0.83      0.91      0.87      1888\n",
      "\n"
     ]
    },
    {
     "name": "stderr",
     "output_type": "stream",
     "text": [
      "C:\\Users\\colli\\anaconda3\\lib\\site-packages\\sklearn\\metrics\\_classification.py:1245: UndefinedMetricWarning: Precision and F-score are ill-defined and being set to 0.0 in labels with no predicted samples. Use `zero_division` parameter to control this behavior.\n",
      "  _warn_prf(average, modifier, msg_start, len(result))\n",
      "C:\\Users\\colli\\anaconda3\\lib\\site-packages\\sklearn\\metrics\\_classification.py:1245: UndefinedMetricWarning: Precision and F-score are ill-defined and being set to 0.0 in labels with no predicted samples. Use `zero_division` parameter to control this behavior.\n",
      "  _warn_prf(average, modifier, msg_start, len(result))\n",
      "C:\\Users\\colli\\anaconda3\\lib\\site-packages\\sklearn\\metrics\\_classification.py:1245: UndefinedMetricWarning: Precision and F-score are ill-defined and being set to 0.0 in labels with no predicted samples. Use `zero_division` parameter to control this behavior.\n",
      "  _warn_prf(average, modifier, msg_start, len(result))\n",
      "C:\\Users\\colli\\anaconda3\\lib\\site-packages\\sklearn\\metrics\\_classification.py:1245: UndefinedMetricWarning: Precision and F-score are ill-defined and being set to 0.0 in labels with no predicted samples. Use `zero_division` parameter to control this behavior.\n",
      "  _warn_prf(average, modifier, msg_start, len(result))\n",
      "C:\\Users\\colli\\anaconda3\\lib\\site-packages\\sklearn\\metrics\\_classification.py:1245: UndefinedMetricWarning: Precision and F-score are ill-defined and being set to 0.0 in labels with no predicted samples. Use `zero_division` parameter to control this behavior.\n",
      "  _warn_prf(average, modifier, msg_start, len(result))\n",
      "C:\\Users\\colli\\anaconda3\\lib\\site-packages\\sklearn\\metrics\\_classification.py:1245: UndefinedMetricWarning: Precision and F-score are ill-defined and being set to 0.0 in labels with no predicted samples. Use `zero_division` parameter to control this behavior.\n",
      "  _warn_prf(average, modifier, msg_start, len(result))\n"
     ]
    }
   ],
   "source": [
    "#Checking results, Tree model performed better in precision which is what the competition scores on\n",
    "from sklearn.metrics import classification_report\n",
    "print('StartHesitation:')\n",
    "print(classification_report(ySH_test, ySH_pred4))\n",
    "print('Turning:')\n",
    "print(classification_report(yT_test, yT_pred4))\n",
    "print('Walking:')\n",
    "print(classification_report(yW_test, yW_pred4))"
   ]
  },
  {
   "cell_type": "code",
   "execution_count": 79,
   "id": "4b5d2ca2",
   "metadata": {},
   "outputs": [],
   "source": [
    "#Tuning parameters for better SVC performance\n",
    "param_grid = {'C': [0.1, 1, 10, 100, 1000], \n",
    "              'gamma': [1, 0.1, 0.01, 0.001, 0.0001],\n",
    "              'kernel': ['rbf']}\n",
    "gridSH = GridSearchCV(SVC(), param_grid, refit = True)\n",
    "gridT = GridSearchCV(SVC(), param_grid, refit = True)\n",
    "gridW = GridSearchCV(SVC(), param_grid, refit = True)"
   ]
  },
  {
   "cell_type": "code",
   "execution_count": 80,
   "id": "328966f0",
   "metadata": {},
   "outputs": [
    {
     "data": {
      "text/plain": [
       "GridSearchCV(estimator=SVC(),\n",
       "             param_grid={'C': [0.1, 1, 10, 100, 1000],\n",
       "                         'gamma': [1, 0.1, 0.01, 0.001, 0.0001],\n",
       "                         'kernel': ['rbf']})"
      ]
     },
     "execution_count": 80,
     "metadata": {},
     "output_type": "execute_result"
    }
   ],
   "source": [
    "#Fitting gridsearched SVC\n",
    "gridSH.fit(X_train,ySH_train)\n",
    "gridT.fit(X_train,yT_train)\n",
    "gridW.fit(X_train,yW_train)"
   ]
  },
  {
   "cell_type": "code",
   "execution_count": 81,
   "id": "e4d6b92e",
   "metadata": {},
   "outputs": [
    {
     "name": "stdout",
     "output_type": "stream",
     "text": [
      "{'C': 0.1, 'gamma': 1, 'kernel': 'rbf'}\n",
      "SVC(C=0.1, gamma=1)\n",
      "{'C': 10, 'gamma': 1, 'kernel': 'rbf'}\n",
      "SVC(C=10, gamma=1)\n",
      "{'C': 1, 'gamma': 1, 'kernel': 'rbf'}\n",
      "SVC(C=1, gamma=1)\n"
     ]
    }
   ],
   "source": [
    "#Showing best parameters\n",
    "print(gridSH.best_params_)\n",
    "print(gridSH.best_estimator_)\n",
    "print(gridT.best_params_)\n",
    "print(gridT.best_estimator_)\n",
    "print(gridW.best_params_)\n",
    "print(gridW.best_estimator_)\n"
   ]
  },
  {
   "cell_type": "code",
   "execution_count": 137,
   "id": "a1457757",
   "metadata": {},
   "outputs": [],
   "source": [
    "#Applying best parameters\n",
    "gridSH1 = SVC(C = 1, gamma = 1, kernel = 'rbf')\n",
    "gridT1 = SVC(C = 10, gamma = .1, kernel = 'rbf')\n",
    "gridW1 = SVC(C = 10, gamma = .1, kernel = 'rbf')"
   ]
  },
  {
   "cell_type": "code",
   "execution_count": 138,
   "id": "daa5c51d",
   "metadata": {},
   "outputs": [
    {
     "data": {
      "text/plain": [
       "SVC(C=10, gamma=0.1)"
      ]
     },
     "execution_count": 138,
     "metadata": {},
     "output_type": "execute_result"
    }
   ],
   "source": [
    "#Fitting best parameters\n",
    "gridSH1.fit(X_train,ySH_train)\n",
    "gridT1.fit(X_train,yT_train)\n",
    "gridW1.fit(X_train,yW_train)"
   ]
  },
  {
   "cell_type": "code",
   "execution_count": 84,
   "id": "8c60f6b7",
   "metadata": {},
   "outputs": [],
   "source": [
    "#Predicting best parameters\n",
    "ySH_pred5 = gridSH1.predict(X_test)\n",
    "yT_pred5 = gridT1.predict(X_test)\n",
    "yW_pred5 = gridW1.predict(X_test)"
   ]
  },
  {
   "cell_type": "code",
   "execution_count": 85,
   "id": "7acb20cf",
   "metadata": {},
   "outputs": [
    {
     "name": "stdout",
     "output_type": "stream",
     "text": [
      "StartHesitation:\n",
      "              precision    recall  f1-score   support\n",
      "\n",
      "           0       0.98      1.00      0.99      1854\n",
      "           1       0.00      0.00      0.00        34\n",
      "\n",
      "    accuracy                           0.98      1888\n",
      "   macro avg       0.49      0.50      0.50      1888\n",
      "weighted avg       0.96      0.98      0.97      1888\n",
      "\n",
      "Turning:\n",
      "              precision    recall  f1-score   support\n",
      "\n",
      "           0       0.71      0.82      0.76       948\n",
      "           1       0.79      0.66      0.72       940\n",
      "\n",
      "    accuracy                           0.74      1888\n",
      "   macro avg       0.75      0.74      0.74      1888\n",
      "weighted avg       0.75      0.74      0.74      1888\n",
      "\n",
      "Walking:\n",
      "              precision    recall  f1-score   support\n",
      "\n",
      "           0       0.93      0.99      0.96      1724\n",
      "           1       0.75      0.25      0.37       164\n",
      "\n",
      "    accuracy                           0.93      1888\n",
      "   macro avg       0.84      0.62      0.67      1888\n",
      "weighted avg       0.92      0.93      0.91      1888\n",
      "\n"
     ]
    },
    {
     "name": "stderr",
     "output_type": "stream",
     "text": [
      "C:\\Users\\colli\\anaconda3\\lib\\site-packages\\sklearn\\metrics\\_classification.py:1245: UndefinedMetricWarning: Precision and F-score are ill-defined and being set to 0.0 in labels with no predicted samples. Use `zero_division` parameter to control this behavior.\n",
      "  _warn_prf(average, modifier, msg_start, len(result))\n",
      "C:\\Users\\colli\\anaconda3\\lib\\site-packages\\sklearn\\metrics\\_classification.py:1245: UndefinedMetricWarning: Precision and F-score are ill-defined and being set to 0.0 in labels with no predicted samples. Use `zero_division` parameter to control this behavior.\n",
      "  _warn_prf(average, modifier, msg_start, len(result))\n",
      "C:\\Users\\colli\\anaconda3\\lib\\site-packages\\sklearn\\metrics\\_classification.py:1245: UndefinedMetricWarning: Precision and F-score are ill-defined and being set to 0.0 in labels with no predicted samples. Use `zero_division` parameter to control this behavior.\n",
      "  _warn_prf(average, modifier, msg_start, len(result))\n"
     ]
    }
   ],
   "source": [
    "#Viewing results, this model has best precision for walking\n",
    "from sklearn.metrics import classification_report\n",
    "print('StartHesitation:')\n",
    "print(classification_report(ySH_test, ySH_pred5))\n",
    "print('Turning:')\n",
    "print(classification_report(yT_test, yT_pred5))\n",
    "print('Walking:')\n",
    "print(classification_report(yW_test, yW_pred5))"
   ]
  },
  {
   "cell_type": "code",
   "execution_count": 86,
   "id": "b17ede78",
   "metadata": {},
   "outputs": [],
   "source": [
    "#importing oversampling package to balance out the precision better for 1's versus 0's \n",
    "from imblearn.over_sampling import SMOTE\n",
    "sm = SMOTE(random_state=42)"
   ]
  },
  {
   "cell_type": "code",
   "execution_count": 87,
   "id": "031e8d0f",
   "metadata": {},
   "outputs": [],
   "source": [
    "#applying oversampling to dataset to help balance out the dependent variable classes\n",
    "X_trainSH_OS, y_trainSH_OS = sm.fit_resample(X_train, ySH_train)\n",
    "X_trainT_OS, y_trainT_OS = sm.fit_resample(X_train, yT_train)\n",
    "X_trainW_OS, y_trainW_OS = sm.fit_resample(X_train, yW_train)"
   ]
  },
  {
   "cell_type": "code",
   "execution_count": 88,
   "id": "4ad79d8b",
   "metadata": {},
   "outputs": [
    {
     "data": {
      "text/plain": [
       "GridSearchCV(estimator=DecisionTreeClassifier(),\n",
       "             param_grid={'max_depth': [2, 3, 4, 5, 6, 7, 8],\n",
       "                         'min_samples_leaf': [1, 2],\n",
       "                         'min_samples_split': [2, 3, 4]})"
      ]
     },
     "execution_count": 88,
     "metadata": {},
     "output_type": "execute_result"
    }
   ],
   "source": [
    "#trying optimized tree model with oversampled data\n",
    "searchSH.fit(X_trainSH_OS, y_trainSH_OS)\n",
    "searchT.fit(X_trainT_OS, y_trainT_OS)\n",
    "searchW.fit(X_trainW_OS, y_trainW_OS)"
   ]
  },
  {
   "cell_type": "code",
   "execution_count": 89,
   "id": "94b1560a",
   "metadata": {},
   "outputs": [
    {
     "data": {
      "text/plain": [
       "DecisionTreeClassifier(max_depth=8)"
      ]
     },
     "execution_count": 89,
     "metadata": {},
     "output_type": "execute_result"
    }
   ],
   "source": [
    "#applying best parameters\n",
    "TreemodelSH_OS = searchSH.best_estimator_\n",
    "TreemodelSH_OS.fit(X_trainSH_OS, y_trainSH_OS)\n",
    "\n",
    "TreemodelT_OS = searchT.best_estimator_\n",
    "TreemodelT_OS.fit(X_trainT_OS, y_trainT_OS)\n",
    "\n",
    "TreemodelW_OS = searchW.best_estimator_\n",
    "TreemodelW_OS.fit(X_trainW_OS, y_trainW_OS)"
   ]
  },
  {
   "cell_type": "code",
   "execution_count": 90,
   "id": "8cce466a",
   "metadata": {},
   "outputs": [],
   "source": [
    "#Predicting using oversampling\n",
    "ySH_OSpred = TreemodelSH_OS.predict(X_test)\n",
    "yT_OSpred = TreemodelT_OS.predict(X_test)\n",
    "yW_OSpred = TreemodelW_OS.predict(X_test)"
   ]
  },
  {
   "cell_type": "code",
   "execution_count": 91,
   "id": "425414ce",
   "metadata": {
    "scrolled": true
   },
   "outputs": [
    {
     "name": "stdout",
     "output_type": "stream",
     "text": [
      "StartHesitation:\n",
      "              precision    recall  f1-score   support\n",
      "\n",
      "           0       0.99      0.56      0.71      1854\n",
      "           1       0.03      0.76      0.06        34\n",
      "\n",
      "    accuracy                           0.56      1888\n",
      "   macro avg       0.51      0.66      0.39      1888\n",
      "weighted avg       0.98      0.56      0.70      1888\n",
      "\n",
      "Turning:\n",
      "              precision    recall  f1-score   support\n",
      "\n",
      "           0       0.64      0.83      0.72       948\n",
      "           1       0.75      0.52      0.62       940\n",
      "\n",
      "    accuracy                           0.68      1888\n",
      "   macro avg       0.69      0.68      0.67      1888\n",
      "weighted avg       0.69      0.68      0.67      1888\n",
      "\n",
      "Walking:\n",
      "              precision    recall  f1-score   support\n",
      "\n",
      "           0       0.97      0.61      0.75      1724\n",
      "           1       0.17      0.82      0.27       164\n",
      "\n",
      "    accuracy                           0.62      1888\n",
      "   macro avg       0.57      0.71      0.51      1888\n",
      "weighted avg       0.90      0.62      0.71      1888\n",
      "\n"
     ]
    }
   ],
   "source": [
    "from sklearn.metrics import classification_report\n",
    "print('StartHesitation:')\n",
    "print(classification_report(ySH_test, ySH_OSpred))\n",
    "print('Turning:')\n",
    "print(classification_report(yT_test, yT_OSpred))\n",
    "print('Walking:')\n",
    "print(classification_report(yW_test, yW_OSpred))"
   ]
  },
  {
   "cell_type": "code",
   "execution_count": 92,
   "id": "8f1c60c5",
   "metadata": {},
   "outputs": [],
   "source": [
    "#Start Hesitation performs better with oversampling"
   ]
  },
  {
   "cell_type": "code",
   "execution_count": 93,
   "id": "10300ce7",
   "metadata": {},
   "outputs": [],
   "source": [
    "#Logistic regression model with oversampling\n",
    "LogModelSH.fit(X_trainSH_OS, y_trainSH_OS)\n",
    "LogModelT.fit(X_trainT_OS, y_trainT_OS)\n",
    "LogModelW.fit(X_trainW_OS, y_trainW_OS)\n",
    "\n",
    "ySH_OSpred2 = LogModelSH.predict(X_test)\n",
    "yT_OSpred2 = LogModelT.predict(X_test)\n",
    "yW_OSpred2 = LogModelW.predict(X_test)"
   ]
  },
  {
   "cell_type": "code",
   "execution_count": 94,
   "id": "12c829ce",
   "metadata": {},
   "outputs": [
    {
     "name": "stdout",
     "output_type": "stream",
     "text": [
      "StartHesitation:\n",
      "              precision    recall  f1-score   support\n",
      "\n",
      "           0       0.99      0.66      0.79      1854\n",
      "           1       0.03      0.56      0.06        34\n",
      "\n",
      "    accuracy                           0.66      1888\n",
      "   macro avg       0.51      0.61      0.42      1888\n",
      "weighted avg       0.97      0.66      0.78      1888\n",
      "\n",
      "Turning:\n",
      "              precision    recall  f1-score   support\n",
      "\n",
      "           0       0.56      0.54      0.55       948\n",
      "           1       0.55      0.56      0.56       940\n",
      "\n",
      "    accuracy                           0.55      1888\n",
      "   macro avg       0.55      0.55      0.55      1888\n",
      "weighted avg       0.55      0.55      0.55      1888\n",
      "\n",
      "Walking:\n",
      "              precision    recall  f1-score   support\n",
      "\n",
      "           0       0.92      0.45      0.60      1724\n",
      "           1       0.09      0.60      0.16       164\n",
      "\n",
      "    accuracy                           0.46      1888\n",
      "   macro avg       0.51      0.53      0.38      1888\n",
      "weighted avg       0.85      0.46      0.57      1888\n",
      "\n"
     ]
    }
   ],
   "source": [
    "#Results, not much better than regular dataset logistic regression\n",
    "from sklearn.metrics import classification_report\n",
    "print('StartHesitation:')\n",
    "print(classification_report(ySH_test, ySH_OSpred2))\n",
    "print('Turning:')\n",
    "print(classification_report(yT_test, yT_OSpred2))\n",
    "print('Walking:')\n",
    "print(classification_report(yW_test, yW_OSpred2))"
   ]
  },
  {
   "cell_type": "code",
   "execution_count": 139,
   "id": "b34854f3",
   "metadata": {},
   "outputs": [],
   "source": [
    "gridSH2 = gridSH1\n",
    "gridT2 = gridT1\n",
    "gridW2 = gridW1"
   ]
  },
  {
   "cell_type": "code",
   "execution_count": 95,
   "id": "0b7b8348",
   "metadata": {},
   "outputs": [
    {
     "data": {
      "text/plain": [
       "SVC(C=10, gamma=0.1)"
      ]
     },
     "execution_count": 95,
     "metadata": {},
     "output_type": "execute_result"
    }
   ],
   "source": [
    "#SVC Oversampled model\n",
    "gridSH2.fit(X_trainSH_OS, y_trainSH_OS)\n",
    "gridT2.fit(X_trainT_OS, y_trainT_OS)\n",
    "gridW2.fit(X_trainW_OS, y_trainW_OS)"
   ]
  },
  {
   "cell_type": "code",
   "execution_count": 96,
   "id": "e2d97afe",
   "metadata": {},
   "outputs": [],
   "source": [
    "#SVC oversampled predictions\n",
    "gridSHOSpred = gridSH2.predict(X_test)\n",
    "gridTOSpred = gridT2.predict(X_test)\n",
    "gridWOSpred = gridW2.predict(X_test)"
   ]
  },
  {
   "cell_type": "code",
   "execution_count": 97,
   "id": "0f45c4b8",
   "metadata": {},
   "outputs": [
    {
     "name": "stdout",
     "output_type": "stream",
     "text": [
      "StartHesitation:\n",
      "              precision    recall  f1-score   support\n",
      "\n",
      "           0       0.99      0.86      0.92      1854\n",
      "           1       0.08      0.68      0.15        34\n",
      "\n",
      "    accuracy                           0.86      1888\n",
      "   macro avg       0.54      0.77      0.53      1888\n",
      "weighted avg       0.98      0.86      0.91      1888\n",
      "\n",
      "Turning:\n",
      "              precision    recall  f1-score   support\n",
      "\n",
      "           0       0.76      0.72      0.74       948\n",
      "           1       0.73      0.76      0.75       940\n",
      "\n",
      "    accuracy                           0.74      1888\n",
      "   macro avg       0.74      0.74      0.74      1888\n",
      "weighted avg       0.74      0.74      0.74      1888\n",
      "\n",
      "Walking:\n",
      "              precision    recall  f1-score   support\n",
      "\n",
      "           0       0.96      0.73      0.83      1724\n",
      "           1       0.19      0.68      0.30       164\n",
      "\n",
      "    accuracy                           0.73      1888\n",
      "   macro avg       0.58      0.71      0.57      1888\n",
      "weighted avg       0.89      0.73      0.79      1888\n",
      "\n"
     ]
    }
   ],
   "source": [
    "#Results oversampled SVC, this has the best Starthesitation precision so far\n",
    "from sklearn.metrics import classification_report\n",
    "print('StartHesitation:')\n",
    "print(classification_report(ySH_test, gridSHOSpred))\n",
    "print('Turning:')\n",
    "print(classification_report(yT_test, gridTOSpred))\n",
    "print('Walking:')\n",
    "print(classification_report(yW_test, gridWOSpred))"
   ]
  },
  {
   "cell_type": "code",
   "execution_count": 98,
   "id": "043a823c",
   "metadata": {},
   "outputs": [
    {
     "name": "stdout",
     "output_type": "stream",
     "text": [
      "Requirement already satisfied: xgboost in c:\\users\\colli\\anaconda3\\lib\\site-packages (1.7.5)Note: you may need to restart the kernel to use updated packages.\n",
      "Requirement already satisfied: numpy in c:\\users\\colli\\anaconda3\\lib\\site-packages (from xgboost) (1.22.4)\n",
      "Requirement already satisfied: scipy in c:\\users\\colli\\anaconda3\\lib\\site-packages (from xgboost) (1.6.2)\n",
      "\n"
     ]
    }
   ],
   "source": [
    "#xgboost install\n",
    "pip install xgboost"
   ]
  },
  {
   "cell_type": "code",
   "execution_count": 126,
   "id": "e454669c",
   "metadata": {},
   "outputs": [],
   "source": [
    "#importing xgboost\n",
    "import xgboost as xgb"
   ]
  },
  {
   "cell_type": "code",
   "execution_count": 100,
   "id": "7d7e5335",
   "metadata": {},
   "outputs": [
    {
     "name": "stderr",
     "output_type": "stream",
     "text": [
      "C:\\Users\\colli\\anaconda3\\lib\\site-packages\\xgboost\\sklearn.py:1395: UserWarning: `use_label_encoder` is deprecated in 1.7.0.\n",
      "  warnings.warn(\"`use_label_encoder` is deprecated in 1.7.0.\")\n"
     ]
    }
   ],
   "source": [
    "#Creating XGBoost model\n",
    "#https://towardsdatascience.com/beginners-guide-to-xgboost-for-classification-problems-50f75aac5390\n",
    "xgbSH = xgb.XGBClassifier()\n",
    "xgbT = xgb.XGBClassifier()\n",
    "xgbW = xgb.XGBClassifier(objective='binary:logistic',\n",
    "                          booster='gbtree',\n",
    "                          eval_metric='auc',\n",
    "                          tree_method='hist',\n",
    "                          grow_policy='lossguide',\n",
    "                          use_label_encoder=False)"
   ]
  },
  {
   "cell_type": "code",
   "execution_count": 101,
   "id": "2c7c9899",
   "metadata": {
    "scrolled": true
   },
   "outputs": [
    {
     "data": {
      "text/plain": [
       "XGBClassifier(base_score=None, booster='gbtree', callbacks=None,\n",
       "              colsample_bylevel=None, colsample_bynode=None,\n",
       "              colsample_bytree=None, early_stopping_rounds=None,\n",
       "              enable_categorical=False, eval_metric='auc', feature_types=None,\n",
       "              gamma=None, gpu_id=None, grow_policy='lossguide',\n",
       "              importance_type=None, interaction_constraints=None,\n",
       "              learning_rate=None, max_bin=None, max_cat_threshold=None,\n",
       "              max_cat_to_onehot=None, max_delta_step=None, max_depth=None,\n",
       "              max_leaves=None, min_child_weight=None, missing=nan,\n",
       "              monotone_constraints=None, n_estimators=100, n_jobs=None,\n",
       "              num_parallel_tree=None, predictor=None, random_state=None, ...)"
      ]
     },
     "execution_count": 101,
     "metadata": {},
     "output_type": "execute_result"
    }
   ],
   "source": [
    "#Fitting XGboost\n",
    "xgbSH.fit(X_train,ySH_train)\n",
    "xgbT.fit(X_train,ySH_train)\n",
    "xgbW.fit(X_train,ySH_train)"
   ]
  },
  {
   "cell_type": "code",
   "execution_count": 102,
   "id": "c0c6c457",
   "metadata": {},
   "outputs": [],
   "source": [
    "#predicting using xgboost\n",
    "xgbSH_pred = xgbSH.predict(X_test)\n",
    "xgbT_pred = xgbT.predict(X_test)\n",
    "xgbW_pred = xgbW.predict(X_test)"
   ]
  },
  {
   "cell_type": "code",
   "execution_count": 103,
   "id": "c04c30e9",
   "metadata": {},
   "outputs": [
    {
     "name": "stdout",
     "output_type": "stream",
     "text": [
      "StartHesitation:\n",
      "              precision    recall  f1-score   support\n",
      "\n",
      "           0       0.98      1.00      0.99      1854\n",
      "           1       0.00      0.00      0.00        34\n",
      "\n",
      "    accuracy                           0.98      1888\n",
      "   macro avg       0.49      0.50      0.50      1888\n",
      "weighted avg       0.96      0.98      0.97      1888\n",
      "\n",
      "Turning:\n",
      "              precision    recall  f1-score   support\n",
      "\n",
      "           0       0.50      1.00      0.67       948\n",
      "           1       0.00      0.00      0.00       940\n",
      "\n",
      "    accuracy                           0.50      1888\n",
      "   macro avg       0.25      0.50      0.33      1888\n",
      "weighted avg       0.25      0.50      0.34      1888\n",
      "\n",
      "Walking:\n",
      "              precision    recall  f1-score   support\n",
      "\n",
      "           0       0.91      1.00      0.95      1724\n",
      "           1       0.00      0.00      0.00       164\n",
      "\n",
      "    accuracy                           0.91      1888\n",
      "   macro avg       0.46      0.50      0.48      1888\n",
      "weighted avg       0.83      0.91      0.87      1888\n",
      "\n"
     ]
    },
    {
     "name": "stderr",
     "output_type": "stream",
     "text": [
      "C:\\Users\\colli\\anaconda3\\lib\\site-packages\\sklearn\\metrics\\_classification.py:1245: UndefinedMetricWarning: Precision and F-score are ill-defined and being set to 0.0 in labels with no predicted samples. Use `zero_division` parameter to control this behavior.\n",
      "  _warn_prf(average, modifier, msg_start, len(result))\n",
      "C:\\Users\\colli\\anaconda3\\lib\\site-packages\\sklearn\\metrics\\_classification.py:1245: UndefinedMetricWarning: Precision and F-score are ill-defined and being set to 0.0 in labels with no predicted samples. Use `zero_division` parameter to control this behavior.\n",
      "  _warn_prf(average, modifier, msg_start, len(result))\n",
      "C:\\Users\\colli\\anaconda3\\lib\\site-packages\\sklearn\\metrics\\_classification.py:1245: UndefinedMetricWarning: Precision and F-score are ill-defined and being set to 0.0 in labels with no predicted samples. Use `zero_division` parameter to control this behavior.\n",
      "  _warn_prf(average, modifier, msg_start, len(result))\n",
      "C:\\Users\\colli\\anaconda3\\lib\\site-packages\\sklearn\\metrics\\_classification.py:1245: UndefinedMetricWarning: Precision and F-score are ill-defined and being set to 0.0 in labels with no predicted samples. Use `zero_division` parameter to control this behavior.\n",
      "  _warn_prf(average, modifier, msg_start, len(result))\n",
      "C:\\Users\\colli\\anaconda3\\lib\\site-packages\\sklearn\\metrics\\_classification.py:1245: UndefinedMetricWarning: Precision and F-score are ill-defined and being set to 0.0 in labels with no predicted samples. Use `zero_division` parameter to control this behavior.\n",
      "  _warn_prf(average, modifier, msg_start, len(result))\n",
      "C:\\Users\\colli\\anaconda3\\lib\\site-packages\\sklearn\\metrics\\_classification.py:1245: UndefinedMetricWarning: Precision and F-score are ill-defined and being set to 0.0 in labels with no predicted samples. Use `zero_division` parameter to control this behavior.\n",
      "  _warn_prf(average, modifier, msg_start, len(result))\n",
      "C:\\Users\\colli\\anaconda3\\lib\\site-packages\\sklearn\\metrics\\_classification.py:1245: UndefinedMetricWarning: Precision and F-score are ill-defined and being set to 0.0 in labels with no predicted samples. Use `zero_division` parameter to control this behavior.\n",
      "  _warn_prf(average, modifier, msg_start, len(result))\n",
      "C:\\Users\\colli\\anaconda3\\lib\\site-packages\\sklearn\\metrics\\_classification.py:1245: UndefinedMetricWarning: Precision and F-score are ill-defined and being set to 0.0 in labels with no predicted samples. Use `zero_division` parameter to control this behavior.\n",
      "  _warn_prf(average, modifier, msg_start, len(result))\n",
      "C:\\Users\\colli\\anaconda3\\lib\\site-packages\\sklearn\\metrics\\_classification.py:1245: UndefinedMetricWarning: Precision and F-score are ill-defined and being set to 0.0 in labels with no predicted samples. Use `zero_division` parameter to control this behavior.\n",
      "  _warn_prf(average, modifier, msg_start, len(result))\n"
     ]
    }
   ],
   "source": [
    "#Results xgboost, did not perform great\n",
    "from sklearn.metrics import classification_report\n",
    "print('StartHesitation:')\n",
    "print(classification_report(ySH_test, xgbSH_pred))\n",
    "print('Turning:')\n",
    "print(classification_report(yT_test, xgbT_pred))\n",
    "print('Walking:')\n",
    "print(classification_report(yW_test, xgbW_pred))"
   ]
  },
  {
   "cell_type": "code",
   "execution_count": 104,
   "id": "61a4e8bb",
   "metadata": {},
   "outputs": [
    {
     "data": {
      "text/plain": [
       "XGBClassifier(base_score=None, booster='gbtree', callbacks=None,\n",
       "              colsample_bylevel=None, colsample_bynode=None,\n",
       "              colsample_bytree=None, early_stopping_rounds=None,\n",
       "              enable_categorical=False, eval_metric='auc', feature_types=None,\n",
       "              gamma=None, gpu_id=None, grow_policy='lossguide',\n",
       "              importance_type=None, interaction_constraints=None,\n",
       "              learning_rate=None, max_bin=None, max_cat_threshold=None,\n",
       "              max_cat_to_onehot=None, max_delta_step=None, max_depth=None,\n",
       "              max_leaves=None, min_child_weight=None, missing=nan,\n",
       "              monotone_constraints=None, n_estimators=100, n_jobs=None,\n",
       "              num_parallel_tree=None, predictor=None, random_state=None, ...)"
      ]
     },
     "execution_count": 104,
     "metadata": {},
     "output_type": "execute_result"
    }
   ],
   "source": [
    "#XGboost oversampling\n",
    "xgbSH.fit(X_trainSH_OS, y_trainSH_OS)\n",
    "xgbT.fit(X_trainT_OS, y_trainT_OS)\n",
    "xgbW.fit(X_trainW_OS, y_trainW_OS)\n"
   ]
  },
  {
   "cell_type": "code",
   "execution_count": 105,
   "id": "2745ba5a",
   "metadata": {},
   "outputs": [],
   "source": [
    "#XGboost oversampling predictions\n",
    "xgbSH_predOS = xgbSH.predict(X_test)\n",
    "xgbT_predOS = xgbT.predict(X_test)\n",
    "xgbW_predOS = xgbW.predict(X_test)"
   ]
  },
  {
   "cell_type": "code",
   "execution_count": 125,
   "id": "55ff53f6",
   "metadata": {},
   "outputs": [
    {
     "name": "stdout",
     "output_type": "stream",
     "text": [
      "StartHesitation:\n",
      "              precision    recall  f1-score   support\n",
      "\n",
      "           0       0.99      0.67      0.80      1854\n",
      "           1       0.04      0.76      0.08        34\n",
      "\n",
      "    accuracy                           0.67      1888\n",
      "   macro avg       0.52      0.72      0.44      1888\n",
      "weighted avg       0.98      0.67      0.79      1888\n",
      "\n",
      "Turning:\n",
      "              precision    recall  f1-score   support\n",
      "\n",
      "           0       0.80      0.70      0.74       948\n",
      "           1       0.73      0.82      0.77       940\n",
      "\n",
      "    accuracy                           0.76      1888\n",
      "   macro avg       0.76      0.76      0.76      1888\n",
      "weighted avg       0.76      0.76      0.76      1888\n",
      "\n",
      "Walking:\n",
      "              precision    recall  f1-score   support\n",
      "\n",
      "           0       0.98      0.41      0.58      1724\n",
      "           1       0.13      0.92      0.23       164\n",
      "\n",
      "    accuracy                           0.45      1888\n",
      "   macro avg       0.56      0.66      0.40      1888\n",
      "weighted avg       0.91      0.45      0.54      1888\n",
      "\n",
      "0.035158521325603286\n",
      "0.6883612370094745\n",
      "0.12531019952773084\n"
     ]
    }
   ],
   "source": [
    "#XGboost oversampling predictions results,  precision does well for turning\n",
    "from sklearn.metrics import classification_report\n",
    "print('StartHesitation:')\n",
    "print(classification_report(ySH_test, xgbSH_predOS))\n",
    "print('Turning:')\n",
    "print(classification_report(yT_test, xgbT_predOS))\n",
    "print('Walking:')\n",
    "print(classification_report(yW_test, xgbW_predOS))\n"
   ]
  },
  {
   "cell_type": "code",
   "execution_count": 107,
   "id": "357cc722",
   "metadata": {},
   "outputs": [
    {
     "data": {
      "text/html": [
       "<div>\n",
       "<style scoped>\n",
       "    .dataframe tbody tr th:only-of-type {\n",
       "        vertical-align: middle;\n",
       "    }\n",
       "\n",
       "    .dataframe tbody tr th {\n",
       "        vertical-align: top;\n",
       "    }\n",
       "\n",
       "    .dataframe thead th {\n",
       "        text-align: right;\n",
       "    }\n",
       "</style>\n",
       "<table border=\"1\" class=\"dataframe\">\n",
       "  <thead>\n",
       "    <tr style=\"text-align: right;\">\n",
       "      <th></th>\n",
       "      <th>Time</th>\n",
       "      <th>AccV</th>\n",
       "      <th>AccML</th>\n",
       "      <th>AccAP</th>\n",
       "      <th>Id</th>\n",
       "    </tr>\n",
       "  </thead>\n",
       "  <tbody>\n",
       "    <tr>\n",
       "      <th>0</th>\n",
       "      <td>0</td>\n",
       "      <td>-0.914652</td>\n",
       "      <td>-0.300851</td>\n",
       "      <td>0.298156</td>\n",
       "      <td>test\\defog\\02ab235146</td>\n",
       "    </tr>\n",
       "    <tr>\n",
       "      <th>1</th>\n",
       "      <td>1</td>\n",
       "      <td>-0.914367</td>\n",
       "      <td>-0.301572</td>\n",
       "      <td>0.298325</td>\n",
       "      <td>test\\defog\\02ab235146</td>\n",
       "    </tr>\n",
       "    <tr>\n",
       "      <th>2</th>\n",
       "      <td>2</td>\n",
       "      <td>-0.779540</td>\n",
       "      <td>-0.343197</td>\n",
       "      <td>0.275690</td>\n",
       "      <td>test\\defog\\02ab235146</td>\n",
       "    </tr>\n",
       "    <tr>\n",
       "      <th>3</th>\n",
       "      <td>3</td>\n",
       "      <td>-0.993162</td>\n",
       "      <td>-0.270281</td>\n",
       "      <td>0.315775</td>\n",
       "      <td>test\\defog\\02ab235146</td>\n",
       "    </tr>\n",
       "    <tr>\n",
       "      <th>4</th>\n",
       "      <td>4</td>\n",
       "      <td>-0.948767</td>\n",
       "      <td>-0.307849</td>\n",
       "      <td>0.297191</td>\n",
       "      <td>test\\defog\\02ab235146</td>\n",
       "    </tr>\n",
       "  </tbody>\n",
       "</table>\n",
       "</div>"
      ],
      "text/plain": [
       "   Time      AccV     AccML     AccAP                     Id\n",
       "0     0 -0.914652 -0.300851  0.298156  test\\defog\\02ab235146\n",
       "1     1 -0.914367 -0.301572  0.298325  test\\defog\\02ab235146\n",
       "2     2 -0.779540 -0.343197  0.275690  test\\defog\\02ab235146\n",
       "3     3 -0.993162 -0.270281  0.315775  test\\defog\\02ab235146\n",
       "4     4 -0.948767 -0.307849  0.297191  test\\defog\\02ab235146"
      ]
     },
     "execution_count": 107,
     "metadata": {},
     "output_type": "execute_result"
    }
   ],
   "source": [
    "#checking final test set to make submission off of\n",
    "test.head()"
   ]
  },
  {
   "cell_type": "code",
   "execution_count": 108,
   "id": "14ee573e",
   "metadata": {},
   "outputs": [],
   "source": [
    "#adjusting ID's to be able to join off of them\n",
    "test['Id'] = test['Id'].str[-10:]"
   ]
  },
  {
   "cell_type": "code",
   "execution_count": 109,
   "id": "2f236bc8",
   "metadata": {},
   "outputs": [],
   "source": [
    "#joining for subject id, a majority of rows come from defog dataset patients\n",
    "test_join = pd.merge(test, defog, how='left', on='Id')"
   ]
  },
  {
   "cell_type": "code",
   "execution_count": 110,
   "id": "8fe21189",
   "metadata": {},
   "outputs": [
    {
     "data": {
      "text/html": [
       "<div>\n",
       "<style scoped>\n",
       "    .dataframe tbody tr th:only-of-type {\n",
       "        vertical-align: middle;\n",
       "    }\n",
       "\n",
       "    .dataframe tbody tr th {\n",
       "        vertical-align: top;\n",
       "    }\n",
       "\n",
       "    .dataframe thead th {\n",
       "        text-align: right;\n",
       "    }\n",
       "</style>\n",
       "<table border=\"1\" class=\"dataframe\">\n",
       "  <thead>\n",
       "    <tr style=\"text-align: right;\">\n",
       "      <th></th>\n",
       "      <th>Time</th>\n",
       "      <th>AccV</th>\n",
       "      <th>AccML</th>\n",
       "      <th>AccAP</th>\n",
       "      <th>Id</th>\n",
       "      <th>Subject</th>\n",
       "      <th>Visit</th>\n",
       "      <th>Medication</th>\n",
       "    </tr>\n",
       "  </thead>\n",
       "  <tbody>\n",
       "    <tr>\n",
       "      <th>0</th>\n",
       "      <td>0</td>\n",
       "      <td>-0.914652</td>\n",
       "      <td>-0.300851</td>\n",
       "      <td>0.298156</td>\n",
       "      <td>02ab235146</td>\n",
       "      <td>ab54e1</td>\n",
       "      <td>2.0</td>\n",
       "      <td>on</td>\n",
       "    </tr>\n",
       "    <tr>\n",
       "      <th>1</th>\n",
       "      <td>1</td>\n",
       "      <td>-0.914367</td>\n",
       "      <td>-0.301572</td>\n",
       "      <td>0.298325</td>\n",
       "      <td>02ab235146</td>\n",
       "      <td>ab54e1</td>\n",
       "      <td>2.0</td>\n",
       "      <td>on</td>\n",
       "    </tr>\n",
       "    <tr>\n",
       "      <th>2</th>\n",
       "      <td>2</td>\n",
       "      <td>-0.779540</td>\n",
       "      <td>-0.343197</td>\n",
       "      <td>0.275690</td>\n",
       "      <td>02ab235146</td>\n",
       "      <td>ab54e1</td>\n",
       "      <td>2.0</td>\n",
       "      <td>on</td>\n",
       "    </tr>\n",
       "    <tr>\n",
       "      <th>3</th>\n",
       "      <td>3</td>\n",
       "      <td>-0.993162</td>\n",
       "      <td>-0.270281</td>\n",
       "      <td>0.315775</td>\n",
       "      <td>02ab235146</td>\n",
       "      <td>ab54e1</td>\n",
       "      <td>2.0</td>\n",
       "      <td>on</td>\n",
       "    </tr>\n",
       "    <tr>\n",
       "      <th>4</th>\n",
       "      <td>4</td>\n",
       "      <td>-0.948767</td>\n",
       "      <td>-0.307849</td>\n",
       "      <td>0.297191</td>\n",
       "      <td>02ab235146</td>\n",
       "      <td>ab54e1</td>\n",
       "      <td>2.0</td>\n",
       "      <td>on</td>\n",
       "    </tr>\n",
       "  </tbody>\n",
       "</table>\n",
       "</div>"
      ],
      "text/plain": [
       "   Time      AccV     AccML     AccAP          Id Subject  Visit Medication\n",
       "0     0 -0.914652 -0.300851  0.298156  02ab235146  ab54e1    2.0         on\n",
       "1     1 -0.914367 -0.301572  0.298325  02ab235146  ab54e1    2.0         on\n",
       "2     2 -0.779540 -0.343197  0.275690  02ab235146  ab54e1    2.0         on\n",
       "3     3 -0.993162 -0.270281  0.315775  02ab235146  ab54e1    2.0         on\n",
       "4     4 -0.948767 -0.307849  0.297191  02ab235146  ab54e1    2.0         on"
      ]
     },
     "execution_count": 110,
     "metadata": {},
     "output_type": "execute_result"
    }
   ],
   "source": [
    "test_join.head()"
   ]
  },
  {
   "cell_type": "code",
   "execution_count": 111,
   "id": "07b8ed65",
   "metadata": {},
   "outputs": [],
   "source": [
    "#joining meta dataset, a small amount of subjects in final test set come from meta dataset\n",
    "final_test = test_join.merge(meta, on='Id', how='left')"
   ]
  },
  {
   "cell_type": "code",
   "execution_count": 112,
   "id": "5374fa37",
   "metadata": {},
   "outputs": [
    {
     "data": {
      "text/html": [
       "<div>\n",
       "<style scoped>\n",
       "    .dataframe tbody tr th:only-of-type {\n",
       "        vertical-align: middle;\n",
       "    }\n",
       "\n",
       "    .dataframe tbody tr th {\n",
       "        vertical-align: top;\n",
       "    }\n",
       "\n",
       "    .dataframe thead th {\n",
       "        text-align: right;\n",
       "    }\n",
       "</style>\n",
       "<table border=\"1\" class=\"dataframe\">\n",
       "  <thead>\n",
       "    <tr style=\"text-align: right;\">\n",
       "      <th></th>\n",
       "      <th>Time</th>\n",
       "      <th>AccV</th>\n",
       "      <th>AccML</th>\n",
       "      <th>AccAP</th>\n",
       "      <th>Id</th>\n",
       "      <th>Subject_x</th>\n",
       "      <th>Visit_x</th>\n",
       "      <th>Medication_x</th>\n",
       "      <th>Subject_y</th>\n",
       "      <th>Visit_y</th>\n",
       "      <th>Test</th>\n",
       "      <th>Medication_y</th>\n",
       "    </tr>\n",
       "  </thead>\n",
       "  <tbody>\n",
       "    <tr>\n",
       "      <th>286365</th>\n",
       "      <td>4677</td>\n",
       "      <td>-9.351431</td>\n",
       "      <td>0.370047</td>\n",
       "      <td>-2.286318</td>\n",
       "      <td>003f117e14</td>\n",
       "      <td>NaN</td>\n",
       "      <td>NaN</td>\n",
       "      <td>NaN</td>\n",
       "      <td>13abfd</td>\n",
       "      <td>3.0</td>\n",
       "      <td>2.0</td>\n",
       "      <td>on</td>\n",
       "    </tr>\n",
       "    <tr>\n",
       "      <th>286366</th>\n",
       "      <td>4678</td>\n",
       "      <td>-9.341410</td>\n",
       "      <td>0.347721</td>\n",
       "      <td>-2.321991</td>\n",
       "      <td>003f117e14</td>\n",
       "      <td>NaN</td>\n",
       "      <td>NaN</td>\n",
       "      <td>NaN</td>\n",
       "      <td>13abfd</td>\n",
       "      <td>3.0</td>\n",
       "      <td>2.0</td>\n",
       "      <td>on</td>\n",
       "    </tr>\n",
       "    <tr>\n",
       "      <th>286367</th>\n",
       "      <td>4679</td>\n",
       "      <td>-9.350667</td>\n",
       "      <td>0.361341</td>\n",
       "      <td>-2.297158</td>\n",
       "      <td>003f117e14</td>\n",
       "      <td>NaN</td>\n",
       "      <td>NaN</td>\n",
       "      <td>NaN</td>\n",
       "      <td>13abfd</td>\n",
       "      <td>3.0</td>\n",
       "      <td>2.0</td>\n",
       "      <td>on</td>\n",
       "    </tr>\n",
       "    <tr>\n",
       "      <th>286368</th>\n",
       "      <td>4680</td>\n",
       "      <td>-9.343977</td>\n",
       "      <td>0.365726</td>\n",
       "      <td>-2.292650</td>\n",
       "      <td>003f117e14</td>\n",
       "      <td>NaN</td>\n",
       "      <td>NaN</td>\n",
       "      <td>NaN</td>\n",
       "      <td>13abfd</td>\n",
       "      <td>3.0</td>\n",
       "      <td>2.0</td>\n",
       "      <td>on</td>\n",
       "    </tr>\n",
       "    <tr>\n",
       "      <th>286369</th>\n",
       "      <td>4681</td>\n",
       "      <td>-9.348477</td>\n",
       "      <td>0.379439</td>\n",
       "      <td>-2.335422</td>\n",
       "      <td>003f117e14</td>\n",
       "      <td>NaN</td>\n",
       "      <td>NaN</td>\n",
       "      <td>NaN</td>\n",
       "      <td>13abfd</td>\n",
       "      <td>3.0</td>\n",
       "      <td>2.0</td>\n",
       "      <td>on</td>\n",
       "    </tr>\n",
       "  </tbody>\n",
       "</table>\n",
       "</div>"
      ],
      "text/plain": [
       "        Time      AccV     AccML     AccAP          Id Subject_x  Visit_x  \\\n",
       "286365  4677 -9.351431  0.370047 -2.286318  003f117e14       NaN      NaN   \n",
       "286366  4678 -9.341410  0.347721 -2.321991  003f117e14       NaN      NaN   \n",
       "286367  4679 -9.350667  0.361341 -2.297158  003f117e14       NaN      NaN   \n",
       "286368  4680 -9.343977  0.365726 -2.292650  003f117e14       NaN      NaN   \n",
       "286369  4681 -9.348477  0.379439 -2.335422  003f117e14       NaN      NaN   \n",
       "\n",
       "       Medication_x Subject_y  Visit_y  Test Medication_y  \n",
       "286365          NaN    13abfd      3.0   2.0           on  \n",
       "286366          NaN    13abfd      3.0   2.0           on  \n",
       "286367          NaN    13abfd      3.0   2.0           on  \n",
       "286368          NaN    13abfd      3.0   2.0           on  \n",
       "286369          NaN    13abfd      3.0   2.0           on  "
      ]
     },
     "execution_count": 112,
     "metadata": {},
     "output_type": "execute_result"
    }
   ],
   "source": [
    "final_test.tail()"
   ]
  },
  {
   "cell_type": "code",
   "execution_count": 113,
   "id": "f8aa2aab",
   "metadata": {},
   "outputs": [],
   "source": [
    "#Getting correct subjects into one column\n",
    "final_test['Subject_x'] = final_test['Subject_x'].mask(final_test['Subject_x'].isna(), final_test['Subject_y'])"
   ]
  },
  {
   "cell_type": "code",
   "execution_count": 114,
   "id": "8b284cff",
   "metadata": {},
   "outputs": [
    {
     "name": "stdout",
     "output_type": "stream",
     "text": [
      "<class 'pandas.core.frame.DataFrame'>\n",
      "Int64Index: 286370 entries, 0 to 286369\n",
      "Data columns (total 12 columns):\n",
      " #   Column        Non-Null Count   Dtype  \n",
      "---  ------        --------------   -----  \n",
      " 0   Time          286370 non-null  int64  \n",
      " 1   AccV          286370 non-null  float64\n",
      " 2   AccML         286370 non-null  float64\n",
      " 3   AccAP         286370 non-null  float64\n",
      " 4   Id            286370 non-null  object \n",
      " 5   Subject_x     286370 non-null  object \n",
      " 6   Visit_x       281688 non-null  float64\n",
      " 7   Medication_x  281688 non-null  object \n",
      " 8   Subject_y     4682 non-null    object \n",
      " 9   Visit_y       4682 non-null    float64\n",
      " 10  Test          4682 non-null    float64\n",
      " 11  Medication_y  4682 non-null    object \n",
      "dtypes: float64(6), int64(1), object(5)\n",
      "memory usage: 28.4+ MB\n"
     ]
    }
   ],
   "source": [
    "#making sure subjects aren't missing\n",
    "final_test.info()"
   ]
  },
  {
   "cell_type": "code",
   "execution_count": 115,
   "id": "d04eac2c",
   "metadata": {},
   "outputs": [],
   "source": [
    "#Getting rid of unecessary columns\n",
    "final_test = final_test.drop(['Visit_x', 'Medication_x', 'Subject_y', 'Visit_y', 'Test', 'Medication_y'], axis=1)"
   ]
  },
  {
   "cell_type": "code",
   "execution_count": 116,
   "id": "8de7a043",
   "metadata": {},
   "outputs": [
    {
     "data": {
      "text/html": [
       "<div>\n",
       "<style scoped>\n",
       "    .dataframe tbody tr th:only-of-type {\n",
       "        vertical-align: middle;\n",
       "    }\n",
       "\n",
       "    .dataframe tbody tr th {\n",
       "        vertical-align: top;\n",
       "    }\n",
       "\n",
       "    .dataframe thead th {\n",
       "        text-align: right;\n",
       "    }\n",
       "</style>\n",
       "<table border=\"1\" class=\"dataframe\">\n",
       "  <thead>\n",
       "    <tr style=\"text-align: right;\">\n",
       "      <th></th>\n",
       "      <th>Time</th>\n",
       "      <th>AccV</th>\n",
       "      <th>AccML</th>\n",
       "      <th>AccAP</th>\n",
       "      <th>Id</th>\n",
       "      <th>Subject_x</th>\n",
       "    </tr>\n",
       "  </thead>\n",
       "  <tbody>\n",
       "    <tr>\n",
       "      <th>0</th>\n",
       "      <td>0</td>\n",
       "      <td>-0.914652</td>\n",
       "      <td>-0.300851</td>\n",
       "      <td>0.298156</td>\n",
       "      <td>02ab235146</td>\n",
       "      <td>ab54e1</td>\n",
       "    </tr>\n",
       "    <tr>\n",
       "      <th>1</th>\n",
       "      <td>1</td>\n",
       "      <td>-0.914367</td>\n",
       "      <td>-0.301572</td>\n",
       "      <td>0.298325</td>\n",
       "      <td>02ab235146</td>\n",
       "      <td>ab54e1</td>\n",
       "    </tr>\n",
       "    <tr>\n",
       "      <th>2</th>\n",
       "      <td>2</td>\n",
       "      <td>-0.779540</td>\n",
       "      <td>-0.343197</td>\n",
       "      <td>0.275690</td>\n",
       "      <td>02ab235146</td>\n",
       "      <td>ab54e1</td>\n",
       "    </tr>\n",
       "    <tr>\n",
       "      <th>3</th>\n",
       "      <td>3</td>\n",
       "      <td>-0.993162</td>\n",
       "      <td>-0.270281</td>\n",
       "      <td>0.315775</td>\n",
       "      <td>02ab235146</td>\n",
       "      <td>ab54e1</td>\n",
       "    </tr>\n",
       "    <tr>\n",
       "      <th>4</th>\n",
       "      <td>4</td>\n",
       "      <td>-0.948767</td>\n",
       "      <td>-0.307849</td>\n",
       "      <td>0.297191</td>\n",
       "      <td>02ab235146</td>\n",
       "      <td>ab54e1</td>\n",
       "    </tr>\n",
       "  </tbody>\n",
       "</table>\n",
       "</div>"
      ],
      "text/plain": [
       "   Time      AccV     AccML     AccAP          Id Subject_x\n",
       "0     0 -0.914652 -0.300851  0.298156  02ab235146    ab54e1\n",
       "1     1 -0.914367 -0.301572  0.298325  02ab235146    ab54e1\n",
       "2     2 -0.779540 -0.343197  0.275690  02ab235146    ab54e1\n",
       "3     3 -0.993162 -0.270281  0.315775  02ab235146    ab54e1\n",
       "4     4 -0.948767 -0.307849  0.297191  02ab235146    ab54e1"
      ]
     },
     "execution_count": 116,
     "metadata": {},
     "output_type": "execute_result"
    }
   ],
   "source": [
    "final_test.head()"
   ]
  },
  {
   "cell_type": "code",
   "execution_count": 117,
   "id": "974d96cf",
   "metadata": {},
   "outputs": [],
   "source": [
    "#Getting events into final test set\n",
    "final_test = pd.merge(final_test, events, how='left', on='Id').fillna(-1)"
   ]
  },
  {
   "cell_type": "code",
   "execution_count": 118,
   "id": "96a06681",
   "metadata": {},
   "outputs": [
    {
     "data": {
      "text/html": [
       "<div>\n",
       "<style scoped>\n",
       "    .dataframe tbody tr th:only-of-type {\n",
       "        vertical-align: middle;\n",
       "    }\n",
       "\n",
       "    .dataframe tbody tr th {\n",
       "        vertical-align: top;\n",
       "    }\n",
       "\n",
       "    .dataframe thead th {\n",
       "        text-align: right;\n",
       "    }\n",
       "</style>\n",
       "<table border=\"1\" class=\"dataframe\">\n",
       "  <thead>\n",
       "    <tr style=\"text-align: right;\">\n",
       "      <th></th>\n",
       "      <th>Time</th>\n",
       "      <th>AccV</th>\n",
       "      <th>AccML</th>\n",
       "      <th>AccAP</th>\n",
       "      <th>Id</th>\n",
       "      <th>Subject_x</th>\n",
       "      <th>Init</th>\n",
       "      <th>Completion</th>\n",
       "      <th>Type</th>\n",
       "      <th>Kinetic</th>\n",
       "    </tr>\n",
       "  </thead>\n",
       "  <tbody>\n",
       "    <tr>\n",
       "      <th>0</th>\n",
       "      <td>0</td>\n",
       "      <td>-0.914652</td>\n",
       "      <td>-0.300851</td>\n",
       "      <td>0.298156</td>\n",
       "      <td>02ab235146</td>\n",
       "      <td>ab54e1</td>\n",
       "      <td>1969.173</td>\n",
       "      <td>1972.535</td>\n",
       "      <td>-1</td>\n",
       "      <td>-1.0</td>\n",
       "    </tr>\n",
       "    <tr>\n",
       "      <th>1</th>\n",
       "      <td>0</td>\n",
       "      <td>-0.914652</td>\n",
       "      <td>-0.300851</td>\n",
       "      <td>0.298156</td>\n",
       "      <td>02ab235146</td>\n",
       "      <td>ab54e1</td>\n",
       "      <td>2078.982</td>\n",
       "      <td>2080.524</td>\n",
       "      <td>-1</td>\n",
       "      <td>-1.0</td>\n",
       "    </tr>\n",
       "    <tr>\n",
       "      <th>2</th>\n",
       "      <td>0</td>\n",
       "      <td>-0.914652</td>\n",
       "      <td>-0.300851</td>\n",
       "      <td>0.298156</td>\n",
       "      <td>02ab235146</td>\n",
       "      <td>ab54e1</td>\n",
       "      <td>2290.606</td>\n",
       "      <td>2291.952</td>\n",
       "      <td>-1</td>\n",
       "      <td>-1.0</td>\n",
       "    </tr>\n",
       "    <tr>\n",
       "      <th>3</th>\n",
       "      <td>0</td>\n",
       "      <td>-0.914652</td>\n",
       "      <td>-0.300851</td>\n",
       "      <td>0.298156</td>\n",
       "      <td>02ab235146</td>\n",
       "      <td>ab54e1</td>\n",
       "      <td>2704.292</td>\n",
       "      <td>2704.770</td>\n",
       "      <td>-1</td>\n",
       "      <td>-1.0</td>\n",
       "    </tr>\n",
       "    <tr>\n",
       "      <th>4</th>\n",
       "      <td>0</td>\n",
       "      <td>-0.914652</td>\n",
       "      <td>-0.300851</td>\n",
       "      <td>0.298156</td>\n",
       "      <td>02ab235146</td>\n",
       "      <td>ab54e1</td>\n",
       "      <td>2785.534</td>\n",
       "      <td>2785.774</td>\n",
       "      <td>-1</td>\n",
       "      <td>-1.0</td>\n",
       "    </tr>\n",
       "  </tbody>\n",
       "</table>\n",
       "</div>"
      ],
      "text/plain": [
       "   Time      AccV     AccML     AccAP          Id Subject_x      Init  \\\n",
       "0     0 -0.914652 -0.300851  0.298156  02ab235146    ab54e1  1969.173   \n",
       "1     0 -0.914652 -0.300851  0.298156  02ab235146    ab54e1  2078.982   \n",
       "2     0 -0.914652 -0.300851  0.298156  02ab235146    ab54e1  2290.606   \n",
       "3     0 -0.914652 -0.300851  0.298156  02ab235146    ab54e1  2704.292   \n",
       "4     0 -0.914652 -0.300851  0.298156  02ab235146    ab54e1  2785.534   \n",
       "\n",
       "   Completion Type  Kinetic  \n",
       "0    1972.535   -1     -1.0  \n",
       "1    2080.524   -1     -1.0  \n",
       "2    2291.952   -1     -1.0  \n",
       "3    2704.770   -1     -1.0  \n",
       "4    2785.774   -1     -1.0  "
      ]
     },
     "execution_count": 118,
     "metadata": {},
     "output_type": "execute_result"
    }
   ],
   "source": [
    "final_test.head()"
   ]
  },
  {
   "cell_type": "code",
   "execution_count": 119,
   "id": "3689175d",
   "metadata": {},
   "outputs": [],
   "source": [
    "#renaming subject column\n",
    "final_test.rename(columns = {'Subject_x': 'Subject'}, inplace = True)"
   ]
  },
  {
   "cell_type": "code",
   "execution_count": 120,
   "id": "6a46bb6d",
   "metadata": {},
   "outputs": [],
   "source": [
    "#\n",
    "final_test = pd.merge(final_test, subjects, how='left', on='Subject').fillna(-1)\n"
   ]
  },
  {
   "cell_type": "code",
   "execution_count": 121,
   "id": "0705810e",
   "metadata": {},
   "outputs": [],
   "source": [
    "final_test['Duration'] = final_test['Completion'].sub(final_test['Init'], axis = 0)"
   ]
  },
  {
   "cell_type": "code",
   "execution_count": 122,
   "id": "499a3437",
   "metadata": {},
   "outputs": [],
   "source": [
    "#creating final test independent data\n",
    "X_Final = final_test[['Age','YearsSinceDx','UPDRSIII_On','UPDRSIII_Off','NFOGQ','Init','Duration']]"
   ]
  },
  {
   "cell_type": "code",
   "execution_count": 129,
   "id": "c59f4e68",
   "metadata": {},
   "outputs": [],
   "source": [
    "#Using SVC Oversampled model for final predictions for StartHesistation, this model performed the best for Starthesitation\n",
    "Final_SHpredictions = gridSH2.predict(X_Final)"
   ]
  },
  {
   "cell_type": "code",
   "execution_count": 135,
   "id": "633d397b",
   "metadata": {},
   "outputs": [],
   "source": [
    "#Using basic tree model for final predictions for Turning, this model performed the best for Turning\n",
    "Final_Tpredictions = clfT.predict(X_Final)"
   ]
  },
  {
   "cell_type": "code",
   "execution_count": 140,
   "id": "de3e8d65",
   "metadata": {},
   "outputs": [],
   "source": [
    "#Using Optimized SVC without oversampling, this model performed the best for Walking\n",
    "Final_Wpredictions = gridW1.predict(X_Final)"
   ]
  },
  {
   "cell_type": "code",
   "execution_count": 142,
   "id": "c29ba222",
   "metadata": {},
   "outputs": [],
   "source": [
    "#Preparing final output\n",
    "Final_dfSH = pd.DataFrame(Final_SHpredictions, columns = ['StartHesitation'])"
   ]
  },
  {
   "cell_type": "code",
   "execution_count": 144,
   "id": "cfd5f0d9",
   "metadata": {},
   "outputs": [],
   "source": [
    "#Preparing final output\n",
    "Final_dfT = pd.DataFrame(Final_Tpredictions, columns = ['Turn'])"
   ]
  },
  {
   "cell_type": "code",
   "execution_count": 145,
   "id": "d07692d9",
   "metadata": {},
   "outputs": [],
   "source": [
    "#Preparing final output\n",
    "Final_dfW = pd.DataFrame(Final_Wpredictions , columns = ['Walking'])"
   ]
  },
  {
   "cell_type": "code",
   "execution_count": 173,
   "id": "b299e8c8",
   "metadata": {},
   "outputs": [],
   "source": [
    "#Preparing final output\n",
    "Final_df = pd.concat([final_test['Id'],Final_dfSH,Final_dfT,Final_dfW],axis=1)"
   ]
  },
  {
   "cell_type": "code",
   "execution_count": 174,
   "id": "7041e43f",
   "metadata": {},
   "outputs": [
    {
     "data": {
      "text/html": [
       "<div>\n",
       "<style scoped>\n",
       "    .dataframe tbody tr th:only-of-type {\n",
       "        vertical-align: middle;\n",
       "    }\n",
       "\n",
       "    .dataframe tbody tr th {\n",
       "        vertical-align: top;\n",
       "    }\n",
       "\n",
       "    .dataframe thead th {\n",
       "        text-align: right;\n",
       "    }\n",
       "</style>\n",
       "<table border=\"1\" class=\"dataframe\">\n",
       "  <thead>\n",
       "    <tr style=\"text-align: right;\">\n",
       "      <th></th>\n",
       "      <th>Id</th>\n",
       "      <th>StartHesitation</th>\n",
       "      <th>Turn</th>\n",
       "      <th>Walking</th>\n",
       "    </tr>\n",
       "  </thead>\n",
       "  <tbody>\n",
       "    <tr>\n",
       "      <th>0</th>\n",
       "      <td>02ab235146</td>\n",
       "      <td>0</td>\n",
       "      <td>0</td>\n",
       "      <td>0</td>\n",
       "    </tr>\n",
       "    <tr>\n",
       "      <th>1</th>\n",
       "      <td>02ab235146</td>\n",
       "      <td>0</td>\n",
       "      <td>0</td>\n",
       "      <td>0</td>\n",
       "    </tr>\n",
       "    <tr>\n",
       "      <th>2</th>\n",
       "      <td>02ab235146</td>\n",
       "      <td>0</td>\n",
       "      <td>0</td>\n",
       "      <td>0</td>\n",
       "    </tr>\n",
       "    <tr>\n",
       "      <th>3</th>\n",
       "      <td>02ab235146</td>\n",
       "      <td>0</td>\n",
       "      <td>0</td>\n",
       "      <td>0</td>\n",
       "    </tr>\n",
       "    <tr>\n",
       "      <th>4</th>\n",
       "      <td>02ab235146</td>\n",
       "      <td>0</td>\n",
       "      <td>0</td>\n",
       "      <td>0</td>\n",
       "    </tr>\n",
       "  </tbody>\n",
       "</table>\n",
       "</div>"
      ],
      "text/plain": [
       "           Id  StartHesitation  Turn  Walking\n",
       "0  02ab235146                0     0        0\n",
       "1  02ab235146                0     0        0\n",
       "2  02ab235146                0     0        0\n",
       "3  02ab235146                0     0        0\n",
       "4  02ab235146                0     0        0"
      ]
     },
     "execution_count": 174,
     "metadata": {},
     "output_type": "execute_result"
    }
   ],
   "source": [
    "#Checking final output\n",
    "Final_df.head()"
   ]
  },
  {
   "cell_type": "code",
   "execution_count": 175,
   "id": "62a4bca8",
   "metadata": {},
   "outputs": [],
   "source": [
    "Final_df.to_csv('Submission.CSV')"
   ]
  }
 ],
 "metadata": {
  "kernelspec": {
   "display_name": "Python 3",
   "language": "python",
   "name": "python3"
  },
  "language_info": {
   "codemirror_mode": {
    "name": "ipython",
    "version": 3
   },
   "file_extension": ".py",
   "mimetype": "text/x-python",
   "name": "python",
   "nbconvert_exporter": "python",
   "pygments_lexer": "ipython3",
   "version": "3.8.8"
  }
 },
 "nbformat": 4,
 "nbformat_minor": 5
}
