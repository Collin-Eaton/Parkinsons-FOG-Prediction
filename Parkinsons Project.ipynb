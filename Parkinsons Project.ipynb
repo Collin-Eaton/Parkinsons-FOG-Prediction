{
 "cells": [
  {
   "cell_type": "code",
   "execution_count": 1,
   "id": "8b242d9e",
   "metadata": {},
   "outputs": [],
   "source": [
    "import os\n",
    "os.chdir(r\"C:\\Users\\colli\\OneDrive\\Documents\\Parkinsons Project Regis\")\n",
    "import pandas as pd\n",
    "import glob"
   ]
  },
  {
   "cell_type": "code",
   "execution_count": 2,
   "id": "51e214fe",
   "metadata": {},
   "outputs": [],
   "source": [
    "subjects = pd.read_csv('subjects.csv')"
   ]
  },
  {
   "cell_type": "code",
   "execution_count": 3,
   "id": "caa74541",
   "metadata": {},
   "outputs": [],
   "source": [
    "events = pd.read_csv('events.csv')"
   ]
  },
  {
   "cell_type": "code",
   "execution_count": 4,
   "id": "a8340a98",
   "metadata": {},
   "outputs": [],
   "source": [
    "tasks = pd.read_csv('tasks.csv')"
   ]
  },
  {
   "cell_type": "code",
   "execution_count": 5,
   "id": "c01ec3f1",
   "metadata": {},
   "outputs": [],
   "source": [
    "daily = pd.read_csv('daily_metadata.csv')"
   ]
  },
  {
   "cell_type": "code",
   "execution_count": 6,
   "id": "b9341fa5",
   "metadata": {},
   "outputs": [],
   "source": [
    "meta = pd.read_csv('tdcsfog_metadata.csv')"
   ]
  },
  {
   "cell_type": "code",
   "execution_count": 7,
   "id": "c7d21e67",
   "metadata": {},
   "outputs": [],
   "source": [
    "defog = pd.read_csv('defog_metadata.csv')"
   ]
  },
  {
   "cell_type": "code",
   "execution_count": 8,
   "id": "5cd125a2",
   "metadata": {},
   "outputs": [],
   "source": [
    "sub = pd.read_csv('sample_submission.csv')"
   ]
  },
  {
   "cell_type": "code",
   "execution_count": 9,
   "id": "c1169053",
   "metadata": {},
   "outputs": [],
   "source": [
    "train = glob.glob('train/**/**')"
   ]
  },
  {
   "cell_type": "code",
   "execution_count": 10,
   "id": "5413ba3e",
   "metadata": {},
   "outputs": [
    {
     "name": "stdout",
     "output_type": "stream",
     "text": [
      "(30839488, 11)\n"
     ]
    }
   ],
   "source": [
    "def reader(f):\n",
    "    df = pd.read_csv(f)\n",
    "    df['Id'] = f.split('\\\\\\\\')[-1].split('.')[0]\n",
    "    return df\n",
    "# read train data\n",
    "train = pd.concat([reader(f) for f in train]).fillna(0); print(train.shape)\n",
    "cols = [c for c in train.columns if c not in ['Id', 'StartHesitation', 'Turn' , 'Walking', 'Valid', 'Task','Event']] # except categorical and target fetaure"
   ]
  },
  {
   "cell_type": "code",
   "execution_count": 11,
   "id": "a77b530c",
   "metadata": {},
   "outputs": [
    {
     "data": {
      "text/html": [
       "<div>\n",
       "<style scoped>\n",
       "    .dataframe tbody tr th:only-of-type {\n",
       "        vertical-align: middle;\n",
       "    }\n",
       "\n",
       "    .dataframe tbody tr th {\n",
       "        vertical-align: top;\n",
       "    }\n",
       "\n",
       "    .dataframe thead th {\n",
       "        text-align: right;\n",
       "    }\n",
       "</style>\n",
       "<table border=\"1\" class=\"dataframe\">\n",
       "  <thead>\n",
       "    <tr style=\"text-align: right;\">\n",
       "      <th></th>\n",
       "      <th>Time</th>\n",
       "      <th>AccV</th>\n",
       "      <th>AccML</th>\n",
       "      <th>AccAP</th>\n",
       "      <th>StartHesitation</th>\n",
       "      <th>Turn</th>\n",
       "      <th>Walking</th>\n",
       "      <th>Valid</th>\n",
       "      <th>Task</th>\n",
       "      <th>Id</th>\n",
       "      <th>Event</th>\n",
       "    </tr>\n",
       "  </thead>\n",
       "  <tbody>\n",
       "    <tr>\n",
       "      <th>0</th>\n",
       "      <td>0</td>\n",
       "      <td>-1.0</td>\n",
       "      <td>0.044129</td>\n",
       "      <td>-0.25</td>\n",
       "      <td>0.0</td>\n",
       "      <td>0.0</td>\n",
       "      <td>0.0</td>\n",
       "      <td>False</td>\n",
       "      <td>False</td>\n",
       "      <td>train\\defog\\02ea782681</td>\n",
       "      <td>0.0</td>\n",
       "    </tr>\n",
       "    <tr>\n",
       "      <th>1</th>\n",
       "      <td>1</td>\n",
       "      <td>-1.0</td>\n",
       "      <td>0.034431</td>\n",
       "      <td>-0.25</td>\n",
       "      <td>0.0</td>\n",
       "      <td>0.0</td>\n",
       "      <td>0.0</td>\n",
       "      <td>False</td>\n",
       "      <td>False</td>\n",
       "      <td>train\\defog\\02ea782681</td>\n",
       "      <td>0.0</td>\n",
       "    </tr>\n",
       "    <tr>\n",
       "      <th>2</th>\n",
       "      <td>2</td>\n",
       "      <td>-1.0</td>\n",
       "      <td>0.031250</td>\n",
       "      <td>-0.25</td>\n",
       "      <td>0.0</td>\n",
       "      <td>0.0</td>\n",
       "      <td>0.0</td>\n",
       "      <td>False</td>\n",
       "      <td>False</td>\n",
       "      <td>train\\defog\\02ea782681</td>\n",
       "      <td>0.0</td>\n",
       "    </tr>\n",
       "    <tr>\n",
       "      <th>3</th>\n",
       "      <td>3</td>\n",
       "      <td>-1.0</td>\n",
       "      <td>0.031250</td>\n",
       "      <td>-0.25</td>\n",
       "      <td>0.0</td>\n",
       "      <td>0.0</td>\n",
       "      <td>0.0</td>\n",
       "      <td>False</td>\n",
       "      <td>False</td>\n",
       "      <td>train\\defog\\02ea782681</td>\n",
       "      <td>0.0</td>\n",
       "    </tr>\n",
       "    <tr>\n",
       "      <th>4</th>\n",
       "      <td>4</td>\n",
       "      <td>-1.0</td>\n",
       "      <td>0.031250</td>\n",
       "      <td>-0.25</td>\n",
       "      <td>0.0</td>\n",
       "      <td>0.0</td>\n",
       "      <td>0.0</td>\n",
       "      <td>False</td>\n",
       "      <td>False</td>\n",
       "      <td>train\\defog\\02ea782681</td>\n",
       "      <td>0.0</td>\n",
       "    </tr>\n",
       "  </tbody>\n",
       "</table>\n",
       "</div>"
      ],
      "text/plain": [
       "   Time  AccV     AccML  AccAP  StartHesitation  Turn  Walking  Valid   Task  \\\n",
       "0     0  -1.0  0.044129  -0.25              0.0   0.0      0.0  False  False   \n",
       "1     1  -1.0  0.034431  -0.25              0.0   0.0      0.0  False  False   \n",
       "2     2  -1.0  0.031250  -0.25              0.0   0.0      0.0  False  False   \n",
       "3     3  -1.0  0.031250  -0.25              0.0   0.0      0.0  False  False   \n",
       "4     4  -1.0  0.031250  -0.25              0.0   0.0      0.0  False  False   \n",
       "\n",
       "                       Id  Event  \n",
       "0  train\\defog\\02ea782681    0.0  \n",
       "1  train\\defog\\02ea782681    0.0  \n",
       "2  train\\defog\\02ea782681    0.0  \n",
       "3  train\\defog\\02ea782681    0.0  \n",
       "4  train\\defog\\02ea782681    0.0  "
      ]
     },
     "execution_count": 11,
     "metadata": {},
     "output_type": "execute_result"
    }
   ],
   "source": [
    "train.head()"
   ]
  },
  {
   "cell_type": "code",
   "execution_count": 12,
   "id": "fcc9fc93",
   "metadata": {},
   "outputs": [
    {
     "name": "stdout",
     "output_type": "stream",
     "text": [
      "<class 'pandas.core.frame.DataFrame'>\n",
      "Int64Index: 30839488 entries, 0 to 4224\n",
      "Data columns (total 11 columns):\n",
      " #   Column           Dtype  \n",
      "---  ------           -----  \n",
      " 0   Time             int64  \n",
      " 1   AccV             float64\n",
      " 2   AccML            float64\n",
      " 3   AccAP            float64\n",
      " 4   StartHesitation  float64\n",
      " 5   Turn             float64\n",
      " 6   Walking          float64\n",
      " 7   Valid            object \n",
      " 8   Task             object \n",
      " 9   Id               object \n",
      " 10  Event            float64\n",
      "dtypes: float64(7), int64(1), object(3)\n",
      "memory usage: 2.8+ GB\n"
     ]
    }
   ],
   "source": [
    "train.info()"
   ]
  },
  {
   "cell_type": "code",
   "execution_count": 13,
   "id": "68537042",
   "metadata": {},
   "outputs": [
    {
     "data": {
      "text/html": [
       "<div>\n",
       "<style scoped>\n",
       "    .dataframe tbody tr th:only-of-type {\n",
       "        vertical-align: middle;\n",
       "    }\n",
       "\n",
       "    .dataframe tbody tr th {\n",
       "        vertical-align: top;\n",
       "    }\n",
       "\n",
       "    .dataframe thead th {\n",
       "        text-align: right;\n",
       "    }\n",
       "</style>\n",
       "<table border=\"1\" class=\"dataframe\">\n",
       "  <thead>\n",
       "    <tr style=\"text-align: right;\">\n",
       "      <th></th>\n",
       "      <th>Time</th>\n",
       "      <th>AccV</th>\n",
       "      <th>AccML</th>\n",
       "      <th>AccAP</th>\n",
       "      <th>StartHesitation</th>\n",
       "      <th>Turn</th>\n",
       "      <th>Walking</th>\n",
       "      <th>Event</th>\n",
       "    </tr>\n",
       "  </thead>\n",
       "  <tbody>\n",
       "    <tr>\n",
       "      <th>count</th>\n",
       "      <td>3.083949e+07</td>\n",
       "      <td>3.083949e+07</td>\n",
       "      <td>3.083949e+07</td>\n",
       "      <td>3.083949e+07</td>\n",
       "      <td>3.083949e+07</td>\n",
       "      <td>3.083949e+07</td>\n",
       "      <td>3.083949e+07</td>\n",
       "      <td>3.083949e+07</td>\n",
       "    </tr>\n",
       "    <tr>\n",
       "      <th>mean</th>\n",
       "      <td>8.104209e+04</td>\n",
       "      <td>-2.853547e+00</td>\n",
       "      <td>-7.176152e-02</td>\n",
       "      <td>3.223149e-01</td>\n",
       "      <td>9.899321e-03</td>\n",
       "      <td>7.286266e-02</td>\n",
       "      <td>9.735538e-03</td>\n",
       "      <td>1.623244e-04</td>\n",
       "    </tr>\n",
       "    <tr>\n",
       "      <th>std</th>\n",
       "      <td>7.757087e+04</td>\n",
       "      <td>3.555443e+00</td>\n",
       "      <td>6.220057e-01</td>\n",
       "      <td>1.384934e+00</td>\n",
       "      <td>9.900164e-02</td>\n",
       "      <td>2.599109e-01</td>\n",
       "      <td>9.818736e-02</td>\n",
       "      <td>1.273962e-02</td>\n",
       "    </tr>\n",
       "    <tr>\n",
       "      <th>min</th>\n",
       "      <td>0.000000e+00</td>\n",
       "      <td>-3.552112e+01</td>\n",
       "      <td>-2.616440e+01</td>\n",
       "      <td>-4.782964e+01</td>\n",
       "      <td>0.000000e+00</td>\n",
       "      <td>0.000000e+00</td>\n",
       "      <td>0.000000e+00</td>\n",
       "      <td>0.000000e+00</td>\n",
       "    </tr>\n",
       "    <tr>\n",
       "      <th>25%</th>\n",
       "      <td>1.345600e+04</td>\n",
       "      <td>-1.062500e+00</td>\n",
       "      <td>-1.440556e-01</td>\n",
       "      <td>-3.021181e-01</td>\n",
       "      <td>0.000000e+00</td>\n",
       "      <td>0.000000e+00</td>\n",
       "      <td>0.000000e+00</td>\n",
       "      <td>0.000000e+00</td>\n",
       "    </tr>\n",
       "    <tr>\n",
       "      <th>50%</th>\n",
       "      <td>6.209300e+04</td>\n",
       "      <td>-9.700277e-01</td>\n",
       "      <td>-3.125000e-02</td>\n",
       "      <td>-1.068925e-01</td>\n",
       "      <td>0.000000e+00</td>\n",
       "      <td>0.000000e+00</td>\n",
       "      <td>0.000000e+00</td>\n",
       "      <td>0.000000e+00</td>\n",
       "    </tr>\n",
       "    <tr>\n",
       "      <th>75%</th>\n",
       "      <td>1.247820e+05</td>\n",
       "      <td>-9.169647e-01</td>\n",
       "      <td>6.805153e-02</td>\n",
       "      <td>3.267068e-01</td>\n",
       "      <td>0.000000e+00</td>\n",
       "      <td>0.000000e+00</td>\n",
       "      <td>0.000000e+00</td>\n",
       "      <td>0.000000e+00</td>\n",
       "    </tr>\n",
       "    <tr>\n",
       "      <th>max</th>\n",
       "      <td>4.434950e+05</td>\n",
       "      <td>2.090695e+01</td>\n",
       "      <td>2.748472e+01</td>\n",
       "      <td>3.033769e+01</td>\n",
       "      <td>1.000000e+00</td>\n",
       "      <td>1.000000e+00</td>\n",
       "      <td>1.000000e+00</td>\n",
       "      <td>1.000000e+00</td>\n",
       "    </tr>\n",
       "  </tbody>\n",
       "</table>\n",
       "</div>"
      ],
      "text/plain": [
       "               Time          AccV         AccML         AccAP  \\\n",
       "count  3.083949e+07  3.083949e+07  3.083949e+07  3.083949e+07   \n",
       "mean   8.104209e+04 -2.853547e+00 -7.176152e-02  3.223149e-01   \n",
       "std    7.757087e+04  3.555443e+00  6.220057e-01  1.384934e+00   \n",
       "min    0.000000e+00 -3.552112e+01 -2.616440e+01 -4.782964e+01   \n",
       "25%    1.345600e+04 -1.062500e+00 -1.440556e-01 -3.021181e-01   \n",
       "50%    6.209300e+04 -9.700277e-01 -3.125000e-02 -1.068925e-01   \n",
       "75%    1.247820e+05 -9.169647e-01  6.805153e-02  3.267068e-01   \n",
       "max    4.434950e+05  2.090695e+01  2.748472e+01  3.033769e+01   \n",
       "\n",
       "       StartHesitation          Turn       Walking         Event  \n",
       "count     3.083949e+07  3.083949e+07  3.083949e+07  3.083949e+07  \n",
       "mean      9.899321e-03  7.286266e-02  9.735538e-03  1.623244e-04  \n",
       "std       9.900164e-02  2.599109e-01  9.818736e-02  1.273962e-02  \n",
       "min       0.000000e+00  0.000000e+00  0.000000e+00  0.000000e+00  \n",
       "25%       0.000000e+00  0.000000e+00  0.000000e+00  0.000000e+00  \n",
       "50%       0.000000e+00  0.000000e+00  0.000000e+00  0.000000e+00  \n",
       "75%       0.000000e+00  0.000000e+00  0.000000e+00  0.000000e+00  \n",
       "max       1.000000e+00  1.000000e+00  1.000000e+00  1.000000e+00  "
      ]
     },
     "execution_count": 13,
     "metadata": {},
     "output_type": "execute_result"
    }
   ],
   "source": [
    "train.describe()"
   ]
  },
  {
   "cell_type": "code",
   "execution_count": 14,
   "id": "ca219989",
   "metadata": {},
   "outputs": [],
   "source": [
    "cols = ['Valid', 'Task']\n",
    "train[cols] = train[cols].astype('category')"
   ]
  },
  {
   "cell_type": "code",
   "execution_count": 17,
   "id": "e3fe8445",
   "metadata": {},
   "outputs": [],
   "source": [
    "cols1 = ['AccV', 'AccML','AccAP','StartHesitation','Turn','Walking','Event',]\n",
    "train[cols1] = train[cols1].astype('float16')"
   ]
  },
  {
   "cell_type": "code",
   "execution_count": 18,
   "id": "de358da8",
   "metadata": {},
   "outputs": [],
   "source": [
    "train['Time'] = train['Time'].astype('int8')"
   ]
  },
  {
   "cell_type": "code",
   "execution_count": 19,
   "id": "adf4b677",
   "metadata": {
    "scrolled": true
   },
   "outputs": [
    {
     "name": "stdout",
     "output_type": "stream",
     "text": [
      "<class 'pandas.core.frame.DataFrame'>\n",
      "Int64Index: 30839488 entries, 0 to 4224\n",
      "Data columns (total 11 columns):\n",
      " #   Column           Dtype   \n",
      "---  ------           -----   \n",
      " 0   Time             int8    \n",
      " 1   AccV             float16 \n",
      " 2   AccML            float16 \n",
      " 3   AccAP            float16 \n",
      " 4   StartHesitation  float16 \n",
      " 5   Turn             float16 \n",
      " 6   Walking          float16 \n",
      " 7   Valid            category\n",
      " 8   Task             category\n",
      " 9   Id               object  \n",
      " 10  Event            float16 \n",
      "dtypes: category(2), float16(7), int8(1), object(1)\n",
      "memory usage: 970.6+ MB\n"
     ]
    }
   ],
   "source": [
    "train.info()"
   ]
  },
  {
   "cell_type": "code",
   "execution_count": 24,
   "id": "8007b32d",
   "metadata": {},
   "outputs": [
    {
     "data": {
      "text/html": [
       "<div>\n",
       "<style scoped>\n",
       "    .dataframe tbody tr th:only-of-type {\n",
       "        vertical-align: middle;\n",
       "    }\n",
       "\n",
       "    .dataframe tbody tr th {\n",
       "        vertical-align: top;\n",
       "    }\n",
       "\n",
       "    .dataframe thead th {\n",
       "        text-align: right;\n",
       "    }\n",
       "</style>\n",
       "<table border=\"1\" class=\"dataframe\">\n",
       "  <thead>\n",
       "    <tr style=\"text-align: right;\">\n",
       "      <th></th>\n",
       "      <th>Subject</th>\n",
       "      <th>Visit</th>\n",
       "      <th>Age</th>\n",
       "      <th>Sex</th>\n",
       "      <th>YearsSinceDx</th>\n",
       "      <th>UPDRSIII_On</th>\n",
       "      <th>UPDRSIII_Off</th>\n",
       "      <th>NFOGQ</th>\n",
       "    </tr>\n",
       "  </thead>\n",
       "  <tbody>\n",
       "    <tr>\n",
       "      <th>0</th>\n",
       "      <td>04fcdb</td>\n",
       "      <td>1.0</td>\n",
       "      <td>63</td>\n",
       "      <td>M</td>\n",
       "      <td>3.0</td>\n",
       "      <td>30.0</td>\n",
       "      <td>NaN</td>\n",
       "      <td>0</td>\n",
       "    </tr>\n",
       "    <tr>\n",
       "      <th>1</th>\n",
       "      <td>05595e</td>\n",
       "      <td>1.0</td>\n",
       "      <td>56</td>\n",
       "      <td>M</td>\n",
       "      <td>8.0</td>\n",
       "      <td>28.0</td>\n",
       "      <td>NaN</td>\n",
       "      <td>0</td>\n",
       "    </tr>\n",
       "    <tr>\n",
       "      <th>2</th>\n",
       "      <td>0967b2</td>\n",
       "      <td>1.0</td>\n",
       "      <td>59</td>\n",
       "      <td>M</td>\n",
       "      <td>10.0</td>\n",
       "      <td>38.0</td>\n",
       "      <td>48.0</td>\n",
       "      <td>19</td>\n",
       "    </tr>\n",
       "    <tr>\n",
       "      <th>3</th>\n",
       "      <td>0967b2</td>\n",
       "      <td>2.0</td>\n",
       "      <td>59</td>\n",
       "      <td>M</td>\n",
       "      <td>10.0</td>\n",
       "      <td>37.0</td>\n",
       "      <td>44.0</td>\n",
       "      <td>13</td>\n",
       "    </tr>\n",
       "    <tr>\n",
       "      <th>4</th>\n",
       "      <td>097078</td>\n",
       "      <td>NaN</td>\n",
       "      <td>70</td>\n",
       "      <td>F</td>\n",
       "      <td>10.0</td>\n",
       "      <td>27.0</td>\n",
       "      <td>50.0</td>\n",
       "      <td>20</td>\n",
       "    </tr>\n",
       "  </tbody>\n",
       "</table>\n",
       "</div>"
      ],
      "text/plain": [
       "  Subject  Visit  Age Sex  YearsSinceDx  UPDRSIII_On  UPDRSIII_Off  NFOGQ\n",
       "0  04fcdb    1.0   63   M           3.0         30.0           NaN      0\n",
       "1  05595e    1.0   56   M           8.0         28.0           NaN      0\n",
       "2  0967b2    1.0   59   M          10.0         38.0          48.0     19\n",
       "3  0967b2    2.0   59   M          10.0         37.0          44.0     13\n",
       "4  097078    NaN   70   F          10.0         27.0          50.0     20"
      ]
     },
     "execution_count": 24,
     "metadata": {},
     "output_type": "execute_result"
    }
   ],
   "source": [
    "subjects.head()"
   ]
  },
  {
   "cell_type": "code",
   "execution_count": 27,
   "id": "c7c43749",
   "metadata": {},
   "outputs": [
    {
     "data": {
      "text/plain": [
       "Subject          0\n",
       "Visit           62\n",
       "Age              0\n",
       "Sex              0\n",
       "YearsSinceDx     0\n",
       "UPDRSIII_On      1\n",
       "UPDRSIII_Off    41\n",
       "NFOGQ            0\n",
       "dtype: int64"
      ]
     },
     "execution_count": 27,
     "metadata": {},
     "output_type": "execute_result"
    }
   ],
   "source": [
    "subjects.isnull().sum()"
   ]
  },
  {
   "cell_type": "code",
   "execution_count": 25,
   "id": "231eeab9",
   "metadata": {},
   "outputs": [],
   "source": [
    "import seaborn as sns"
   ]
  },
  {
   "cell_type": "code",
   "execution_count": 42,
   "id": "8df4470e",
   "metadata": {},
   "outputs": [
    {
     "name": "stderr",
     "output_type": "stream",
     "text": [
      "C:\\Users\\colli\\anaconda3\\lib\\site-packages\\seaborn\\_decorators.py:36: FutureWarning: Pass the following variable as a keyword arg: x. From version 0.12, the only valid positional argument will be `data`, and passing other arguments without an explicit keyword will result in an error or misinterpretation.\n",
      "  warnings.warn(\n"
     ]
    },
    {
     "data": {
      "text/plain": [
       "<AxesSubplot:xlabel='Sex', ylabel='count'>"
      ]
     },
     "execution_count": 42,
     "metadata": {},
     "output_type": "execute_result"
    },
    {
     "data": {
      "image/png": "[encoded data removed]",
      "text/plain": [
       "<Figure size 432x288 with 1 Axes>"
      ]
     },
     "metadata": {
      "needs_background": "light"
     },
     "output_type": "display_data"
    }
   ],
   "source": [
    "#EDA Subjects data\n",
    "sns.countplot(subjects['Sex'])"
   ]
  },
  {
   "cell_type": "code",
   "execution_count": 33,
   "id": "8b945c27",
   "metadata": {},
   "outputs": [
    {
     "data": {
      "text/plain": [
       "<AxesSubplot:xlabel='Age', ylabel='Count'>"
      ]
     },
     "execution_count": 33,
     "metadata": {},
     "output_type": "execute_result"
    },
    {
     "data": {
      "image/png": "[encoded data removed]",
      "text/plain": [
       "<Figure size 432x288 with 1 Axes>"
      ]
     },
     "metadata": {
      "needs_background": "light"
     },
     "output_type": "display_data"
    }
   ],
   "source": [
    "sns.histplot(subjects['Age'])"
   ]
  },
  {
   "cell_type": "code",
   "execution_count": 35,
   "id": "345c73c0",
   "metadata": {},
   "outputs": [
    {
     "data": {
      "text/plain": [
       "<AxesSubplot:xlabel='YearsSinceDx', ylabel='Count'>"
      ]
     },
     "execution_count": 35,
     "metadata": {},
     "output_type": "execute_result"
    },
    {
     "data": {
      "image/png": "[encoded data removed]",
      "text/plain": [
       "<Figure size 432x288 with 1 Axes>"
      ]
     },
     "metadata": {
      "needs_background": "light"
     },
     "output_type": "display_data"
    }
   ],
   "source": [
    "sns.histplot(subjects['YearsSinceDx'], color = 'green')"
   ]
  },
  {
   "cell_type": "code",
   "execution_count": 36,
   "id": "c6af41eb",
   "metadata": {},
   "outputs": [
    {
     "data": {
      "text/plain": [
       "<AxesSubplot:xlabel='UPDRSIII_On', ylabel='Count'>"
      ]
     },
     "execution_count": 36,
     "metadata": {},
     "output_type": "execute_result"
    },
    {
     "data": {
      "image/png": "[encoded data removed]",
      "text/plain": [
       "<Figure size 432x288 with 1 Axes>"
      ]
     },
     "metadata": {
      "needs_background": "light"
     },
     "output_type": "display_data"
    }
   ],
   "source": [
    "sns.histplot(subjects['UPDRSIII_On'], color = 'red')"
   ]
  },
  {
   "cell_type": "code",
   "execution_count": 38,
   "id": "6207ecb2",
   "metadata": {},
   "outputs": [
    {
     "data": {
      "text/plain": [
       "<AxesSubplot:xlabel='UPDRSIII_Off', ylabel='Count'>"
      ]
     },
     "execution_count": 38,
     "metadata": {},
     "output_type": "execute_result"
    },
    {
     "data": {
      "image/png": "[encoded data removed]",
      "text/plain": [
       "<Figure size 432x288 with 1 Axes>"
      ]
     },
     "metadata": {
      "needs_background": "light"
     },
     "output_type": "display_data"
    }
   ],
   "source": [
    "sns.histplot(subjects['UPDRSIII_Off'], color = 'yellow')"
   ]
  },
  {
   "cell_type": "code",
   "execution_count": 39,
   "id": "a1ca69b6",
   "metadata": {},
   "outputs": [
    {
     "data": {
      "text/html": [
       "<div>\n",
       "<style scoped>\n",
       "    .dataframe tbody tr th:only-of-type {\n",
       "        vertical-align: middle;\n",
       "    }\n",
       "\n",
       "    .dataframe tbody tr th {\n",
       "        vertical-align: top;\n",
       "    }\n",
       "\n",
       "    .dataframe thead th {\n",
       "        text-align: right;\n",
       "    }\n",
       "</style>\n",
       "<table border=\"1\" class=\"dataframe\">\n",
       "  <thead>\n",
       "    <tr style=\"text-align: right;\">\n",
       "      <th></th>\n",
       "      <th>Id</th>\n",
       "      <th>Begin</th>\n",
       "      <th>End</th>\n",
       "      <th>Task</th>\n",
       "    </tr>\n",
       "  </thead>\n",
       "  <tbody>\n",
       "    <tr>\n",
       "      <th>0</th>\n",
       "      <td>02ab235146</td>\n",
       "      <td>10.00</td>\n",
       "      <td>190.48</td>\n",
       "      <td>Rest1</td>\n",
       "    </tr>\n",
       "    <tr>\n",
       "      <th>1</th>\n",
       "      <td>02ab235146</td>\n",
       "      <td>211.24</td>\n",
       "      <td>271.56</td>\n",
       "      <td>Rest2</td>\n",
       "    </tr>\n",
       "    <tr>\n",
       "      <th>2</th>\n",
       "      <td>02ab235146</td>\n",
       "      <td>505.88</td>\n",
       "      <td>522.40</td>\n",
       "      <td>4MW</td>\n",
       "    </tr>\n",
       "    <tr>\n",
       "      <th>3</th>\n",
       "      <td>02ab235146</td>\n",
       "      <td>577.96</td>\n",
       "      <td>594.64</td>\n",
       "      <td>4MW-C</td>\n",
       "    </tr>\n",
       "    <tr>\n",
       "      <th>4</th>\n",
       "      <td>02ab235146</td>\n",
       "      <td>701.32</td>\n",
       "      <td>715.28</td>\n",
       "      <td>MB1</td>\n",
       "    </tr>\n",
       "  </tbody>\n",
       "</table>\n",
       "</div>"
      ],
      "text/plain": [
       "           Id   Begin     End   Task\n",
       "0  02ab235146   10.00  190.48  Rest1\n",
       "1  02ab235146  211.24  271.56  Rest2\n",
       "2  02ab235146  505.88  522.40    4MW\n",
       "3  02ab235146  577.96  594.64  4MW-C\n",
       "4  02ab235146  701.32  715.28    MB1"
      ]
     },
     "execution_count": 39,
     "metadata": {},
     "output_type": "execute_result"
    }
   ],
   "source": [
    "tasks.head()"
   ]
  },
  {
   "cell_type": "code",
   "execution_count": 40,
   "id": "f0dbbe7f",
   "metadata": {},
   "outputs": [
    {
     "name": "stdout",
     "output_type": "stream",
     "text": [
      "<class 'pandas.core.frame.DataFrame'>\n",
      "RangeIndex: 2817 entries, 0 to 2816\n",
      "Data columns (total 4 columns):\n",
      " #   Column  Non-Null Count  Dtype  \n",
      "---  ------  --------------  -----  \n",
      " 0   Id      2817 non-null   object \n",
      " 1   Begin   2817 non-null   float64\n",
      " 2   End     2817 non-null   float64\n",
      " 3   Task    2817 non-null   object \n",
      "dtypes: float64(2), object(2)\n",
      "memory usage: 88.2+ KB\n"
     ]
    }
   ],
   "source": [
    "tasks.info()"
   ]
  },
  {
   "cell_type": "code",
   "execution_count": 44,
   "id": "4c84749e",
   "metadata": {},
   "outputs": [
    {
     "data": {
      "text/plain": [
       "array(['Rest1', 'Rest2', '4MW', '4MW-C', 'MB1', 'MB2a', 'MB2b', 'MB3-R',\n",
       "       'MB3-L', 'MB4', 'MB5', 'MB6-R', 'MB6-L', 'MB7', 'MB8', 'MB9',\n",
       "       'MB10', 'MB11', 'MB12', 'MB13', 'TUG-ST', 'TUG-DT', 'TUG-C',\n",
       "       'Turning-ST', 'Turning-DT', 'Turning-C', 'Hotspot1', 'Hotspot1-C',\n",
       "       'Hotspot2', 'Hotspot2-C', 'MB6'], dtype=object)"
      ]
     },
     "execution_count": 44,
     "metadata": {},
     "output_type": "execute_result"
    }
   ],
   "source": [
    "tasks['Task'].unique()"
   ]
  },
  {
   "cell_type": "code",
   "execution_count": 45,
   "id": "277674a7",
   "metadata": {},
   "outputs": [
    {
     "data": {
      "text/html": [
       "<div>\n",
       "<style scoped>\n",
       "    .dataframe tbody tr th:only-of-type {\n",
       "        vertical-align: middle;\n",
       "    }\n",
       "\n",
       "    .dataframe tbody tr th {\n",
       "        vertical-align: top;\n",
       "    }\n",
       "\n",
       "    .dataframe thead th {\n",
       "        text-align: right;\n",
       "    }\n",
       "</style>\n",
       "<table border=\"1\" class=\"dataframe\">\n",
       "  <thead>\n",
       "    <tr style=\"text-align: right;\">\n",
       "      <th></th>\n",
       "      <th>Id</th>\n",
       "      <th>Subject</th>\n",
       "      <th>Visit</th>\n",
       "      <th>Medication</th>\n",
       "    </tr>\n",
       "  </thead>\n",
       "  <tbody>\n",
       "    <tr>\n",
       "      <th>0</th>\n",
       "      <td>02ab235146</td>\n",
       "      <td>ab54e1</td>\n",
       "      <td>2</td>\n",
       "      <td>on</td>\n",
       "    </tr>\n",
       "    <tr>\n",
       "      <th>1</th>\n",
       "      <td>02ea782681</td>\n",
       "      <td>bf608b</td>\n",
       "      <td>2</td>\n",
       "      <td>on</td>\n",
       "    </tr>\n",
       "    <tr>\n",
       "      <th>2</th>\n",
       "      <td>06414383cf</td>\n",
       "      <td>c0b71e</td>\n",
       "      <td>2</td>\n",
       "      <td>off</td>\n",
       "    </tr>\n",
       "    <tr>\n",
       "      <th>3</th>\n",
       "      <td>092b4c1819</td>\n",
       "      <td>b6a627</td>\n",
       "      <td>1</td>\n",
       "      <td>off</td>\n",
       "    </tr>\n",
       "    <tr>\n",
       "      <th>4</th>\n",
       "      <td>0a900ed8a2</td>\n",
       "      <td>b7bd52</td>\n",
       "      <td>2</td>\n",
       "      <td>on</td>\n",
       "    </tr>\n",
       "  </tbody>\n",
       "</table>\n",
       "</div>"
      ],
      "text/plain": [
       "           Id Subject  Visit Medication\n",
       "0  02ab235146  ab54e1      2         on\n",
       "1  02ea782681  bf608b      2         on\n",
       "2  06414383cf  c0b71e      2        off\n",
       "3  092b4c1819  b6a627      1        off\n",
       "4  0a900ed8a2  b7bd52      2         on"
      ]
     },
     "execution_count": 45,
     "metadata": {},
     "output_type": "execute_result"
    }
   ],
   "source": [
    "defog.head()"
   ]
  },
  {
   "cell_type": "code",
   "execution_count": 49,
   "id": "18d31e61",
   "metadata": {},
   "outputs": [
    {
     "name": "stderr",
     "output_type": "stream",
     "text": [
      "C:\\Users\\colli\\anaconda3\\lib\\site-packages\\seaborn\\_decorators.py:36: FutureWarning: Pass the following variable as a keyword arg: x. From version 0.12, the only valid positional argument will be `data`, and passing other arguments without an explicit keyword will result in an error or misinterpretation.\n",
      "  warnings.warn(\n"
     ]
    },
    {
     "data": {
      "text/plain": [
       "<AxesSubplot:xlabel='Visit', ylabel='count'>"
      ]
     },
     "execution_count": 49,
     "metadata": {},
     "output_type": "execute_result"
    },
    {
     "data": {
      "image/png": "[encoded data removed]",
      "text/plain": [
       "<Figure size 432x288 with 1 Axes>"
      ]
     },
     "metadata": {
      "needs_background": "light"
     },
     "output_type": "display_data"
    }
   ],
   "source": [
    "sns.countplot(defog['Visit'])"
   ]
  },
  {
   "cell_type": "code",
   "execution_count": 50,
   "id": "e1093653",
   "metadata": {},
   "outputs": [
    {
     "name": "stderr",
     "output_type": "stream",
     "text": [
      "C:\\Users\\colli\\anaconda3\\lib\\site-packages\\seaborn\\_decorators.py:36: FutureWarning: Pass the following variable as a keyword arg: x. From version 0.12, the only valid positional argument will be `data`, and passing other arguments without an explicit keyword will result in an error or misinterpretation.\n",
      "  warnings.warn(\n"
     ]
    },
    {
     "data": {
      "text/plain": [
       "<AxesSubplot:xlabel='Medication', ylabel='count'>"
      ]
     },
     "execution_count": 50,
     "metadata": {},
     "output_type": "execute_result"
    },
    {
     "data": {
      "image/png": "[encoded data removed]",
      "text/plain": [
       "<Figure size 432x288 with 1 Axes>"
      ]
     },
     "metadata": {
      "needs_background": "light"
     },
     "output_type": "display_data"
    }
   ],
   "source": [
    "sns.countplot(defog['Medication'])"
   ]
  },
  {
   "cell_type": "code",
   "execution_count": 51,
   "id": "592e52e0",
   "metadata": {},
   "outputs": [
    {
     "data": {
      "text/html": [
       "<div>\n",
       "<style scoped>\n",
       "    .dataframe tbody tr th:only-of-type {\n",
       "        vertical-align: middle;\n",
       "    }\n",
       "\n",
       "    .dataframe tbody tr th {\n",
       "        vertical-align: top;\n",
       "    }\n",
       "\n",
       "    .dataframe thead th {\n",
       "        text-align: right;\n",
       "    }\n",
       "</style>\n",
       "<table border=\"1\" class=\"dataframe\">\n",
       "  <thead>\n",
       "    <tr style=\"text-align: right;\">\n",
       "      <th></th>\n",
       "      <th>Id</th>\n",
       "      <th>Subject</th>\n",
       "      <th>Visit</th>\n",
       "      <th>Test</th>\n",
       "      <th>Medication</th>\n",
       "    </tr>\n",
       "  </thead>\n",
       "  <tbody>\n",
       "    <tr>\n",
       "      <th>0</th>\n",
       "      <td>003f117e14</td>\n",
       "      <td>13abfd</td>\n",
       "      <td>3</td>\n",
       "      <td>2</td>\n",
       "      <td>on</td>\n",
       "    </tr>\n",
       "    <tr>\n",
       "      <th>1</th>\n",
       "      <td>009ee11563</td>\n",
       "      <td>d81e3a</td>\n",
       "      <td>4</td>\n",
       "      <td>2</td>\n",
       "      <td>on</td>\n",
       "    </tr>\n",
       "    <tr>\n",
       "      <th>2</th>\n",
       "      <td>011322847a</td>\n",
       "      <td>203e85</td>\n",
       "      <td>2</td>\n",
       "      <td>2</td>\n",
       "      <td>on</td>\n",
       "    </tr>\n",
       "    <tr>\n",
       "      <th>3</th>\n",
       "      <td>01d0fe7266</td>\n",
       "      <td>203e85</td>\n",
       "      <td>2</td>\n",
       "      <td>1</td>\n",
       "      <td>off</td>\n",
       "    </tr>\n",
       "    <tr>\n",
       "      <th>4</th>\n",
       "      <td>024418ba39</td>\n",
       "      <td>cecfb8</td>\n",
       "      <td>19</td>\n",
       "      <td>3</td>\n",
       "      <td>on</td>\n",
       "    </tr>\n",
       "  </tbody>\n",
       "</table>\n",
       "</div>"
      ],
      "text/plain": [
       "           Id Subject  Visit  Test Medication\n",
       "0  003f117e14  13abfd      3     2         on\n",
       "1  009ee11563  d81e3a      4     2         on\n",
       "2  011322847a  203e85      2     2         on\n",
       "3  01d0fe7266  203e85      2     1        off\n",
       "4  024418ba39  cecfb8     19     3         on"
      ]
     },
     "execution_count": 51,
     "metadata": {},
     "output_type": "execute_result"
    }
   ],
   "source": [
    "meta.head()"
   ]
  }
 ],
 "metadata": {
  "kernelspec": {
   "display_name": "Python 3",
   "language": "python",
   "name": "python3"
  },
  "language_info": {
   "codemirror_mode": {
    "name": "ipython",
    "version": 3
   },
   "file_extension": ".py",
   "mimetype": "text/x-python",
   "name": "python",
   "nbconvert_exporter": "python",
   "pygments_lexer": "ipython3",
   "version": "3.8.8"
  }
 },
 "nbformat": 4,
 "nbformat_minor": 5
}
