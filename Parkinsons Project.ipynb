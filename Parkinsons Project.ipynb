{
 "cells": [
  {
   "cell_type": "code",
   "execution_count": 1,
   "id": "8b242d9e",
   "metadata": {},
   "outputs": [],
   "source": [
    "import os\n",
    "os.chdir(r\"C:\\Users\\colli\\OneDrive\\Documents\\Parkinsons Project Regis\")\n",
    "import pandas as pd\n",
    "import glob"
   ]
  },
  {
   "cell_type": "code",
   "execution_count": 2,
   "id": "51e214fe",
   "metadata": {},
   "outputs": [],
   "source": [
    "subjects = pd.read_csv('subjects.csv')"
   ]
  },
  {
   "cell_type": "code",
   "execution_count": 3,
   "id": "caa74541",
   "metadata": {},
   "outputs": [],
   "source": [
    "events = pd.read_csv('events.csv')"
   ]
  },
  {
   "cell_type": "code",
   "execution_count": 4,
   "id": "a8340a98",
   "metadata": {},
   "outputs": [],
   "source": [
    "tasks = pd.read_csv('tasks.csv')"
   ]
  },
  {
   "cell_type": "code",
   "execution_count": 5,
   "id": "b9341fa5",
   "metadata": {},
   "outputs": [],
   "source": [
    "meta = pd.read_csv('tdcsfog_metadata.csv')"
   ]
  },
  {
   "cell_type": "code",
   "execution_count": 6,
   "id": "c7d21e67",
   "metadata": {},
   "outputs": [],
   "source": [
    "defog = pd.read_csv('defog_metadata.csv')"
   ]
  },
  {
   "cell_type": "code",
   "execution_count": 7,
   "id": "5cd125a2",
   "metadata": {},
   "outputs": [],
   "source": [
    "sub = pd.read_csv('sample_submission.csv')"
   ]
  },
  {
   "cell_type": "code",
   "execution_count": 8,
   "id": "c1169053",
   "metadata": {},
   "outputs": [],
   "source": [
    "train = glob.glob('train/**/**')"
   ]
  },
  {
   "cell_type": "code",
   "execution_count": 9,
   "id": "5413ba3e",
   "metadata": {},
   "outputs": [
    {
     "name": "stdout",
     "output_type": "stream",
     "text": [
      "(30839488, 11)\n"
     ]
    }
   ],
   "source": [
    "def reader(f):\n",
    "    df = pd.read_csv(f)\n",
    "    df['Id'] = f.split('\\\\\\\\')[-1].split('.')[0]\n",
    "    return df\n",
    "# read train data\n",
    "train = pd.concat([reader(f) for f in train]).fillna(0); print(train.shape)\n",
    "cols = [c for c in train.columns if c not in ['Id', 'StartHesitation', 'Turn' , 'Walking', 'Valid', 'Task','Event']] # except categorical and target fetaure"
   ]
  },
  {
   "cell_type": "code",
   "execution_count": 10,
   "id": "a77b530c",
   "metadata": {},
   "outputs": [
    {
     "data": {
      "text/html": [
       "<div>\n",
       "<style scoped>\n",
       "    .dataframe tbody tr th:only-of-type {\n",
       "        vertical-align: middle;\n",
       "    }\n",
       "\n",
       "    .dataframe tbody tr th {\n",
       "        vertical-align: top;\n",
       "    }\n",
       "\n",
       "    .dataframe thead th {\n",
       "        text-align: right;\n",
       "    }\n",
       "</style>\n",
       "<table border=\"1\" class=\"dataframe\">\n",
       "  <thead>\n",
       "    <tr style=\"text-align: right;\">\n",
       "      <th></th>\n",
       "      <th>Time</th>\n",
       "      <th>AccV</th>\n",
       "      <th>AccML</th>\n",
       "      <th>AccAP</th>\n",
       "      <th>StartHesitation</th>\n",
       "      <th>Turn</th>\n",
       "      <th>Walking</th>\n",
       "      <th>Valid</th>\n",
       "      <th>Task</th>\n",
       "      <th>Id</th>\n",
       "      <th>Event</th>\n",
       "    </tr>\n",
       "  </thead>\n",
       "  <tbody>\n",
       "    <tr>\n",
       "      <th>0</th>\n",
       "      <td>0</td>\n",
       "      <td>-1.0</td>\n",
       "      <td>0.044129</td>\n",
       "      <td>-0.25</td>\n",
       "      <td>0.0</td>\n",
       "      <td>0.0</td>\n",
       "      <td>0.0</td>\n",
       "      <td>False</td>\n",
       "      <td>False</td>\n",
       "      <td>train\\defog\\02ea782681</td>\n",
       "      <td>0.0</td>\n",
       "    </tr>\n",
       "    <tr>\n",
       "      <th>1</th>\n",
       "      <td>1</td>\n",
       "      <td>-1.0</td>\n",
       "      <td>0.034431</td>\n",
       "      <td>-0.25</td>\n",
       "      <td>0.0</td>\n",
       "      <td>0.0</td>\n",
       "      <td>0.0</td>\n",
       "      <td>False</td>\n",
       "      <td>False</td>\n",
       "      <td>train\\defog\\02ea782681</td>\n",
       "      <td>0.0</td>\n",
       "    </tr>\n",
       "    <tr>\n",
       "      <th>2</th>\n",
       "      <td>2</td>\n",
       "      <td>-1.0</td>\n",
       "      <td>0.031250</td>\n",
       "      <td>-0.25</td>\n",
       "      <td>0.0</td>\n",
       "      <td>0.0</td>\n",
       "      <td>0.0</td>\n",
       "      <td>False</td>\n",
       "      <td>False</td>\n",
       "      <td>train\\defog\\02ea782681</td>\n",
       "      <td>0.0</td>\n",
       "    </tr>\n",
       "    <tr>\n",
       "      <th>3</th>\n",
       "      <td>3</td>\n",
       "      <td>-1.0</td>\n",
       "      <td>0.031250</td>\n",
       "      <td>-0.25</td>\n",
       "      <td>0.0</td>\n",
       "      <td>0.0</td>\n",
       "      <td>0.0</td>\n",
       "      <td>False</td>\n",
       "      <td>False</td>\n",
       "      <td>train\\defog\\02ea782681</td>\n",
       "      <td>0.0</td>\n",
       "    </tr>\n",
       "    <tr>\n",
       "      <th>4</th>\n",
       "      <td>4</td>\n",
       "      <td>-1.0</td>\n",
       "      <td>0.031250</td>\n",
       "      <td>-0.25</td>\n",
       "      <td>0.0</td>\n",
       "      <td>0.0</td>\n",
       "      <td>0.0</td>\n",
       "      <td>False</td>\n",
       "      <td>False</td>\n",
       "      <td>train\\defog\\02ea782681</td>\n",
       "      <td>0.0</td>\n",
       "    </tr>\n",
       "  </tbody>\n",
       "</table>\n",
       "</div>"
      ],
      "text/plain": [
       "   Time  AccV     AccML  AccAP  StartHesitation  Turn  Walking  Valid   Task  \\\n",
       "0     0  -1.0  0.044129  -0.25              0.0   0.0      0.0  False  False   \n",
       "1     1  -1.0  0.034431  -0.25              0.0   0.0      0.0  False  False   \n",
       "2     2  -1.0  0.031250  -0.25              0.0   0.0      0.0  False  False   \n",
       "3     3  -1.0  0.031250  -0.25              0.0   0.0      0.0  False  False   \n",
       "4     4  -1.0  0.031250  -0.25              0.0   0.0      0.0  False  False   \n",
       "\n",
       "                       Id  Event  \n",
       "0  train\\defog\\02ea782681    0.0  \n",
       "1  train\\defog\\02ea782681    0.0  \n",
       "2  train\\defog\\02ea782681    0.0  \n",
       "3  train\\defog\\02ea782681    0.0  \n",
       "4  train\\defog\\02ea782681    0.0  "
      ]
     },
     "execution_count": 10,
     "metadata": {},
     "output_type": "execute_result"
    }
   ],
   "source": [
    "train.head()"
   ]
  },
  {
   "cell_type": "code",
   "execution_count": 11,
   "id": "fcc9fc93",
   "metadata": {},
   "outputs": [
    {
     "name": "stdout",
     "output_type": "stream",
     "text": [
      "<class 'pandas.core.frame.DataFrame'>\n",
      "Int64Index: 30839488 entries, 0 to 4224\n",
      "Data columns (total 11 columns):\n",
      " #   Column           Dtype  \n",
      "---  ------           -----  \n",
      " 0   Time             int64  \n",
      " 1   AccV             float64\n",
      " 2   AccML            float64\n",
      " 3   AccAP            float64\n",
      " 4   StartHesitation  float64\n",
      " 5   Turn             float64\n",
      " 6   Walking          float64\n",
      " 7   Valid            object \n",
      " 8   Task             object \n",
      " 9   Id               object \n",
      " 10  Event            float64\n",
      "dtypes: float64(7), int64(1), object(3)\n",
      "memory usage: 2.8+ GB\n"
     ]
    }
   ],
   "source": [
    "train.info()"
   ]
  },
  {
   "cell_type": "code",
   "execution_count": 12,
   "id": "68537042",
   "metadata": {},
   "outputs": [
    {
     "data": {
      "text/html": [
       "<div>\n",
       "<style scoped>\n",
       "    .dataframe tbody tr th:only-of-type {\n",
       "        vertical-align: middle;\n",
       "    }\n",
       "\n",
       "    .dataframe tbody tr th {\n",
       "        vertical-align: top;\n",
       "    }\n",
       "\n",
       "    .dataframe thead th {\n",
       "        text-align: right;\n",
       "    }\n",
       "</style>\n",
       "<table border=\"1\" class=\"dataframe\">\n",
       "  <thead>\n",
       "    <tr style=\"text-align: right;\">\n",
       "      <th></th>\n",
       "      <th>Time</th>\n",
       "      <th>AccV</th>\n",
       "      <th>AccML</th>\n",
       "      <th>AccAP</th>\n",
       "      <th>StartHesitation</th>\n",
       "      <th>Turn</th>\n",
       "      <th>Walking</th>\n",
       "      <th>Event</th>\n",
       "    </tr>\n",
       "  </thead>\n",
       "  <tbody>\n",
       "    <tr>\n",
       "      <th>count</th>\n",
       "      <td>3.083949e+07</td>\n",
       "      <td>3.083949e+07</td>\n",
       "      <td>3.083949e+07</td>\n",
       "      <td>3.083949e+07</td>\n",
       "      <td>3.083949e+07</td>\n",
       "      <td>3.083949e+07</td>\n",
       "      <td>3.083949e+07</td>\n",
       "      <td>3.083949e+07</td>\n",
       "    </tr>\n",
       "    <tr>\n",
       "      <th>mean</th>\n",
       "      <td>8.104209e+04</td>\n",
       "      <td>-2.853547e+00</td>\n",
       "      <td>-7.176152e-02</td>\n",
       "      <td>3.223149e-01</td>\n",
       "      <td>9.899321e-03</td>\n",
       "      <td>7.286266e-02</td>\n",
       "      <td>9.735538e-03</td>\n",
       "      <td>1.623244e-04</td>\n",
       "    </tr>\n",
       "    <tr>\n",
       "      <th>std</th>\n",
       "      <td>7.757087e+04</td>\n",
       "      <td>3.555443e+00</td>\n",
       "      <td>6.220057e-01</td>\n",
       "      <td>1.384934e+00</td>\n",
       "      <td>9.900164e-02</td>\n",
       "      <td>2.599109e-01</td>\n",
       "      <td>9.818736e-02</td>\n",
       "      <td>1.273962e-02</td>\n",
       "    </tr>\n",
       "    <tr>\n",
       "      <th>min</th>\n",
       "      <td>0.000000e+00</td>\n",
       "      <td>-3.552112e+01</td>\n",
       "      <td>-2.616440e+01</td>\n",
       "      <td>-4.782964e+01</td>\n",
       "      <td>0.000000e+00</td>\n",
       "      <td>0.000000e+00</td>\n",
       "      <td>0.000000e+00</td>\n",
       "      <td>0.000000e+00</td>\n",
       "    </tr>\n",
       "    <tr>\n",
       "      <th>25%</th>\n",
       "      <td>1.345600e+04</td>\n",
       "      <td>-1.062500e+00</td>\n",
       "      <td>-1.440556e-01</td>\n",
       "      <td>-3.021181e-01</td>\n",
       "      <td>0.000000e+00</td>\n",
       "      <td>0.000000e+00</td>\n",
       "      <td>0.000000e+00</td>\n",
       "      <td>0.000000e+00</td>\n",
       "    </tr>\n",
       "    <tr>\n",
       "      <th>50%</th>\n",
       "      <td>6.209300e+04</td>\n",
       "      <td>-9.700277e-01</td>\n",
       "      <td>-3.125000e-02</td>\n",
       "      <td>-1.068925e-01</td>\n",
       "      <td>0.000000e+00</td>\n",
       "      <td>0.000000e+00</td>\n",
       "      <td>0.000000e+00</td>\n",
       "      <td>0.000000e+00</td>\n",
       "    </tr>\n",
       "    <tr>\n",
       "      <th>75%</th>\n",
       "      <td>1.247820e+05</td>\n",
       "      <td>-9.169647e-01</td>\n",
       "      <td>6.805153e-02</td>\n",
       "      <td>3.267068e-01</td>\n",
       "      <td>0.000000e+00</td>\n",
       "      <td>0.000000e+00</td>\n",
       "      <td>0.000000e+00</td>\n",
       "      <td>0.000000e+00</td>\n",
       "    </tr>\n",
       "    <tr>\n",
       "      <th>max</th>\n",
       "      <td>4.434950e+05</td>\n",
       "      <td>2.090695e+01</td>\n",
       "      <td>2.748472e+01</td>\n",
       "      <td>3.033769e+01</td>\n",
       "      <td>1.000000e+00</td>\n",
       "      <td>1.000000e+00</td>\n",
       "      <td>1.000000e+00</td>\n",
       "      <td>1.000000e+00</td>\n",
       "    </tr>\n",
       "  </tbody>\n",
       "</table>\n",
       "</div>"
      ],
      "text/plain": [
       "               Time          AccV         AccML         AccAP  \\\n",
       "count  3.083949e+07  3.083949e+07  3.083949e+07  3.083949e+07   \n",
       "mean   8.104209e+04 -2.853547e+00 -7.176152e-02  3.223149e-01   \n",
       "std    7.757087e+04  3.555443e+00  6.220057e-01  1.384934e+00   \n",
       "min    0.000000e+00 -3.552112e+01 -2.616440e+01 -4.782964e+01   \n",
       "25%    1.345600e+04 -1.062500e+00 -1.440556e-01 -3.021181e-01   \n",
       "50%    6.209300e+04 -9.700277e-01 -3.125000e-02 -1.068925e-01   \n",
       "75%    1.247820e+05 -9.169647e-01  6.805153e-02  3.267068e-01   \n",
       "max    4.434950e+05  2.090695e+01  2.748472e+01  3.033769e+01   \n",
       "\n",
       "       StartHesitation          Turn       Walking         Event  \n",
       "count     3.083949e+07  3.083949e+07  3.083949e+07  3.083949e+07  \n",
       "mean      9.899321e-03  7.286266e-02  9.735538e-03  1.623244e-04  \n",
       "std       9.900164e-02  2.599109e-01  9.818736e-02  1.273962e-02  \n",
       "min       0.000000e+00  0.000000e+00  0.000000e+00  0.000000e+00  \n",
       "25%       0.000000e+00  0.000000e+00  0.000000e+00  0.000000e+00  \n",
       "50%       0.000000e+00  0.000000e+00  0.000000e+00  0.000000e+00  \n",
       "75%       0.000000e+00  0.000000e+00  0.000000e+00  0.000000e+00  \n",
       "max       1.000000e+00  1.000000e+00  1.000000e+00  1.000000e+00  "
      ]
     },
     "execution_count": 12,
     "metadata": {},
     "output_type": "execute_result"
    }
   ],
   "source": [
    "train.describe()"
   ]
  },
  {
   "cell_type": "code",
   "execution_count": 13,
   "id": "ca219989",
   "metadata": {},
   "outputs": [],
   "source": [
    "cols = ['Valid', 'Task']\n",
    "train[cols] = train[cols].astype('category')"
   ]
  },
  {
   "cell_type": "code",
   "execution_count": 14,
   "id": "e3fe8445",
   "metadata": {},
   "outputs": [],
   "source": [
    "cols1 = ['AccV', 'AccML','AccAP','StartHesitation','Turn','Walking','Event',]\n",
    "train[cols1] = train[cols1].astype('float16')"
   ]
  },
  {
   "cell_type": "code",
   "execution_count": 15,
   "id": "de358da8",
   "metadata": {},
   "outputs": [],
   "source": [
    "train['Time'] = train['Time'].astype('int8')"
   ]
  },
  {
   "cell_type": "code",
   "execution_count": 16,
   "id": "adf4b677",
   "metadata": {
    "scrolled": true
   },
   "outputs": [
    {
     "name": "stdout",
     "output_type": "stream",
     "text": [
      "<class 'pandas.core.frame.DataFrame'>\n",
      "Int64Index: 30839488 entries, 0 to 4224\n",
      "Data columns (total 11 columns):\n",
      " #   Column           Dtype   \n",
      "---  ------           -----   \n",
      " 0   Time             int8    \n",
      " 1   AccV             float16 \n",
      " 2   AccML            float16 \n",
      " 3   AccAP            float16 \n",
      " 4   StartHesitation  float16 \n",
      " 5   Turn             float16 \n",
      " 6   Walking          float16 \n",
      " 7   Valid            category\n",
      " 8   Task             category\n",
      " 9   Id               object  \n",
      " 10  Event            float16 \n",
      "dtypes: category(2), float16(7), int8(1), object(1)\n",
      "memory usage: 970.6+ MB\n"
     ]
    }
   ],
   "source": [
    "train.info()"
   ]
  },
  {
   "cell_type": "code",
   "execution_count": 17,
   "id": "8007b32d",
   "metadata": {},
   "outputs": [
    {
     "data": {
      "text/html": [
       "<div>\n",
       "<style scoped>\n",
       "    .dataframe tbody tr th:only-of-type {\n",
       "        vertical-align: middle;\n",
       "    }\n",
       "\n",
       "    .dataframe tbody tr th {\n",
       "        vertical-align: top;\n",
       "    }\n",
       "\n",
       "    .dataframe thead th {\n",
       "        text-align: right;\n",
       "    }\n",
       "</style>\n",
       "<table border=\"1\" class=\"dataframe\">\n",
       "  <thead>\n",
       "    <tr style=\"text-align: right;\">\n",
       "      <th></th>\n",
       "      <th>Subject</th>\n",
       "      <th>Visit</th>\n",
       "      <th>Age</th>\n",
       "      <th>Sex</th>\n",
       "      <th>YearsSinceDx</th>\n",
       "      <th>UPDRSIII_On</th>\n",
       "      <th>UPDRSIII_Off</th>\n",
       "      <th>NFOGQ</th>\n",
       "    </tr>\n",
       "  </thead>\n",
       "  <tbody>\n",
       "    <tr>\n",
       "      <th>0</th>\n",
       "      <td>04fcdb</td>\n",
       "      <td>1.0</td>\n",
       "      <td>63</td>\n",
       "      <td>M</td>\n",
       "      <td>3.0</td>\n",
       "      <td>30.0</td>\n",
       "      <td>NaN</td>\n",
       "      <td>0</td>\n",
       "    </tr>\n",
       "    <tr>\n",
       "      <th>1</th>\n",
       "      <td>05595e</td>\n",
       "      <td>1.0</td>\n",
       "      <td>56</td>\n",
       "      <td>M</td>\n",
       "      <td>8.0</td>\n",
       "      <td>28.0</td>\n",
       "      <td>NaN</td>\n",
       "      <td>0</td>\n",
       "    </tr>\n",
       "    <tr>\n",
       "      <th>2</th>\n",
       "      <td>0967b2</td>\n",
       "      <td>1.0</td>\n",
       "      <td>59</td>\n",
       "      <td>M</td>\n",
       "      <td>10.0</td>\n",
       "      <td>38.0</td>\n",
       "      <td>48.0</td>\n",
       "      <td>19</td>\n",
       "    </tr>\n",
       "    <tr>\n",
       "      <th>3</th>\n",
       "      <td>0967b2</td>\n",
       "      <td>2.0</td>\n",
       "      <td>59</td>\n",
       "      <td>M</td>\n",
       "      <td>10.0</td>\n",
       "      <td>37.0</td>\n",
       "      <td>44.0</td>\n",
       "      <td>13</td>\n",
       "    </tr>\n",
       "    <tr>\n",
       "      <th>4</th>\n",
       "      <td>097078</td>\n",
       "      <td>NaN</td>\n",
       "      <td>70</td>\n",
       "      <td>F</td>\n",
       "      <td>10.0</td>\n",
       "      <td>27.0</td>\n",
       "      <td>50.0</td>\n",
       "      <td>20</td>\n",
       "    </tr>\n",
       "  </tbody>\n",
       "</table>\n",
       "</div>"
      ],
      "text/plain": [
       "  Subject  Visit  Age Sex  YearsSinceDx  UPDRSIII_On  UPDRSIII_Off  NFOGQ\n",
       "0  04fcdb    1.0   63   M           3.0         30.0           NaN      0\n",
       "1  05595e    1.0   56   M           8.0         28.0           NaN      0\n",
       "2  0967b2    1.0   59   M          10.0         38.0          48.0     19\n",
       "3  0967b2    2.0   59   M          10.0         37.0          44.0     13\n",
       "4  097078    NaN   70   F          10.0         27.0          50.0     20"
      ]
     },
     "execution_count": 17,
     "metadata": {},
     "output_type": "execute_result"
    }
   ],
   "source": [
    "subjects.head()"
   ]
  },
  {
   "cell_type": "code",
   "execution_count": 18,
   "id": "c7c43749",
   "metadata": {},
   "outputs": [
    {
     "data": {
      "text/plain": [
       "Subject          0\n",
       "Visit           62\n",
       "Age              0\n",
       "Sex              0\n",
       "YearsSinceDx     0\n",
       "UPDRSIII_On      1\n",
       "UPDRSIII_Off    41\n",
       "NFOGQ            0\n",
       "dtype: int64"
      ]
     },
     "execution_count": 18,
     "metadata": {},
     "output_type": "execute_result"
    }
   ],
   "source": [
    "subjects.isnull().sum()"
   ]
  },
  {
   "cell_type": "code",
   "execution_count": 19,
   "id": "231eeab9",
   "metadata": {},
   "outputs": [],
   "source": [
    "import seaborn as sns"
   ]
  },
  {
   "cell_type": "code",
   "execution_count": 20,
   "id": "8df4470e",
   "metadata": {},
   "outputs": [
    {
     "name": "stderr",
     "output_type": "stream",
     "text": [
      "C:\\Users\\colli\\anaconda3\\lib\\site-packages\\seaborn\\_decorators.py:36: FutureWarning: Pass the following variable as a keyword arg: x. From version 0.12, the only valid positional argument will be `data`, and passing other arguments without an explicit keyword will result in an error or misinterpretation.\n",
      "  warnings.warn(\n"
     ]
    },
    {
     "data": {
      "text/plain": [
       "<AxesSubplot:xlabel='Sex', ylabel='count'>"
      ]
     },
     "execution_count": 20,
     "metadata": {},
     "output_type": "execute_result"
    },
    {
     "data": {
      "image/png": "[encoded data removed]",
      "text/plain": [
       "<Figure size 432x288 with 1 Axes>"
      ]
     },
     "metadata": {
      "needs_background": "light"
     },
     "output_type": "display_data"
    }
   ],
   "source": [
    "#EDA Subjects data\n",
    "sns.countplot(subjects['Sex'])"
   ]
  },
  {
   "cell_type": "code",
   "execution_count": 21,
   "id": "8b945c27",
   "metadata": {},
   "outputs": [
    {
     "data": {
      "text/plain": [
       "<AxesSubplot:xlabel='Age', ylabel='Count'>"
      ]
     },
     "execution_count": 21,
     "metadata": {},
     "output_type": "execute_result"
    },
    {
     "data": {
      "image/png": "[encoded data removed]",
      "text/plain": [
       "<Figure size 432x288 with 1 Axes>"
      ]
     },
     "metadata": {
      "needs_background": "light"
     },
     "output_type": "display_data"
    }
   ],
   "source": [
    "sns.histplot(subjects['Age'])"
   ]
  },
  {
   "cell_type": "code",
   "execution_count": 22,
   "id": "345c73c0",
   "metadata": {},
   "outputs": [
    {
     "data": {
      "text/plain": [
       "<AxesSubplot:xlabel='YearsSinceDx', ylabel='Count'>"
      ]
     },
     "execution_count": 22,
     "metadata": {},
     "output_type": "execute_result"
    },
    {
     "data": {
      "image/png": "[encoded data removed]",
      "text/plain": [
       "<Figure size 432x288 with 1 Axes>"
      ]
     },
     "metadata": {
      "needs_background": "light"
     },
     "output_type": "display_data"
    }
   ],
   "source": [
    "sns.histplot(subjects['YearsSinceDx'], color = 'green')"
   ]
  },
  {
   "cell_type": "code",
   "execution_count": 23,
   "id": "c6af41eb",
   "metadata": {},
   "outputs": [
    {
     "data": {
      "text/plain": [
       "<AxesSubplot:xlabel='UPDRSIII_On', ylabel='Count'>"
      ]
     },
     "execution_count": 23,
     "metadata": {},
     "output_type": "execute_result"
    },
    {
     "data": {
      "image/png": "[encoded data removed]",
      "text/plain": [
       "<Figure size 432x288 with 1 Axes>"
      ]
     },
     "metadata": {
      "needs_background": "light"
     },
     "output_type": "display_data"
    }
   ],
   "source": [
    "sns.histplot(subjects['UPDRSIII_On'], color = 'red')"
   ]
  },
  {
   "cell_type": "code",
   "execution_count": 24,
   "id": "6207ecb2",
   "metadata": {},
   "outputs": [
    {
     "data": {
      "text/plain": [
       "<AxesSubplot:xlabel='UPDRSIII_Off', ylabel='Count'>"
      ]
     },
     "execution_count": 24,
     "metadata": {},
     "output_type": "execute_result"
    },
    {
     "data": {
      "image/png": "[encoded data removed]",
      "text/plain": [
       "<Figure size 432x288 with 1 Axes>"
      ]
     },
     "metadata": {
      "needs_background": "light"
     },
     "output_type": "display_data"
    }
   ],
   "source": [
    "sns.histplot(subjects['UPDRSIII_Off'], color = 'yellow')"
   ]
  },
  {
   "cell_type": "code",
   "execution_count": 25,
   "id": "a1ca69b6",
   "metadata": {},
   "outputs": [
    {
     "data": {
      "text/html": [
       "<div>\n",
       "<style scoped>\n",
       "    .dataframe tbody tr th:only-of-type {\n",
       "        vertical-align: middle;\n",
       "    }\n",
       "\n",
       "    .dataframe tbody tr th {\n",
       "        vertical-align: top;\n",
       "    }\n",
       "\n",
       "    .dataframe thead th {\n",
       "        text-align: right;\n",
       "    }\n",
       "</style>\n",
       "<table border=\"1\" class=\"dataframe\">\n",
       "  <thead>\n",
       "    <tr style=\"text-align: right;\">\n",
       "      <th></th>\n",
       "      <th>Id</th>\n",
       "      <th>Begin</th>\n",
       "      <th>End</th>\n",
       "      <th>Task</th>\n",
       "    </tr>\n",
       "  </thead>\n",
       "  <tbody>\n",
       "    <tr>\n",
       "      <th>0</th>\n",
       "      <td>02ab235146</td>\n",
       "      <td>10.00</td>\n",
       "      <td>190.48</td>\n",
       "      <td>Rest1</td>\n",
       "    </tr>\n",
       "    <tr>\n",
       "      <th>1</th>\n",
       "      <td>02ab235146</td>\n",
       "      <td>211.24</td>\n",
       "      <td>271.56</td>\n",
       "      <td>Rest2</td>\n",
       "    </tr>\n",
       "    <tr>\n",
       "      <th>2</th>\n",
       "      <td>02ab235146</td>\n",
       "      <td>505.88</td>\n",
       "      <td>522.40</td>\n",
       "      <td>4MW</td>\n",
       "    </tr>\n",
       "    <tr>\n",
       "      <th>3</th>\n",
       "      <td>02ab235146</td>\n",
       "      <td>577.96</td>\n",
       "      <td>594.64</td>\n",
       "      <td>4MW-C</td>\n",
       "    </tr>\n",
       "    <tr>\n",
       "      <th>4</th>\n",
       "      <td>02ab235146</td>\n",
       "      <td>701.32</td>\n",
       "      <td>715.28</td>\n",
       "      <td>MB1</td>\n",
       "    </tr>\n",
       "  </tbody>\n",
       "</table>\n",
       "</div>"
      ],
      "text/plain": [
       "           Id   Begin     End   Task\n",
       "0  02ab235146   10.00  190.48  Rest1\n",
       "1  02ab235146  211.24  271.56  Rest2\n",
       "2  02ab235146  505.88  522.40    4MW\n",
       "3  02ab235146  577.96  594.64  4MW-C\n",
       "4  02ab235146  701.32  715.28    MB1"
      ]
     },
     "execution_count": 25,
     "metadata": {},
     "output_type": "execute_result"
    }
   ],
   "source": [
    "tasks.head()"
   ]
  },
  {
   "cell_type": "code",
   "execution_count": 26,
   "id": "f0dbbe7f",
   "metadata": {},
   "outputs": [
    {
     "name": "stdout",
     "output_type": "stream",
     "text": [
      "<class 'pandas.core.frame.DataFrame'>\n",
      "RangeIndex: 2817 entries, 0 to 2816\n",
      "Data columns (total 4 columns):\n",
      " #   Column  Non-Null Count  Dtype  \n",
      "---  ------  --------------  -----  \n",
      " 0   Id      2817 non-null   object \n",
      " 1   Begin   2817 non-null   float64\n",
      " 2   End     2817 non-null   float64\n",
      " 3   Task    2817 non-null   object \n",
      "dtypes: float64(2), object(2)\n",
      "memory usage: 88.2+ KB\n"
     ]
    }
   ],
   "source": [
    "tasks.info()"
   ]
  },
  {
   "cell_type": "code",
   "execution_count": 27,
   "id": "4c84749e",
   "metadata": {},
   "outputs": [
    {
     "data": {
      "text/plain": [
       "array(['Rest1', 'Rest2', '4MW', '4MW-C', 'MB1', 'MB2a', 'MB2b', 'MB3-R',\n",
       "       'MB3-L', 'MB4', 'MB5', 'MB6-R', 'MB6-L', 'MB7', 'MB8', 'MB9',\n",
       "       'MB10', 'MB11', 'MB12', 'MB13', 'TUG-ST', 'TUG-DT', 'TUG-C',\n",
       "       'Turning-ST', 'Turning-DT', 'Turning-C', 'Hotspot1', 'Hotspot1-C',\n",
       "       'Hotspot2', 'Hotspot2-C', 'MB6'], dtype=object)"
      ]
     },
     "execution_count": 27,
     "metadata": {},
     "output_type": "execute_result"
    }
   ],
   "source": [
    "tasks['Task'].unique()"
   ]
  },
  {
   "cell_type": "code",
   "execution_count": 28,
   "id": "ca36a250",
   "metadata": {},
   "outputs": [],
   "source": [
    "tasks['Length'] = tasks['End'] - tasks['Begin']"
   ]
  },
  {
   "cell_type": "code",
   "execution_count": 29,
   "id": "d4e0decf",
   "metadata": {},
   "outputs": [
    {
     "data": {
      "text/html": [
       "<div>\n",
       "<style scoped>\n",
       "    .dataframe tbody tr th:only-of-type {\n",
       "        vertical-align: middle;\n",
       "    }\n",
       "\n",
       "    .dataframe tbody tr th {\n",
       "        vertical-align: top;\n",
       "    }\n",
       "\n",
       "    .dataframe thead th {\n",
       "        text-align: right;\n",
       "    }\n",
       "</style>\n",
       "<table border=\"1\" class=\"dataframe\">\n",
       "  <thead>\n",
       "    <tr style=\"text-align: right;\">\n",
       "      <th></th>\n",
       "      <th>Id</th>\n",
       "      <th>Begin</th>\n",
       "      <th>End</th>\n",
       "      <th>Task</th>\n",
       "      <th>Length</th>\n",
       "    </tr>\n",
       "  </thead>\n",
       "  <tbody>\n",
       "    <tr>\n",
       "      <th>0</th>\n",
       "      <td>02ab235146</td>\n",
       "      <td>10.00</td>\n",
       "      <td>190.48</td>\n",
       "      <td>Rest1</td>\n",
       "      <td>180.48</td>\n",
       "    </tr>\n",
       "    <tr>\n",
       "      <th>1</th>\n",
       "      <td>02ab235146</td>\n",
       "      <td>211.24</td>\n",
       "      <td>271.56</td>\n",
       "      <td>Rest2</td>\n",
       "      <td>60.32</td>\n",
       "    </tr>\n",
       "    <tr>\n",
       "      <th>2</th>\n",
       "      <td>02ab235146</td>\n",
       "      <td>505.88</td>\n",
       "      <td>522.40</td>\n",
       "      <td>4MW</td>\n",
       "      <td>16.52</td>\n",
       "    </tr>\n",
       "    <tr>\n",
       "      <th>3</th>\n",
       "      <td>02ab235146</td>\n",
       "      <td>577.96</td>\n",
       "      <td>594.64</td>\n",
       "      <td>4MW-C</td>\n",
       "      <td>16.68</td>\n",
       "    </tr>\n",
       "    <tr>\n",
       "      <th>4</th>\n",
       "      <td>02ab235146</td>\n",
       "      <td>701.32</td>\n",
       "      <td>715.28</td>\n",
       "      <td>MB1</td>\n",
       "      <td>13.96</td>\n",
       "    </tr>\n",
       "  </tbody>\n",
       "</table>\n",
       "</div>"
      ],
      "text/plain": [
       "           Id   Begin     End   Task  Length\n",
       "0  02ab235146   10.00  190.48  Rest1  180.48\n",
       "1  02ab235146  211.24  271.56  Rest2   60.32\n",
       "2  02ab235146  505.88  522.40    4MW   16.52\n",
       "3  02ab235146  577.96  594.64  4MW-C   16.68\n",
       "4  02ab235146  701.32  715.28    MB1   13.96"
      ]
     },
     "execution_count": 29,
     "metadata": {},
     "output_type": "execute_result"
    }
   ],
   "source": [
    "tasks.head()"
   ]
  },
  {
   "cell_type": "code",
   "execution_count": 30,
   "id": "5447a44a",
   "metadata": {},
   "outputs": [
    {
     "data": {
      "text/plain": [
       "Task\n",
       "4MW            16.742168\n",
       "4MW-C          18.444077\n",
       "Hotspot1       19.805146\n",
       "Hotspot1-C     19.661356\n",
       "Hotspot2       57.677015\n",
       "Hotspot2-C     57.270153\n",
       "MB1             5.218015\n",
       "MB10           12.152212\n",
       "MB11           10.900179\n",
       "MB12            7.263586\n",
       "MB13            8.758779\n",
       "MB2a            6.845810\n",
       "MB2b            6.760318\n",
       "MB3-L          13.335517\n",
       "MB3-R          12.237815\n",
       "MB4             3.902638\n",
       "MB5             4.530712\n",
       "MB6             4.023333\n",
       "MB6-L           4.158355\n",
       "MB6-R           4.162885\n",
       "MB7            30.991477\n",
       "MB8            21.458338\n",
       "MB9            30.580231\n",
       "Rest1         178.256378\n",
       "Rest2          60.590000\n",
       "TUG-C          19.021294\n",
       "TUG-DT         22.462824\n",
       "TUG-ST         16.011014\n",
       "Turning-C      52.903918\n",
       "Turning-DT     72.360219\n",
       "Turning-ST     56.416672\n",
       "Name: Length, dtype: float64"
      ]
     },
     "execution_count": 30,
     "metadata": {},
     "output_type": "execute_result"
    }
   ],
   "source": [
    "tasks.groupby('Task')['Length'].mean()"
   ]
  },
  {
   "cell_type": "code",
   "execution_count": 31,
   "id": "277674a7",
   "metadata": {},
   "outputs": [
    {
     "data": {
      "text/html": [
       "<div>\n",
       "<style scoped>\n",
       "    .dataframe tbody tr th:only-of-type {\n",
       "        vertical-align: middle;\n",
       "    }\n",
       "\n",
       "    .dataframe tbody tr th {\n",
       "        vertical-align: top;\n",
       "    }\n",
       "\n",
       "    .dataframe thead th {\n",
       "        text-align: right;\n",
       "    }\n",
       "</style>\n",
       "<table border=\"1\" class=\"dataframe\">\n",
       "  <thead>\n",
       "    <tr style=\"text-align: right;\">\n",
       "      <th></th>\n",
       "      <th>Id</th>\n",
       "      <th>Subject</th>\n",
       "      <th>Visit</th>\n",
       "      <th>Medication</th>\n",
       "    </tr>\n",
       "  </thead>\n",
       "  <tbody>\n",
       "    <tr>\n",
       "      <th>0</th>\n",
       "      <td>02ab235146</td>\n",
       "      <td>ab54e1</td>\n",
       "      <td>2</td>\n",
       "      <td>on</td>\n",
       "    </tr>\n",
       "    <tr>\n",
       "      <th>1</th>\n",
       "      <td>02ea782681</td>\n",
       "      <td>bf608b</td>\n",
       "      <td>2</td>\n",
       "      <td>on</td>\n",
       "    </tr>\n",
       "    <tr>\n",
       "      <th>2</th>\n",
       "      <td>06414383cf</td>\n",
       "      <td>c0b71e</td>\n",
       "      <td>2</td>\n",
       "      <td>off</td>\n",
       "    </tr>\n",
       "    <tr>\n",
       "      <th>3</th>\n",
       "      <td>092b4c1819</td>\n",
       "      <td>b6a627</td>\n",
       "      <td>1</td>\n",
       "      <td>off</td>\n",
       "    </tr>\n",
       "    <tr>\n",
       "      <th>4</th>\n",
       "      <td>0a900ed8a2</td>\n",
       "      <td>b7bd52</td>\n",
       "      <td>2</td>\n",
       "      <td>on</td>\n",
       "    </tr>\n",
       "  </tbody>\n",
       "</table>\n",
       "</div>"
      ],
      "text/plain": [
       "           Id Subject  Visit Medication\n",
       "0  02ab235146  ab54e1      2         on\n",
       "1  02ea782681  bf608b      2         on\n",
       "2  06414383cf  c0b71e      2        off\n",
       "3  092b4c1819  b6a627      1        off\n",
       "4  0a900ed8a2  b7bd52      2         on"
      ]
     },
     "execution_count": 31,
     "metadata": {},
     "output_type": "execute_result"
    }
   ],
   "source": [
    "defog.head()"
   ]
  },
  {
   "cell_type": "code",
   "execution_count": 32,
   "id": "18d31e61",
   "metadata": {},
   "outputs": [
    {
     "name": "stderr",
     "output_type": "stream",
     "text": [
      "C:\\Users\\colli\\anaconda3\\lib\\site-packages\\seaborn\\_decorators.py:36: FutureWarning: Pass the following variable as a keyword arg: x. From version 0.12, the only valid positional argument will be `data`, and passing other arguments without an explicit keyword will result in an error or misinterpretation.\n",
      "  warnings.warn(\n"
     ]
    },
    {
     "data": {
      "text/plain": [
       "<AxesSubplot:xlabel='Visit', ylabel='count'>"
      ]
     },
     "execution_count": 32,
     "metadata": {},
     "output_type": "execute_result"
    },
    {
     "data": {
      "image/png": "[encoded data removed]",
      "text/plain": [
       "<Figure size 432x288 with 1 Axes>"
      ]
     },
     "metadata": {
      "needs_background": "light"
     },
     "output_type": "display_data"
    }
   ],
   "source": [
    "sns.countplot(defog['Visit'])"
   ]
  },
  {
   "cell_type": "code",
   "execution_count": 33,
   "id": "e1093653",
   "metadata": {},
   "outputs": [
    {
     "name": "stderr",
     "output_type": "stream",
     "text": [
      "C:\\Users\\colli\\anaconda3\\lib\\site-packages\\seaborn\\_decorators.py:36: FutureWarning: Pass the following variable as a keyword arg: x. From version 0.12, the only valid positional argument will be `data`, and passing other arguments without an explicit keyword will result in an error or misinterpretation.\n",
      "  warnings.warn(\n"
     ]
    },
    {
     "data": {
      "text/plain": [
       "<AxesSubplot:xlabel='Medication', ylabel='count'>"
      ]
     },
     "execution_count": 33,
     "metadata": {},
     "output_type": "execute_result"
    },
    {
     "data": {
      "image/png": "[encoded data removed]",
      "text/plain": [
       "<Figure size 432x288 with 1 Axes>"
      ]
     },
     "metadata": {
      "needs_background": "light"
     },
     "output_type": "display_data"
    }
   ],
   "source": [
    "sns.countplot(defog['Medication'])"
   ]
  },
  {
   "cell_type": "code",
   "execution_count": 34,
   "id": "592e52e0",
   "metadata": {},
   "outputs": [
    {
     "data": {
      "text/html": [
       "<div>\n",
       "<style scoped>\n",
       "    .dataframe tbody tr th:only-of-type {\n",
       "        vertical-align: middle;\n",
       "    }\n",
       "\n",
       "    .dataframe tbody tr th {\n",
       "        vertical-align: top;\n",
       "    }\n",
       "\n",
       "    .dataframe thead th {\n",
       "        text-align: right;\n",
       "    }\n",
       "</style>\n",
       "<table border=\"1\" class=\"dataframe\">\n",
       "  <thead>\n",
       "    <tr style=\"text-align: right;\">\n",
       "      <th></th>\n",
       "      <th>Id</th>\n",
       "      <th>Subject</th>\n",
       "      <th>Visit</th>\n",
       "      <th>Test</th>\n",
       "      <th>Medication</th>\n",
       "    </tr>\n",
       "  </thead>\n",
       "  <tbody>\n",
       "    <tr>\n",
       "      <th>0</th>\n",
       "      <td>003f117e14</td>\n",
       "      <td>13abfd</td>\n",
       "      <td>3</td>\n",
       "      <td>2</td>\n",
       "      <td>on</td>\n",
       "    </tr>\n",
       "    <tr>\n",
       "      <th>1</th>\n",
       "      <td>009ee11563</td>\n",
       "      <td>d81e3a</td>\n",
       "      <td>4</td>\n",
       "      <td>2</td>\n",
       "      <td>on</td>\n",
       "    </tr>\n",
       "    <tr>\n",
       "      <th>2</th>\n",
       "      <td>011322847a</td>\n",
       "      <td>203e85</td>\n",
       "      <td>2</td>\n",
       "      <td>2</td>\n",
       "      <td>on</td>\n",
       "    </tr>\n",
       "    <tr>\n",
       "      <th>3</th>\n",
       "      <td>01d0fe7266</td>\n",
       "      <td>203e85</td>\n",
       "      <td>2</td>\n",
       "      <td>1</td>\n",
       "      <td>off</td>\n",
       "    </tr>\n",
       "    <tr>\n",
       "      <th>4</th>\n",
       "      <td>024418ba39</td>\n",
       "      <td>cecfb8</td>\n",
       "      <td>19</td>\n",
       "      <td>3</td>\n",
       "      <td>on</td>\n",
       "    </tr>\n",
       "  </tbody>\n",
       "</table>\n",
       "</div>"
      ],
      "text/plain": [
       "           Id Subject  Visit  Test Medication\n",
       "0  003f117e14  13abfd      3     2         on\n",
       "1  009ee11563  d81e3a      4     2         on\n",
       "2  011322847a  203e85      2     2         on\n",
       "3  01d0fe7266  203e85      2     1        off\n",
       "4  024418ba39  cecfb8     19     3         on"
      ]
     },
     "execution_count": 34,
     "metadata": {},
     "output_type": "execute_result"
    }
   ],
   "source": [
    "meta.head()"
   ]
  },
  {
   "cell_type": "code",
   "execution_count": 35,
   "id": "75faf871",
   "metadata": {},
   "outputs": [
    {
     "name": "stderr",
     "output_type": "stream",
     "text": [
      "C:\\Users\\colli\\anaconda3\\lib\\site-packages\\seaborn\\_decorators.py:36: FutureWarning: Pass the following variable as a keyword arg: x. From version 0.12, the only valid positional argument will be `data`, and passing other arguments without an explicit keyword will result in an error or misinterpretation.\n",
      "  warnings.warn(\n"
     ]
    },
    {
     "data": {
      "text/plain": [
       "<AxesSubplot:xlabel='Valid', ylabel='count'>"
      ]
     },
     "execution_count": 35,
     "metadata": {},
     "output_type": "execute_result"
    },
    {
     "data": {
      "image/png": "[encoded data removed]",
      "text/plain": [
       "<Figure size 432x288 with 1 Axes>"
      ]
     },
     "metadata": {
      "needs_background": "light"
     },
     "output_type": "display_data"
    }
   ],
   "source": [
    "sns.countplot(train['Valid'])"
   ]
  },
  {
   "cell_type": "code",
   "execution_count": 36,
   "id": "dc400b8d",
   "metadata": {},
   "outputs": [
    {
     "data": {
      "text/plain": [
       "<AxesSubplot:xlabel='Task', ylabel='count'>"
      ]
     },
     "execution_count": 36,
     "metadata": {},
     "output_type": "execute_result"
    },
    {
     "data": {
      "image/png": "[encoded data removed]",
      "text/plain": [
       "<Figure size 432x288 with 1 Axes>"
      ]
     },
     "metadata": {
      "needs_background": "light"
     },
     "output_type": "display_data"
    }
   ],
   "source": [
    "sns.countplot(train['Task'])"
   ]
  },
  {
   "cell_type": "code",
   "execution_count": 37,
   "id": "58e36963",
   "metadata": {},
   "outputs": [
    {
     "data": {
      "text/plain": [
       "<AxesSubplot:xlabel='Event', ylabel='count'>"
      ]
     },
     "execution_count": 37,
     "metadata": {},
     "output_type": "execute_result"
    },
    {
     "data": {
      "image/png": "[encoded data removed]",
      "text/plain": [
       "<Figure size 432x288 with 1 Axes>"
      ]
     },
     "metadata": {
      "needs_background": "light"
     },
     "output_type": "display_data"
    }
   ],
   "source": [
    "sns.countplot(train['Event'])"
   ]
  },
  {
   "cell_type": "code",
   "execution_count": 38,
   "id": "b8f42ca5",
   "metadata": {},
   "outputs": [
    {
     "data": {
      "text/plain": [
       "5006"
      ]
     },
     "execution_count": 38,
     "metadata": {},
     "output_type": "execute_result"
    }
   ],
   "source": [
    "(train['Event']==1).sum()"
   ]
  },
  {
   "cell_type": "code",
   "execution_count": 39,
   "id": "f433048e",
   "metadata": {},
   "outputs": [
    {
     "data": {
      "text/plain": [
       "30834482"
      ]
     },
     "execution_count": 39,
     "metadata": {},
     "output_type": "execute_result"
    }
   ],
   "source": [
    "(train['Event']==0).sum()"
   ]
  },
  {
   "cell_type": "code",
   "execution_count": 40,
   "id": "7b3838c2",
   "metadata": {},
   "outputs": [],
   "source": [
    "train = train[train.Valid != False]"
   ]
  },
  {
   "cell_type": "code",
   "execution_count": 41,
   "id": "11a47374",
   "metadata": {},
   "outputs": [],
   "source": [
    "train = train[train.Task != False]"
   ]
  },
  {
   "cell_type": "code",
   "execution_count": 42,
   "id": "45eebdf0",
   "metadata": {},
   "outputs": [
    {
     "data": {
      "text/plain": [
       "Time               7517375\n",
       "AccV               7517375\n",
       "AccML              7517375\n",
       "AccAP              7517375\n",
       "StartHesitation    7517375\n",
       "Turn               7517375\n",
       "Walking            7517375\n",
       "Valid              7517375\n",
       "Task               7517375\n",
       "Id                 7517375\n",
       "Event              7517375\n",
       "dtype: int64"
      ]
     },
     "execution_count": 42,
     "metadata": {},
     "output_type": "execute_result"
    }
   ],
   "source": [
    "train.count()"
   ]
  },
  {
   "cell_type": "code",
   "execution_count": 43,
   "id": "93222602",
   "metadata": {},
   "outputs": [
    {
     "data": {
      "text/plain": [
       "4209"
      ]
     },
     "execution_count": 43,
     "metadata": {},
     "output_type": "execute_result"
    }
   ],
   "source": [
    "(train['Event']==1).sum()"
   ]
  },
  {
   "cell_type": "code",
   "execution_count": 44,
   "id": "a4bb2268",
   "metadata": {},
   "outputs": [
    {
     "data": {
      "text/plain": [
       "7513166"
      ]
     },
     "execution_count": 44,
     "metadata": {},
     "output_type": "execute_result"
    }
   ],
   "source": [
    "(train['Event']==0).sum()"
   ]
  },
  {
   "cell_type": "code",
   "execution_count": 45,
   "id": "7c573bc8",
   "metadata": {},
   "outputs": [
    {
     "data": {
      "text/html": [
       "<div>\n",
       "<style scoped>\n",
       "    .dataframe tbody tr th:only-of-type {\n",
       "        vertical-align: middle;\n",
       "    }\n",
       "\n",
       "    .dataframe tbody tr th {\n",
       "        vertical-align: top;\n",
       "    }\n",
       "\n",
       "    .dataframe thead th {\n",
       "        text-align: right;\n",
       "    }\n",
       "</style>\n",
       "<table border=\"1\" class=\"dataframe\">\n",
       "  <thead>\n",
       "    <tr style=\"text-align: right;\">\n",
       "      <th></th>\n",
       "      <th>Time</th>\n",
       "      <th>AccV</th>\n",
       "      <th>AccML</th>\n",
       "      <th>AccAP</th>\n",
       "      <th>StartHesitation</th>\n",
       "      <th>Turn</th>\n",
       "      <th>Walking</th>\n",
       "      <th>Valid</th>\n",
       "      <th>Task</th>\n",
       "      <th>Id</th>\n",
       "      <th>Event</th>\n",
       "    </tr>\n",
       "  </thead>\n",
       "  <tbody>\n",
       "    <tr>\n",
       "      <th>1000</th>\n",
       "      <td>-24</td>\n",
       "      <td>-0.970215</td>\n",
       "      <td>0.061615</td>\n",
       "      <td>-0.265625</td>\n",
       "      <td>0.0</td>\n",
       "      <td>0.0</td>\n",
       "      <td>0.0</td>\n",
       "      <td>True</td>\n",
       "      <td>True</td>\n",
       "      <td>train\\defog\\02ea782681</td>\n",
       "      <td>0.0</td>\n",
       "    </tr>\n",
       "    <tr>\n",
       "      <th>1001</th>\n",
       "      <td>-23</td>\n",
       "      <td>-0.984375</td>\n",
       "      <td>0.044495</td>\n",
       "      <td>-0.265625</td>\n",
       "      <td>0.0</td>\n",
       "      <td>0.0</td>\n",
       "      <td>0.0</td>\n",
       "      <td>True</td>\n",
       "      <td>True</td>\n",
       "      <td>train\\defog\\02ea782681</td>\n",
       "      <td>0.0</td>\n",
       "    </tr>\n",
       "    <tr>\n",
       "      <th>1002</th>\n",
       "      <td>-22</td>\n",
       "      <td>-0.984375</td>\n",
       "      <td>0.029022</td>\n",
       "      <td>-0.265625</td>\n",
       "      <td>0.0</td>\n",
       "      <td>0.0</td>\n",
       "      <td>0.0</td>\n",
       "      <td>True</td>\n",
       "      <td>True</td>\n",
       "      <td>train\\defog\\02ea782681</td>\n",
       "      <td>0.0</td>\n",
       "    </tr>\n",
       "    <tr>\n",
       "      <th>1003</th>\n",
       "      <td>-21</td>\n",
       "      <td>-0.984375</td>\n",
       "      <td>0.015625</td>\n",
       "      <td>-0.265625</td>\n",
       "      <td>0.0</td>\n",
       "      <td>0.0</td>\n",
       "      <td>0.0</td>\n",
       "      <td>True</td>\n",
       "      <td>True</td>\n",
       "      <td>train\\defog\\02ea782681</td>\n",
       "      <td>0.0</td>\n",
       "    </tr>\n",
       "    <tr>\n",
       "      <th>1004</th>\n",
       "      <td>-20</td>\n",
       "      <td>-0.984863</td>\n",
       "      <td>0.015327</td>\n",
       "      <td>-0.265625</td>\n",
       "      <td>0.0</td>\n",
       "      <td>0.0</td>\n",
       "      <td>0.0</td>\n",
       "      <td>True</td>\n",
       "      <td>True</td>\n",
       "      <td>train\\defog\\02ea782681</td>\n",
       "      <td>0.0</td>\n",
       "    </tr>\n",
       "  </tbody>\n",
       "</table>\n",
       "</div>"
      ],
      "text/plain": [
       "      Time      AccV     AccML     AccAP  StartHesitation  Turn  Walking  \\\n",
       "1000   -24 -0.970215  0.061615 -0.265625              0.0   0.0      0.0   \n",
       "1001   -23 -0.984375  0.044495 -0.265625              0.0   0.0      0.0   \n",
       "1002   -22 -0.984375  0.029022 -0.265625              0.0   0.0      0.0   \n",
       "1003   -21 -0.984375  0.015625 -0.265625              0.0   0.0      0.0   \n",
       "1004   -20 -0.984863  0.015327 -0.265625              0.0   0.0      0.0   \n",
       "\n",
       "     Valid  Task                      Id  Event  \n",
       "1000  True  True  train\\defog\\02ea782681    0.0  \n",
       "1001  True  True  train\\defog\\02ea782681    0.0  \n",
       "1002  True  True  train\\defog\\02ea782681    0.0  \n",
       "1003  True  True  train\\defog\\02ea782681    0.0  \n",
       "1004  True  True  train\\defog\\02ea782681    0.0  "
      ]
     },
     "execution_count": 45,
     "metadata": {},
     "output_type": "execute_result"
    }
   ],
   "source": [
    "train.head()"
   ]
  },
  {
   "cell_type": "code",
   "execution_count": 46,
   "id": "214107db",
   "metadata": {},
   "outputs": [
    {
     "name": "stderr",
     "output_type": "stream",
     "text": [
      "C:\\Users\\colli\\anaconda3\\lib\\site-packages\\seaborn\\_decorators.py:36: FutureWarning: Pass the following variable as a keyword arg: x. From version 0.12, the only valid positional argument will be `data`, and passing other arguments without an explicit keyword will result in an error or misinterpretation.\n",
      "  warnings.warn(\n"
     ]
    },
    {
     "data": {
      "text/plain": [
       "<AxesSubplot:xlabel='Turn', ylabel='count'>"
      ]
     },
     "execution_count": 46,
     "metadata": {},
     "output_type": "execute_result"
    },
    {
     "data": {
      "image/png": "[encoded data removed]",
      "text/plain": [
       "<Figure size 432x288 with 1 Axes>"
      ]
     },
     "metadata": {
      "needs_background": "light"
     },
     "output_type": "display_data"
    }
   ],
   "source": [
    "sns.countplot(train['Turn'])"
   ]
  },
  {
   "cell_type": "code",
   "execution_count": 47,
   "id": "5b7eb407",
   "metadata": {},
   "outputs": [
    {
     "name": "stderr",
     "output_type": "stream",
     "text": [
      "C:\\Users\\colli\\anaconda3\\lib\\site-packages\\seaborn\\_decorators.py:36: FutureWarning: Pass the following variable as a keyword arg: x. From version 0.12, the only valid positional argument will be `data`, and passing other arguments without an explicit keyword will result in an error or misinterpretation.\n",
      "  warnings.warn(\n"
     ]
    },
    {
     "data": {
      "text/plain": [
       "<AxesSubplot:xlabel='Walking', ylabel='count'>"
      ]
     },
     "execution_count": 47,
     "metadata": {},
     "output_type": "execute_result"
    },
    {
     "data": {
      "image/png": "[encoded data removed]",
      "text/plain": [
       "<Figure size 432x288 with 1 Axes>"
      ]
     },
     "metadata": {
      "needs_background": "light"
     },
     "output_type": "display_data"
    }
   ],
   "source": [
    "sns.countplot(train['Walking'])"
   ]
  },
  {
   "cell_type": "code",
   "execution_count": 48,
   "id": "d5c41ae5",
   "metadata": {},
   "outputs": [
    {
     "name": "stderr",
     "output_type": "stream",
     "text": [
      "C:\\Users\\colli\\anaconda3\\lib\\site-packages\\seaborn\\_decorators.py:36: FutureWarning: Pass the following variable as a keyword arg: x. From version 0.12, the only valid positional argument will be `data`, and passing other arguments without an explicit keyword will result in an error or misinterpretation.\n",
      "  warnings.warn(\n"
     ]
    },
    {
     "data": {
      "text/plain": [
       "<AxesSubplot:xlabel='StartHesitation', ylabel='count'>"
      ]
     },
     "execution_count": 48,
     "metadata": {},
     "output_type": "execute_result"
    },
    {
     "data": {
      "image/png": "[encoded data removed]",
      "text/plain": [
       "<Figure size 432x288 with 1 Axes>"
      ]
     },
     "metadata": {
      "needs_background": "light"
     },
     "output_type": "display_data"
    }
   ],
   "source": [
    "sns.countplot(train['StartHesitation'])"
   ]
  },
  {
   "cell_type": "code",
   "execution_count": 49,
   "id": "c5f5d692",
   "metadata": {},
   "outputs": [
    {
     "data": {
      "text/plain": [
       "88"
      ]
     },
     "execution_count": 49,
     "metadata": {},
     "output_type": "execute_result"
    }
   ],
   "source": [
    "(train['StartHesitation']==1).sum()"
   ]
  },
  {
   "cell_type": "code",
   "execution_count": 50,
   "id": "83b8244d",
   "metadata": {},
   "outputs": [],
   "source": [
    "train['Id'] = train['Id'].str[-10:]"
   ]
  },
  {
   "cell_type": "code",
   "execution_count": 51,
   "id": "6c6e511a",
   "metadata": {},
   "outputs": [
    {
     "data": {
      "text/html": [
       "<div>\n",
       "<style scoped>\n",
       "    .dataframe tbody tr th:only-of-type {\n",
       "        vertical-align: middle;\n",
       "    }\n",
       "\n",
       "    .dataframe tbody tr th {\n",
       "        vertical-align: top;\n",
       "    }\n",
       "\n",
       "    .dataframe thead th {\n",
       "        text-align: right;\n",
       "    }\n",
       "</style>\n",
       "<table border=\"1\" class=\"dataframe\">\n",
       "  <thead>\n",
       "    <tr style=\"text-align: right;\">\n",
       "      <th></th>\n",
       "      <th>Time</th>\n",
       "      <th>AccV</th>\n",
       "      <th>AccML</th>\n",
       "      <th>AccAP</th>\n",
       "      <th>StartHesitation</th>\n",
       "      <th>Turn</th>\n",
       "      <th>Walking</th>\n",
       "      <th>Valid</th>\n",
       "      <th>Task</th>\n",
       "      <th>Id</th>\n",
       "      <th>Event</th>\n",
       "    </tr>\n",
       "  </thead>\n",
       "  <tbody>\n",
       "    <tr>\n",
       "      <th>1000</th>\n",
       "      <td>-24</td>\n",
       "      <td>-0.970215</td>\n",
       "      <td>0.061615</td>\n",
       "      <td>-0.265625</td>\n",
       "      <td>0.0</td>\n",
       "      <td>0.0</td>\n",
       "      <td>0.0</td>\n",
       "      <td>True</td>\n",
       "      <td>True</td>\n",
       "      <td>02ea782681</td>\n",
       "      <td>0.0</td>\n",
       "    </tr>\n",
       "    <tr>\n",
       "      <th>1001</th>\n",
       "      <td>-23</td>\n",
       "      <td>-0.984375</td>\n",
       "      <td>0.044495</td>\n",
       "      <td>-0.265625</td>\n",
       "      <td>0.0</td>\n",
       "      <td>0.0</td>\n",
       "      <td>0.0</td>\n",
       "      <td>True</td>\n",
       "      <td>True</td>\n",
       "      <td>02ea782681</td>\n",
       "      <td>0.0</td>\n",
       "    </tr>\n",
       "    <tr>\n",
       "      <th>1002</th>\n",
       "      <td>-22</td>\n",
       "      <td>-0.984375</td>\n",
       "      <td>0.029022</td>\n",
       "      <td>-0.265625</td>\n",
       "      <td>0.0</td>\n",
       "      <td>0.0</td>\n",
       "      <td>0.0</td>\n",
       "      <td>True</td>\n",
       "      <td>True</td>\n",
       "      <td>02ea782681</td>\n",
       "      <td>0.0</td>\n",
       "    </tr>\n",
       "    <tr>\n",
       "      <th>1003</th>\n",
       "      <td>-21</td>\n",
       "      <td>-0.984375</td>\n",
       "      <td>0.015625</td>\n",
       "      <td>-0.265625</td>\n",
       "      <td>0.0</td>\n",
       "      <td>0.0</td>\n",
       "      <td>0.0</td>\n",
       "      <td>True</td>\n",
       "      <td>True</td>\n",
       "      <td>02ea782681</td>\n",
       "      <td>0.0</td>\n",
       "    </tr>\n",
       "    <tr>\n",
       "      <th>1004</th>\n",
       "      <td>-20</td>\n",
       "      <td>-0.984863</td>\n",
       "      <td>0.015327</td>\n",
       "      <td>-0.265625</td>\n",
       "      <td>0.0</td>\n",
       "      <td>0.0</td>\n",
       "      <td>0.0</td>\n",
       "      <td>True</td>\n",
       "      <td>True</td>\n",
       "      <td>02ea782681</td>\n",
       "      <td>0.0</td>\n",
       "    </tr>\n",
       "  </tbody>\n",
       "</table>\n",
       "</div>"
      ],
      "text/plain": [
       "      Time      AccV     AccML     AccAP  StartHesitation  Turn  Walking  \\\n",
       "1000   -24 -0.970215  0.061615 -0.265625              0.0   0.0      0.0   \n",
       "1001   -23 -0.984375  0.044495 -0.265625              0.0   0.0      0.0   \n",
       "1002   -22 -0.984375  0.029022 -0.265625              0.0   0.0      0.0   \n",
       "1003   -21 -0.984375  0.015625 -0.265625              0.0   0.0      0.0   \n",
       "1004   -20 -0.984863  0.015327 -0.265625              0.0   0.0      0.0   \n",
       "\n",
       "     Valid  Task          Id  Event  \n",
       "1000  True  True  02ea782681    0.0  \n",
       "1001  True  True  02ea782681    0.0  \n",
       "1002  True  True  02ea782681    0.0  \n",
       "1003  True  True  02ea782681    0.0  \n",
       "1004  True  True  02ea782681    0.0  "
      ]
     },
     "execution_count": 51,
     "metadata": {},
     "output_type": "execute_result"
    }
   ],
   "source": [
    "train.head()"
   ]
  },
  {
   "cell_type": "code",
   "execution_count": 52,
   "id": "af92ce9d",
   "metadata": {},
   "outputs": [],
   "source": [
    "join_df = pd.merge(defog, subjects, how='left', on='Subject').fillna(-1)"
   ]
  },
  {
   "cell_type": "code",
   "execution_count": 53,
   "id": "68516c55",
   "metadata": {},
   "outputs": [
    {
     "data": {
      "text/html": [
       "<div>\n",
       "<style scoped>\n",
       "    .dataframe tbody tr th:only-of-type {\n",
       "        vertical-align: middle;\n",
       "    }\n",
       "\n",
       "    .dataframe tbody tr th {\n",
       "        vertical-align: top;\n",
       "    }\n",
       "\n",
       "    .dataframe thead th {\n",
       "        text-align: right;\n",
       "    }\n",
       "</style>\n",
       "<table border=\"1\" class=\"dataframe\">\n",
       "  <thead>\n",
       "    <tr style=\"text-align: right;\">\n",
       "      <th></th>\n",
       "      <th>Id</th>\n",
       "      <th>Subject</th>\n",
       "      <th>Visit_x</th>\n",
       "      <th>Medication</th>\n",
       "      <th>Visit_y</th>\n",
       "      <th>Age</th>\n",
       "      <th>Sex</th>\n",
       "      <th>YearsSinceDx</th>\n",
       "      <th>UPDRSIII_On</th>\n",
       "      <th>UPDRSIII_Off</th>\n",
       "      <th>NFOGQ</th>\n",
       "    </tr>\n",
       "  </thead>\n",
       "  <tbody>\n",
       "    <tr>\n",
       "      <th>0</th>\n",
       "      <td>02ab235146</td>\n",
       "      <td>ab54e1</td>\n",
       "      <td>2</td>\n",
       "      <td>on</td>\n",
       "      <td>1.0</td>\n",
       "      <td>79</td>\n",
       "      <td>F</td>\n",
       "      <td>8.0</td>\n",
       "      <td>52.0</td>\n",
       "      <td>55.0</td>\n",
       "      <td>28</td>\n",
       "    </tr>\n",
       "    <tr>\n",
       "      <th>1</th>\n",
       "      <td>02ab235146</td>\n",
       "      <td>ab54e1</td>\n",
       "      <td>2</td>\n",
       "      <td>on</td>\n",
       "      <td>2.0</td>\n",
       "      <td>79</td>\n",
       "      <td>F</td>\n",
       "      <td>8.0</td>\n",
       "      <td>38.0</td>\n",
       "      <td>64.0</td>\n",
       "      <td>28</td>\n",
       "    </tr>\n",
       "    <tr>\n",
       "      <th>2</th>\n",
       "      <td>02ea782681</td>\n",
       "      <td>bf608b</td>\n",
       "      <td>2</td>\n",
       "      <td>on</td>\n",
       "      <td>1.0</td>\n",
       "      <td>67</td>\n",
       "      <td>M</td>\n",
       "      <td>7.0</td>\n",
       "      <td>15.0</td>\n",
       "      <td>48.0</td>\n",
       "      <td>23</td>\n",
       "    </tr>\n",
       "    <tr>\n",
       "      <th>3</th>\n",
       "      <td>02ea782681</td>\n",
       "      <td>bf608b</td>\n",
       "      <td>2</td>\n",
       "      <td>on</td>\n",
       "      <td>2.0</td>\n",
       "      <td>67</td>\n",
       "      <td>M</td>\n",
       "      <td>7.0</td>\n",
       "      <td>14.0</td>\n",
       "      <td>57.0</td>\n",
       "      <td>19</td>\n",
       "    </tr>\n",
       "    <tr>\n",
       "      <th>4</th>\n",
       "      <td>06414383cf</td>\n",
       "      <td>c0b71e</td>\n",
       "      <td>2</td>\n",
       "      <td>off</td>\n",
       "      <td>1.0</td>\n",
       "      <td>61</td>\n",
       "      <td>F</td>\n",
       "      <td>7.0</td>\n",
       "      <td>45.0</td>\n",
       "      <td>52.0</td>\n",
       "      <td>22</td>\n",
       "    </tr>\n",
       "  </tbody>\n",
       "</table>\n",
       "</div>"
      ],
      "text/plain": [
       "           Id Subject  Visit_x Medication  Visit_y  Age Sex  YearsSinceDx  \\\n",
       "0  02ab235146  ab54e1        2         on      1.0   79   F           8.0   \n",
       "1  02ab235146  ab54e1        2         on      2.0   79   F           8.0   \n",
       "2  02ea782681  bf608b        2         on      1.0   67   M           7.0   \n",
       "3  02ea782681  bf608b        2         on      2.0   67   M           7.0   \n",
       "4  06414383cf  c0b71e        2        off      1.0   61   F           7.0   \n",
       "\n",
       "   UPDRSIII_On  UPDRSIII_Off  NFOGQ  \n",
       "0         52.0          55.0     28  \n",
       "1         38.0          64.0     28  \n",
       "2         15.0          48.0     23  \n",
       "3         14.0          57.0     19  \n",
       "4         45.0          52.0     22  "
      ]
     },
     "execution_count": 53,
     "metadata": {},
     "output_type": "execute_result"
    }
   ],
   "source": [
    "join_df.head()"
   ]
  },
  {
   "cell_type": "code",
   "execution_count": 54,
   "id": "797f1850",
   "metadata": {},
   "outputs": [],
   "source": [
    "join_df2 = pd.merge(meta, subjects, how='left', on='Subject').fillna(-1)"
   ]
  },
  {
   "cell_type": "code",
   "execution_count": 55,
   "id": "c0934fcf",
   "metadata": {},
   "outputs": [
    {
     "data": {
      "text/html": [
       "<div>\n",
       "<style scoped>\n",
       "    .dataframe tbody tr th:only-of-type {\n",
       "        vertical-align: middle;\n",
       "    }\n",
       "\n",
       "    .dataframe tbody tr th {\n",
       "        vertical-align: top;\n",
       "    }\n",
       "\n",
       "    .dataframe thead th {\n",
       "        text-align: right;\n",
       "    }\n",
       "</style>\n",
       "<table border=\"1\" class=\"dataframe\">\n",
       "  <thead>\n",
       "    <tr style=\"text-align: right;\">\n",
       "      <th></th>\n",
       "      <th>Id</th>\n",
       "      <th>Subject</th>\n",
       "      <th>Visit_x</th>\n",
       "      <th>Test</th>\n",
       "      <th>Medication</th>\n",
       "      <th>Visit_y</th>\n",
       "      <th>Age</th>\n",
       "      <th>Sex</th>\n",
       "      <th>YearsSinceDx</th>\n",
       "      <th>UPDRSIII_On</th>\n",
       "      <th>UPDRSIII_Off</th>\n",
       "      <th>NFOGQ</th>\n",
       "    </tr>\n",
       "  </thead>\n",
       "  <tbody>\n",
       "    <tr>\n",
       "      <th>0</th>\n",
       "      <td>003f117e14</td>\n",
       "      <td>13abfd</td>\n",
       "      <td>3</td>\n",
       "      <td>2</td>\n",
       "      <td>on</td>\n",
       "      <td>-1.0</td>\n",
       "      <td>68</td>\n",
       "      <td>F</td>\n",
       "      <td>9.0</td>\n",
       "      <td>17.0</td>\n",
       "      <td>15.0</td>\n",
       "      <td>15</td>\n",
       "    </tr>\n",
       "    <tr>\n",
       "      <th>1</th>\n",
       "      <td>009ee11563</td>\n",
       "      <td>d81e3a</td>\n",
       "      <td>4</td>\n",
       "      <td>2</td>\n",
       "      <td>on</td>\n",
       "      <td>-1.0</td>\n",
       "      <td>71</td>\n",
       "      <td>M</td>\n",
       "      <td>10.0</td>\n",
       "      <td>42.0</td>\n",
       "      <td>-1.0</td>\n",
       "      <td>24</td>\n",
       "    </tr>\n",
       "    <tr>\n",
       "      <th>2</th>\n",
       "      <td>011322847a</td>\n",
       "      <td>203e85</td>\n",
       "      <td>2</td>\n",
       "      <td>2</td>\n",
       "      <td>on</td>\n",
       "      <td>-1.0</td>\n",
       "      <td>67</td>\n",
       "      <td>M</td>\n",
       "      <td>12.0</td>\n",
       "      <td>27.0</td>\n",
       "      <td>28.0</td>\n",
       "      <td>19</td>\n",
       "    </tr>\n",
       "    <tr>\n",
       "      <th>3</th>\n",
       "      <td>01d0fe7266</td>\n",
       "      <td>203e85</td>\n",
       "      <td>2</td>\n",
       "      <td>1</td>\n",
       "      <td>off</td>\n",
       "      <td>-1.0</td>\n",
       "      <td>67</td>\n",
       "      <td>M</td>\n",
       "      <td>12.0</td>\n",
       "      <td>27.0</td>\n",
       "      <td>28.0</td>\n",
       "      <td>19</td>\n",
       "    </tr>\n",
       "    <tr>\n",
       "      <th>4</th>\n",
       "      <td>024418ba39</td>\n",
       "      <td>cecfb8</td>\n",
       "      <td>19</td>\n",
       "      <td>3</td>\n",
       "      <td>on</td>\n",
       "      <td>-1.0</td>\n",
       "      <td>60</td>\n",
       "      <td>F</td>\n",
       "      <td>7.0</td>\n",
       "      <td>30.0</td>\n",
       "      <td>-1.0</td>\n",
       "      <td>19</td>\n",
       "    </tr>\n",
       "  </tbody>\n",
       "</table>\n",
       "</div>"
      ],
      "text/plain": [
       "           Id Subject  Visit_x  Test Medication  Visit_y  Age Sex  \\\n",
       "0  003f117e14  13abfd        3     2         on     -1.0   68   F   \n",
       "1  009ee11563  d81e3a        4     2         on     -1.0   71   M   \n",
       "2  011322847a  203e85        2     2         on     -1.0   67   M   \n",
       "3  01d0fe7266  203e85        2     1        off     -1.0   67   M   \n",
       "4  024418ba39  cecfb8       19     3         on     -1.0   60   F   \n",
       "\n",
       "   YearsSinceDx  UPDRSIII_On  UPDRSIII_Off  NFOGQ  \n",
       "0           9.0         17.0          15.0     15  \n",
       "1          10.0         42.0          -1.0     24  \n",
       "2          12.0         27.0          28.0     19  \n",
       "3          12.0         27.0          28.0     19  \n",
       "4           7.0         30.0          -1.0     19  "
      ]
     },
     "execution_count": 55,
     "metadata": {},
     "output_type": "execute_result"
    }
   ],
   "source": [
    "join_df2.head()"
   ]
  },
  {
   "cell_type": "code",
   "execution_count": 56,
   "id": "00d10d84",
   "metadata": {},
   "outputs": [
    {
     "name": "stdout",
     "output_type": "stream",
     "text": [
      "<class 'pandas.core.frame.DataFrame'>\n",
      "Int64Index: 250 entries, 0 to 249\n",
      "Data columns (total 11 columns):\n",
      " #   Column        Non-Null Count  Dtype  \n",
      "---  ------        --------------  -----  \n",
      " 0   Id            250 non-null    object \n",
      " 1   Subject       250 non-null    object \n",
      " 2   Visit_x       250 non-null    int64  \n",
      " 3   Medication    250 non-null    object \n",
      " 4   Visit_y       250 non-null    float64\n",
      " 5   Age           250 non-null    int64  \n",
      " 6   Sex           250 non-null    object \n",
      " 7   YearsSinceDx  250 non-null    float64\n",
      " 8   UPDRSIII_On   250 non-null    float64\n",
      " 9   UPDRSIII_Off  250 non-null    float64\n",
      " 10  NFOGQ         250 non-null    int64  \n",
      "dtypes: float64(4), int64(3), object(4)\n",
      "memory usage: 23.4+ KB\n"
     ]
    }
   ],
   "source": [
    "join_df.info()"
   ]
  },
  {
   "cell_type": "code",
   "execution_count": 57,
   "id": "882ffecd",
   "metadata": {},
   "outputs": [],
   "source": [
    "cols1 = ['Visit_x', 'YearsSinceDx','NFOGQ']\n",
    "join_df[cols1] = join_df[cols1].astype('int8')"
   ]
  },
  {
   "cell_type": "code",
   "execution_count": 58,
   "id": "85fb42fe",
   "metadata": {},
   "outputs": [],
   "source": [
    "cols2 = ['Visit_y', 'YearsSinceDx','UPDRSIII_On','UPDRSIII_Off']\n",
    "join_df[cols2] = join_df[cols2].astype('float16')"
   ]
  },
  {
   "cell_type": "code",
   "execution_count": 59,
   "id": "8b068802",
   "metadata": {},
   "outputs": [],
   "source": [
    "join_df2[cols1] = join_df2[cols1].astype('int8')\n",
    "join_df2[cols2] = join_df2[cols2].astype('float16')"
   ]
  },
  {
   "cell_type": "code",
   "execution_count": 60,
   "id": "a535fef1",
   "metadata": {},
   "outputs": [
    {
     "name": "stdout",
     "output_type": "stream",
     "text": [
      "<class 'pandas.core.frame.DataFrame'>\n",
      "Int64Index: 250 entries, 0 to 249\n",
      "Data columns (total 11 columns):\n",
      " #   Column        Non-Null Count  Dtype  \n",
      "---  ------        --------------  -----  \n",
      " 0   Id            250 non-null    object \n",
      " 1   Subject       250 non-null    object \n",
      " 2   Visit_x       250 non-null    int8   \n",
      " 3   Medication    250 non-null    object \n",
      " 4   Visit_y       250 non-null    float16\n",
      " 5   Age           250 non-null    int64  \n",
      " 6   Sex           250 non-null    object \n",
      " 7   YearsSinceDx  250 non-null    float16\n",
      " 8   UPDRSIII_On   250 non-null    float16\n",
      " 9   UPDRSIII_Off  250 non-null    float16\n",
      " 10  NFOGQ         250 non-null    int8   \n",
      "dtypes: float16(4), int64(1), int8(2), object(4)\n",
      "memory usage: 14.2+ KB\n"
     ]
    }
   ],
   "source": [
    "join_df.info()"
   ]
  },
  {
   "cell_type": "code",
   "execution_count": 61,
   "id": "592383b9",
   "metadata": {},
   "outputs": [
    {
     "data": {
      "text/html": [
       "<div>\n",
       "<style scoped>\n",
       "    .dataframe tbody tr th:only-of-type {\n",
       "        vertical-align: middle;\n",
       "    }\n",
       "\n",
       "    .dataframe tbody tr th {\n",
       "        vertical-align: top;\n",
       "    }\n",
       "\n",
       "    .dataframe thead th {\n",
       "        text-align: right;\n",
       "    }\n",
       "</style>\n",
       "<table border=\"1\" class=\"dataframe\">\n",
       "  <thead>\n",
       "    <tr style=\"text-align: right;\">\n",
       "      <th></th>\n",
       "      <th>Id</th>\n",
       "      <th>Init</th>\n",
       "      <th>Completion</th>\n",
       "      <th>Type</th>\n",
       "      <th>Kinetic</th>\n",
       "    </tr>\n",
       "  </thead>\n",
       "  <tbody>\n",
       "    <tr>\n",
       "      <th>0</th>\n",
       "      <td>003f117e14</td>\n",
       "      <td>8.61312</td>\n",
       "      <td>14.7731</td>\n",
       "      <td>Turn</td>\n",
       "      <td>1.0</td>\n",
       "    </tr>\n",
       "    <tr>\n",
       "      <th>1</th>\n",
       "      <td>009ee11563</td>\n",
       "      <td>11.38470</td>\n",
       "      <td>41.1847</td>\n",
       "      <td>Turn</td>\n",
       "      <td>1.0</td>\n",
       "    </tr>\n",
       "    <tr>\n",
       "      <th>2</th>\n",
       "      <td>009ee11563</td>\n",
       "      <td>54.66470</td>\n",
       "      <td>58.7847</td>\n",
       "      <td>Turn</td>\n",
       "      <td>1.0</td>\n",
       "    </tr>\n",
       "    <tr>\n",
       "      <th>3</th>\n",
       "      <td>011322847a</td>\n",
       "      <td>28.09660</td>\n",
       "      <td>30.2966</td>\n",
       "      <td>Turn</td>\n",
       "      <td>1.0</td>\n",
       "    </tr>\n",
       "    <tr>\n",
       "      <th>4</th>\n",
       "      <td>01d0fe7266</td>\n",
       "      <td>30.31840</td>\n",
       "      <td>31.8784</td>\n",
       "      <td>Turn</td>\n",
       "      <td>1.0</td>\n",
       "    </tr>\n",
       "  </tbody>\n",
       "</table>\n",
       "</div>"
      ],
      "text/plain": [
       "           Id      Init  Completion  Type  Kinetic\n",
       "0  003f117e14   8.61312     14.7731  Turn      1.0\n",
       "1  009ee11563  11.38470     41.1847  Turn      1.0\n",
       "2  009ee11563  54.66470     58.7847  Turn      1.0\n",
       "3  011322847a  28.09660     30.2966  Turn      1.0\n",
       "4  01d0fe7266  30.31840     31.8784  Turn      1.0"
      ]
     },
     "execution_count": 61,
     "metadata": {},
     "output_type": "execute_result"
    }
   ],
   "source": [
    "events.head()"
   ]
  },
  {
   "cell_type": "code",
   "execution_count": 62,
   "id": "a9052e57",
   "metadata": {},
   "outputs": [],
   "source": [
    "join_df3 = pd.merge(join_df, events, how='left', on='Id').fillna(-1)"
   ]
  },
  {
   "cell_type": "code",
   "execution_count": 63,
   "id": "9c215222",
   "metadata": {},
   "outputs": [
    {
     "data": {
      "text/html": [
       "<div>\n",
       "<style scoped>\n",
       "    .dataframe tbody tr th:only-of-type {\n",
       "        vertical-align: middle;\n",
       "    }\n",
       "\n",
       "    .dataframe tbody tr th {\n",
       "        vertical-align: top;\n",
       "    }\n",
       "\n",
       "    .dataframe thead th {\n",
       "        text-align: right;\n",
       "    }\n",
       "</style>\n",
       "<table border=\"1\" class=\"dataframe\">\n",
       "  <thead>\n",
       "    <tr style=\"text-align: right;\">\n",
       "      <th></th>\n",
       "      <th>Id</th>\n",
       "      <th>Subject</th>\n",
       "      <th>Visit_x</th>\n",
       "      <th>Medication</th>\n",
       "      <th>Visit_y</th>\n",
       "      <th>Age</th>\n",
       "      <th>Sex</th>\n",
       "      <th>YearsSinceDx</th>\n",
       "      <th>UPDRSIII_On</th>\n",
       "      <th>UPDRSIII_Off</th>\n",
       "      <th>NFOGQ</th>\n",
       "      <th>Init</th>\n",
       "      <th>Completion</th>\n",
       "      <th>Type</th>\n",
       "      <th>Kinetic</th>\n",
       "    </tr>\n",
       "  </thead>\n",
       "  <tbody>\n",
       "    <tr>\n",
       "      <th>0</th>\n",
       "      <td>02ab235146</td>\n",
       "      <td>ab54e1</td>\n",
       "      <td>2</td>\n",
       "      <td>on</td>\n",
       "      <td>1.0</td>\n",
       "      <td>79</td>\n",
       "      <td>F</td>\n",
       "      <td>8.0</td>\n",
       "      <td>52.0</td>\n",
       "      <td>55.0</td>\n",
       "      <td>28</td>\n",
       "      <td>1969.173</td>\n",
       "      <td>1972.535</td>\n",
       "      <td>-1</td>\n",
       "      <td>-1.0</td>\n",
       "    </tr>\n",
       "    <tr>\n",
       "      <th>1</th>\n",
       "      <td>02ab235146</td>\n",
       "      <td>ab54e1</td>\n",
       "      <td>2</td>\n",
       "      <td>on</td>\n",
       "      <td>1.0</td>\n",
       "      <td>79</td>\n",
       "      <td>F</td>\n",
       "      <td>8.0</td>\n",
       "      <td>52.0</td>\n",
       "      <td>55.0</td>\n",
       "      <td>28</td>\n",
       "      <td>2078.982</td>\n",
       "      <td>2080.524</td>\n",
       "      <td>-1</td>\n",
       "      <td>-1.0</td>\n",
       "    </tr>\n",
       "    <tr>\n",
       "      <th>2</th>\n",
       "      <td>02ab235146</td>\n",
       "      <td>ab54e1</td>\n",
       "      <td>2</td>\n",
       "      <td>on</td>\n",
       "      <td>1.0</td>\n",
       "      <td>79</td>\n",
       "      <td>F</td>\n",
       "      <td>8.0</td>\n",
       "      <td>52.0</td>\n",
       "      <td>55.0</td>\n",
       "      <td>28</td>\n",
       "      <td>2290.606</td>\n",
       "      <td>2291.952</td>\n",
       "      <td>-1</td>\n",
       "      <td>-1.0</td>\n",
       "    </tr>\n",
       "    <tr>\n",
       "      <th>3</th>\n",
       "      <td>02ab235146</td>\n",
       "      <td>ab54e1</td>\n",
       "      <td>2</td>\n",
       "      <td>on</td>\n",
       "      <td>1.0</td>\n",
       "      <td>79</td>\n",
       "      <td>F</td>\n",
       "      <td>8.0</td>\n",
       "      <td>52.0</td>\n",
       "      <td>55.0</td>\n",
       "      <td>28</td>\n",
       "      <td>2704.292</td>\n",
       "      <td>2704.770</td>\n",
       "      <td>-1</td>\n",
       "      <td>-1.0</td>\n",
       "    </tr>\n",
       "    <tr>\n",
       "      <th>4</th>\n",
       "      <td>02ab235146</td>\n",
       "      <td>ab54e1</td>\n",
       "      <td>2</td>\n",
       "      <td>on</td>\n",
       "      <td>1.0</td>\n",
       "      <td>79</td>\n",
       "      <td>F</td>\n",
       "      <td>8.0</td>\n",
       "      <td>52.0</td>\n",
       "      <td>55.0</td>\n",
       "      <td>28</td>\n",
       "      <td>2785.534</td>\n",
       "      <td>2785.774</td>\n",
       "      <td>-1</td>\n",
       "      <td>-1.0</td>\n",
       "    </tr>\n",
       "  </tbody>\n",
       "</table>\n",
       "</div>"
      ],
      "text/plain": [
       "           Id Subject  Visit_x Medication  Visit_y  Age Sex  YearsSinceDx  \\\n",
       "0  02ab235146  ab54e1        2         on      1.0   79   F           8.0   \n",
       "1  02ab235146  ab54e1        2         on      1.0   79   F           8.0   \n",
       "2  02ab235146  ab54e1        2         on      1.0   79   F           8.0   \n",
       "3  02ab235146  ab54e1        2         on      1.0   79   F           8.0   \n",
       "4  02ab235146  ab54e1        2         on      1.0   79   F           8.0   \n",
       "\n",
       "   UPDRSIII_On  UPDRSIII_Off  NFOGQ      Init  Completion Type  Kinetic  \n",
       "0         52.0          55.0     28  1969.173    1972.535   -1     -1.0  \n",
       "1         52.0          55.0     28  2078.982    2080.524   -1     -1.0  \n",
       "2         52.0          55.0     28  2290.606    2291.952   -1     -1.0  \n",
       "3         52.0          55.0     28  2704.292    2704.770   -1     -1.0  \n",
       "4         52.0          55.0     28  2785.534    2785.774   -1     -1.0  "
      ]
     },
     "execution_count": 63,
     "metadata": {},
     "output_type": "execute_result"
    }
   ],
   "source": [
    "join_df3.head()"
   ]
  },
  {
   "cell_type": "code",
   "execution_count": 64,
   "id": "3bcdd993",
   "metadata": {},
   "outputs": [],
   "source": [
    "join_df4 = pd.merge(join_df2, events, how='left', on='Id').fillna(-1)"
   ]
  },
  {
   "cell_type": "code",
   "execution_count": 65,
   "id": "30eca218",
   "metadata": {
    "scrolled": true
   },
   "outputs": [
    {
     "name": "stdout",
     "output_type": "stream",
     "text": [
      "<class 'pandas.core.frame.DataFrame'>\n",
      "Int64Index: 1627 entries, 0 to 1626\n",
      "Data columns (total 16 columns):\n",
      " #   Column        Non-Null Count  Dtype  \n",
      "---  ------        --------------  -----  \n",
      " 0   Id            1627 non-null   object \n",
      " 1   Subject       1627 non-null   object \n",
      " 2   Visit_x       1627 non-null   int8   \n",
      " 3   Test          1627 non-null   int64  \n",
      " 4   Medication    1627 non-null   object \n",
      " 5   Visit_y       1627 non-null   float16\n",
      " 6   Age           1627 non-null   int64  \n",
      " 7   Sex           1627 non-null   object \n",
      " 8   YearsSinceDx  1627 non-null   float16\n",
      " 9   UPDRSIII_On   1627 non-null   float16\n",
      " 10  UPDRSIII_Off  1627 non-null   float16\n",
      " 11  NFOGQ         1627 non-null   int8   \n",
      " 12  Init          1627 non-null   float64\n",
      " 13  Completion    1627 non-null   float64\n",
      " 14  Type          1627 non-null   object \n",
      " 15  Kinetic       1627 non-null   float64\n",
      "dtypes: float16(4), float64(3), int64(2), int8(2), object(5)\n",
      "memory usage: 155.7+ KB\n"
     ]
    }
   ],
   "source": [
    "join_df4.info()"
   ]
  },
  {
   "cell_type": "code",
   "execution_count": 66,
   "id": "b59a29f5",
   "metadata": {},
   "outputs": [],
   "source": [
    "join_df3 = join_df3.drop(join_df3['Visit_y'])"
   ]
  },
  {
   "cell_type": "code",
   "execution_count": 67,
   "id": "e1dd3fe1",
   "metadata": {
    "scrolled": true
   },
   "outputs": [
    {
     "data": {
      "text/html": [
       "<div>\n",
       "<style scoped>\n",
       "    .dataframe tbody tr th:only-of-type {\n",
       "        vertical-align: middle;\n",
       "    }\n",
       "\n",
       "    .dataframe tbody tr th {\n",
       "        vertical-align: top;\n",
       "    }\n",
       "\n",
       "    .dataframe thead th {\n",
       "        text-align: right;\n",
       "    }\n",
       "</style>\n",
       "<table border=\"1\" class=\"dataframe\">\n",
       "  <thead>\n",
       "    <tr style=\"text-align: right;\">\n",
       "      <th></th>\n",
       "      <th>Id</th>\n",
       "      <th>Subject</th>\n",
       "      <th>Visit_x</th>\n",
       "      <th>Medication</th>\n",
       "      <th>Visit_y</th>\n",
       "      <th>Age</th>\n",
       "      <th>Sex</th>\n",
       "      <th>YearsSinceDx</th>\n",
       "      <th>UPDRSIII_On</th>\n",
       "      <th>UPDRSIII_Off</th>\n",
       "      <th>NFOGQ</th>\n",
       "      <th>Init</th>\n",
       "      <th>Completion</th>\n",
       "      <th>Type</th>\n",
       "      <th>Kinetic</th>\n",
       "    </tr>\n",
       "  </thead>\n",
       "  <tbody>\n",
       "    <tr>\n",
       "      <th>0</th>\n",
       "      <td>02ab235146</td>\n",
       "      <td>ab54e1</td>\n",
       "      <td>2</td>\n",
       "      <td>on</td>\n",
       "      <td>1.0</td>\n",
       "      <td>79</td>\n",
       "      <td>F</td>\n",
       "      <td>8.0</td>\n",
       "      <td>52.0</td>\n",
       "      <td>55.0</td>\n",
       "      <td>28</td>\n",
       "      <td>1969.173</td>\n",
       "      <td>1972.535</td>\n",
       "      <td>-1</td>\n",
       "      <td>-1.0</td>\n",
       "    </tr>\n",
       "    <tr>\n",
       "      <th>3</th>\n",
       "      <td>02ab235146</td>\n",
       "      <td>ab54e1</td>\n",
       "      <td>2</td>\n",
       "      <td>on</td>\n",
       "      <td>1.0</td>\n",
       "      <td>79</td>\n",
       "      <td>F</td>\n",
       "      <td>8.0</td>\n",
       "      <td>52.0</td>\n",
       "      <td>55.0</td>\n",
       "      <td>28</td>\n",
       "      <td>2704.292</td>\n",
       "      <td>2704.770</td>\n",
       "      <td>-1</td>\n",
       "      <td>-1.0</td>\n",
       "    </tr>\n",
       "    <tr>\n",
       "      <th>4</th>\n",
       "      <td>02ab235146</td>\n",
       "      <td>ab54e1</td>\n",
       "      <td>2</td>\n",
       "      <td>on</td>\n",
       "      <td>1.0</td>\n",
       "      <td>79</td>\n",
       "      <td>F</td>\n",
       "      <td>8.0</td>\n",
       "      <td>52.0</td>\n",
       "      <td>55.0</td>\n",
       "      <td>28</td>\n",
       "      <td>2785.534</td>\n",
       "      <td>2785.774</td>\n",
       "      <td>-1</td>\n",
       "      <td>-1.0</td>\n",
       "    </tr>\n",
       "    <tr>\n",
       "      <th>5</th>\n",
       "      <td>02ab235146</td>\n",
       "      <td>ab54e1</td>\n",
       "      <td>2</td>\n",
       "      <td>on</td>\n",
       "      <td>1.0</td>\n",
       "      <td>79</td>\n",
       "      <td>F</td>\n",
       "      <td>8.0</td>\n",
       "      <td>52.0</td>\n",
       "      <td>55.0</td>\n",
       "      <td>28</td>\n",
       "      <td>2785.786</td>\n",
       "      <td>2786.344</td>\n",
       "      <td>-1</td>\n",
       "      <td>-1.0</td>\n",
       "    </tr>\n",
       "    <tr>\n",
       "      <th>6</th>\n",
       "      <td>02ab235146</td>\n",
       "      <td>ab54e1</td>\n",
       "      <td>2</td>\n",
       "      <td>on</td>\n",
       "      <td>1.0</td>\n",
       "      <td>79</td>\n",
       "      <td>F</td>\n",
       "      <td>8.0</td>\n",
       "      <td>52.0</td>\n",
       "      <td>55.0</td>\n",
       "      <td>28</td>\n",
       "      <td>2827.264</td>\n",
       "      <td>2829.428</td>\n",
       "      <td>-1</td>\n",
       "      <td>-1.0</td>\n",
       "    </tr>\n",
       "  </tbody>\n",
       "</table>\n",
       "</div>"
      ],
      "text/plain": [
       "           Id Subject  Visit_x Medication  Visit_y  Age Sex  YearsSinceDx  \\\n",
       "0  02ab235146  ab54e1        2         on      1.0   79   F           8.0   \n",
       "3  02ab235146  ab54e1        2         on      1.0   79   F           8.0   \n",
       "4  02ab235146  ab54e1        2         on      1.0   79   F           8.0   \n",
       "5  02ab235146  ab54e1        2         on      1.0   79   F           8.0   \n",
       "6  02ab235146  ab54e1        2         on      1.0   79   F           8.0   \n",
       "\n",
       "   UPDRSIII_On  UPDRSIII_Off  NFOGQ      Init  Completion Type  Kinetic  \n",
       "0         52.0          55.0     28  1969.173    1972.535   -1     -1.0  \n",
       "3         52.0          55.0     28  2704.292    2704.770   -1     -1.0  \n",
       "4         52.0          55.0     28  2785.534    2785.774   -1     -1.0  \n",
       "5         52.0          55.0     28  2785.786    2786.344   -1     -1.0  \n",
       "6         52.0          55.0     28  2827.264    2829.428   -1     -1.0  "
      ]
     },
     "execution_count": 67,
     "metadata": {},
     "output_type": "execute_result"
    }
   ],
   "source": [
    "join_df3.head()"
   ]
  },
  {
   "cell_type": "code",
   "execution_count": 68,
   "id": "3bde4945",
   "metadata": {},
   "outputs": [],
   "source": [
    "column_list = ['Id','Subject','Visit_x','Medication','Age','Sex','YearsSinceDx','UPDRSIII_On','UPDRSIII_Off','NFOGQ','Init','Completion','Type','Kinetic']"
   ]
  },
  {
   "cell_type": "code",
   "execution_count": 69,
   "id": "279baba6",
   "metadata": {},
   "outputs": [],
   "source": [
    "join_df4 = join_df4[column_list]"
   ]
  },
  {
   "cell_type": "code",
   "execution_count": 70,
   "id": "928ff27c",
   "metadata": {},
   "outputs": [
    {
     "data": {
      "text/html": [
       "<div>\n",
       "<style scoped>\n",
       "    .dataframe tbody tr th:only-of-type {\n",
       "        vertical-align: middle;\n",
       "    }\n",
       "\n",
       "    .dataframe tbody tr th {\n",
       "        vertical-align: top;\n",
       "    }\n",
       "\n",
       "    .dataframe thead th {\n",
       "        text-align: right;\n",
       "    }\n",
       "</style>\n",
       "<table border=\"1\" class=\"dataframe\">\n",
       "  <thead>\n",
       "    <tr style=\"text-align: right;\">\n",
       "      <th></th>\n",
       "      <th>Id</th>\n",
       "      <th>Subject</th>\n",
       "      <th>Visit_x</th>\n",
       "      <th>Medication</th>\n",
       "      <th>Age</th>\n",
       "      <th>Sex</th>\n",
       "      <th>YearsSinceDx</th>\n",
       "      <th>UPDRSIII_On</th>\n",
       "      <th>UPDRSIII_Off</th>\n",
       "      <th>NFOGQ</th>\n",
       "      <th>Init</th>\n",
       "      <th>Completion</th>\n",
       "      <th>Type</th>\n",
       "      <th>Kinetic</th>\n",
       "    </tr>\n",
       "  </thead>\n",
       "  <tbody>\n",
       "    <tr>\n",
       "      <th>0</th>\n",
       "      <td>003f117e14</td>\n",
       "      <td>13abfd</td>\n",
       "      <td>3</td>\n",
       "      <td>on</td>\n",
       "      <td>68</td>\n",
       "      <td>F</td>\n",
       "      <td>9.0</td>\n",
       "      <td>17.0</td>\n",
       "      <td>15.0</td>\n",
       "      <td>15</td>\n",
       "      <td>8.61312</td>\n",
       "      <td>14.7731</td>\n",
       "      <td>Turn</td>\n",
       "      <td>1.0</td>\n",
       "    </tr>\n",
       "    <tr>\n",
       "      <th>1</th>\n",
       "      <td>009ee11563</td>\n",
       "      <td>d81e3a</td>\n",
       "      <td>4</td>\n",
       "      <td>on</td>\n",
       "      <td>71</td>\n",
       "      <td>M</td>\n",
       "      <td>10.0</td>\n",
       "      <td>42.0</td>\n",
       "      <td>-1.0</td>\n",
       "      <td>24</td>\n",
       "      <td>11.38470</td>\n",
       "      <td>41.1847</td>\n",
       "      <td>Turn</td>\n",
       "      <td>1.0</td>\n",
       "    </tr>\n",
       "    <tr>\n",
       "      <th>2</th>\n",
       "      <td>009ee11563</td>\n",
       "      <td>d81e3a</td>\n",
       "      <td>4</td>\n",
       "      <td>on</td>\n",
       "      <td>71</td>\n",
       "      <td>M</td>\n",
       "      <td>10.0</td>\n",
       "      <td>42.0</td>\n",
       "      <td>-1.0</td>\n",
       "      <td>24</td>\n",
       "      <td>54.66470</td>\n",
       "      <td>58.7847</td>\n",
       "      <td>Turn</td>\n",
       "      <td>1.0</td>\n",
       "    </tr>\n",
       "    <tr>\n",
       "      <th>3</th>\n",
       "      <td>011322847a</td>\n",
       "      <td>203e85</td>\n",
       "      <td>2</td>\n",
       "      <td>on</td>\n",
       "      <td>67</td>\n",
       "      <td>M</td>\n",
       "      <td>12.0</td>\n",
       "      <td>27.0</td>\n",
       "      <td>28.0</td>\n",
       "      <td>19</td>\n",
       "      <td>28.09660</td>\n",
       "      <td>30.2966</td>\n",
       "      <td>Turn</td>\n",
       "      <td>1.0</td>\n",
       "    </tr>\n",
       "    <tr>\n",
       "      <th>4</th>\n",
       "      <td>01d0fe7266</td>\n",
       "      <td>203e85</td>\n",
       "      <td>2</td>\n",
       "      <td>off</td>\n",
       "      <td>67</td>\n",
       "      <td>M</td>\n",
       "      <td>12.0</td>\n",
       "      <td>27.0</td>\n",
       "      <td>28.0</td>\n",
       "      <td>19</td>\n",
       "      <td>30.31840</td>\n",
       "      <td>31.8784</td>\n",
       "      <td>Turn</td>\n",
       "      <td>1.0</td>\n",
       "    </tr>\n",
       "  </tbody>\n",
       "</table>\n",
       "</div>"
      ],
      "text/plain": [
       "           Id Subject  Visit_x Medication  Age Sex  YearsSinceDx  UPDRSIII_On  \\\n",
       "0  003f117e14  13abfd        3         on   68   F           9.0         17.0   \n",
       "1  009ee11563  d81e3a        4         on   71   M          10.0         42.0   \n",
       "2  009ee11563  d81e3a        4         on   71   M          10.0         42.0   \n",
       "3  011322847a  203e85        2         on   67   M          12.0         27.0   \n",
       "4  01d0fe7266  203e85        2        off   67   M          12.0         27.0   \n",
       "\n",
       "   UPDRSIII_Off  NFOGQ      Init  Completion  Type  Kinetic  \n",
       "0          15.0     15   8.61312     14.7731  Turn      1.0  \n",
       "1          -1.0     24  11.38470     41.1847  Turn      1.0  \n",
       "2          -1.0     24  54.66470     58.7847  Turn      1.0  \n",
       "3          28.0     19  28.09660     30.2966  Turn      1.0  \n",
       "4          28.0     19  30.31840     31.8784  Turn      1.0  "
      ]
     },
     "execution_count": 70,
     "metadata": {},
     "output_type": "execute_result"
    }
   ],
   "source": [
    "join_df4.head()"
   ]
  },
  {
   "cell_type": "code",
   "execution_count": 71,
   "id": "68886106",
   "metadata": {},
   "outputs": [],
   "source": [
    "cols2 = ['Init', 'Completion','Kinetic']\n",
    "join_df3[cols2] = join_df3[cols2].astype('float16')\n",
    "cols3 = ['Age']\n",
    "join_df3[cols3] = join_df3[cols3].astype('int8')"
   ]
  },
  {
   "cell_type": "code",
   "execution_count": 72,
   "id": "4e1f7be9",
   "metadata": {},
   "outputs": [],
   "source": [
    "cols2 = ['Init', 'Completion','Kinetic']\n",
    "join_df4[cols2] = join_df4[cols2].astype('float16')\n",
    "cols3 = ['Age']\n",
    "join_df4[cols3] = join_df4[cols3].astype('int8')"
   ]
  },
  {
   "cell_type": "code",
   "execution_count": 73,
   "id": "96e17e0e",
   "metadata": {},
   "outputs": [],
   "source": [
    "join_df3['Type'] = join_df3['Type'].astype('category')"
   ]
  },
  {
   "cell_type": "code",
   "execution_count": 74,
   "id": "07b28ed0",
   "metadata": {},
   "outputs": [],
   "source": [
    "join_df4['Type'] = join_df4['Type'].astype('category')"
   ]
  },
  {
   "cell_type": "code",
   "execution_count": 84,
   "id": "9ae98f1b",
   "metadata": {},
   "outputs": [
    {
     "name": "stderr",
     "output_type": "stream",
     "text": [
      "C:\\Users\\colli\\anaconda3\\lib\\site-packages\\seaborn\\_decorators.py:36: FutureWarning: Pass the following variable as a keyword arg: x. From version 0.12, the only valid positional argument will be `data`, and passing other arguments without an explicit keyword will result in an error or misinterpretation.\n",
      "  warnings.warn(\n"
     ]
    },
    {
     "data": {
      "text/plain": [
       "<AxesSubplot:xlabel='Type', ylabel='count'>"
      ]
     },
     "execution_count": 84,
     "metadata": {},
     "output_type": "execute_result"
    },
    {
     "data": {
      "image/png": "[encoded data removed]",
      "text/plain": [
       "<Figure size 432x288 with 1 Axes>"
      ]
     },
     "metadata": {
      "needs_background": "light"
     },
     "output_type": "display_data"
    }
   ],
   "source": [
    "sns.countplot(join_df3['Type'])"
   ]
  },
  {
   "cell_type": "code",
   "execution_count": 76,
   "id": "48884ca8",
   "metadata": {
    "scrolled": true
   },
   "outputs": [
    {
     "data": {
      "text/plain": [
       "<AxesSubplot:xlabel='Type', ylabel='count'>"
      ]
     },
     "execution_count": 76,
     "metadata": {},
     "output_type": "execute_result"
    },
    {
     "data": {
      "image/png": "[encoded data removed]",
      "text/plain": [
       "<Figure size 432x288 with 1 Axes>"
      ]
     },
     "metadata": {
      "needs_background": "light"
     },
     "output_type": "display_data"
    }
   ],
   "source": [
    "sns.countplot(join_df4['Type'])"
   ]
  },
  {
   "cell_type": "code",
   "execution_count": 83,
   "id": "612aeb0d",
   "metadata": {},
   "outputs": [],
   "source": [
    "join_df3 = join_df3[join_df3.Type != -1]"
   ]
  },
  {
   "cell_type": "code",
   "execution_count": 85,
   "id": "098b4b34",
   "metadata": {},
   "outputs": [],
   "source": [
    "join_df4 = join_df4[join_df4.Type != -1]"
   ]
  },
  {
   "cell_type": "code",
   "execution_count": 89,
   "id": "0ee72d7e",
   "metadata": {},
   "outputs": [],
   "source": [
    "join_df3 = pd.get_dummies(join_df3\n",
    "               ,columns = ['Type']\n",
    "               )"
   ]
  },
  {
   "cell_type": "code",
   "execution_count": 91,
   "id": "3fdd1b56",
   "metadata": {},
   "outputs": [],
   "source": [
    "join_df4 = pd.get_dummies(join_df4\n",
    "               ,columns = ['Type']\n",
    "               )"
   ]
  },
  {
   "cell_type": "code",
   "execution_count": 108,
   "id": "6fcd50a9",
   "metadata": {},
   "outputs": [
    {
     "data": {
      "text/html": [
       "<div>\n",
       "<style scoped>\n",
       "    .dataframe tbody tr th:only-of-type {\n",
       "        vertical-align: middle;\n",
       "    }\n",
       "\n",
       "    .dataframe tbody tr th {\n",
       "        vertical-align: top;\n",
       "    }\n",
       "\n",
       "    .dataframe thead th {\n",
       "        text-align: right;\n",
       "    }\n",
       "</style>\n",
       "<table border=\"1\" class=\"dataframe\">\n",
       "  <thead>\n",
       "    <tr style=\"text-align: right;\">\n",
       "      <th></th>\n",
       "      <th>Id</th>\n",
       "      <th>Subject</th>\n",
       "      <th>Visit_x</th>\n",
       "      <th>Medication</th>\n",
       "      <th>Visit_y</th>\n",
       "      <th>Age</th>\n",
       "      <th>Sex</th>\n",
       "      <th>YearsSinceDx</th>\n",
       "      <th>UPDRSIII_On</th>\n",
       "      <th>UPDRSIII_Off</th>\n",
       "      <th>NFOGQ</th>\n",
       "      <th>Init</th>\n",
       "      <th>Completion</th>\n",
       "      <th>Kinetic</th>\n",
       "      <th>Type_-1</th>\n",
       "      <th>Type_StartHesitation</th>\n",
       "      <th>Type_Turn</th>\n",
       "      <th>Type_Walking</th>\n",
       "    </tr>\n",
       "  </thead>\n",
       "  <tbody>\n",
       "    <tr>\n",
       "      <th>14</th>\n",
       "      <td>02ea782681</td>\n",
       "      <td>bf608b</td>\n",
       "      <td>2</td>\n",
       "      <td>0</td>\n",
       "      <td>1.0</td>\n",
       "      <td>67</td>\n",
       "      <td>1</td>\n",
       "      <td>7.0</td>\n",
       "      <td>15.0</td>\n",
       "      <td>48.0</td>\n",
       "      <td>23</td>\n",
       "      <td>1395.00</td>\n",
       "      <td>1396.00</td>\n",
       "      <td>1.0</td>\n",
       "      <td>0</td>\n",
       "      <td>0</td>\n",
       "      <td>1</td>\n",
       "      <td>0</td>\n",
       "    </tr>\n",
       "    <tr>\n",
       "      <th>15</th>\n",
       "      <td>02ea782681</td>\n",
       "      <td>bf608b</td>\n",
       "      <td>2</td>\n",
       "      <td>0</td>\n",
       "      <td>1.0</td>\n",
       "      <td>67</td>\n",
       "      <td>1</td>\n",
       "      <td>7.0</td>\n",
       "      <td>15.0</td>\n",
       "      <td>48.0</td>\n",
       "      <td>23</td>\n",
       "      <td>1484.00</td>\n",
       "      <td>1484.00</td>\n",
       "      <td>1.0</td>\n",
       "      <td>0</td>\n",
       "      <td>0</td>\n",
       "      <td>1</td>\n",
       "      <td>0</td>\n",
       "    </tr>\n",
       "    <tr>\n",
       "      <th>16</th>\n",
       "      <td>02ea782681</td>\n",
       "      <td>bf608b</td>\n",
       "      <td>2</td>\n",
       "      <td>0</td>\n",
       "      <td>2.0</td>\n",
       "      <td>67</td>\n",
       "      <td>1</td>\n",
       "      <td>7.0</td>\n",
       "      <td>14.0</td>\n",
       "      <td>57.0</td>\n",
       "      <td>19</td>\n",
       "      <td>1395.00</td>\n",
       "      <td>1396.00</td>\n",
       "      <td>1.0</td>\n",
       "      <td>0</td>\n",
       "      <td>0</td>\n",
       "      <td>1</td>\n",
       "      <td>0</td>\n",
       "    </tr>\n",
       "    <tr>\n",
       "      <th>17</th>\n",
       "      <td>02ea782681</td>\n",
       "      <td>bf608b</td>\n",
       "      <td>2</td>\n",
       "      <td>0</td>\n",
       "      <td>2.0</td>\n",
       "      <td>67</td>\n",
       "      <td>1</td>\n",
       "      <td>7.0</td>\n",
       "      <td>14.0</td>\n",
       "      <td>57.0</td>\n",
       "      <td>19</td>\n",
       "      <td>1484.00</td>\n",
       "      <td>1484.00</td>\n",
       "      <td>1.0</td>\n",
       "      <td>0</td>\n",
       "      <td>0</td>\n",
       "      <td>1</td>\n",
       "      <td>0</td>\n",
       "    </tr>\n",
       "    <tr>\n",
       "      <th>18</th>\n",
       "      <td>06414383cf</td>\n",
       "      <td>c0b71e</td>\n",
       "      <td>2</td>\n",
       "      <td>0</td>\n",
       "      <td>1.0</td>\n",
       "      <td>61</td>\n",
       "      <td>1</td>\n",
       "      <td>7.0</td>\n",
       "      <td>45.0</td>\n",
       "      <td>52.0</td>\n",
       "      <td>22</td>\n",
       "      <td>433.75</td>\n",
       "      <td>435.25</td>\n",
       "      <td>0.0</td>\n",
       "      <td>0</td>\n",
       "      <td>0</td>\n",
       "      <td>1</td>\n",
       "      <td>0</td>\n",
       "    </tr>\n",
       "  </tbody>\n",
       "</table>\n",
       "</div>"
      ],
      "text/plain": [
       "            Id Subject  Visit_x  Medication  Visit_y  Age  Sex  YearsSinceDx  \\\n",
       "14  02ea782681  bf608b        2           0      1.0   67    1           7.0   \n",
       "15  02ea782681  bf608b        2           0      1.0   67    1           7.0   \n",
       "16  02ea782681  bf608b        2           0      2.0   67    1           7.0   \n",
       "17  02ea782681  bf608b        2           0      2.0   67    1           7.0   \n",
       "18  06414383cf  c0b71e        2           0      1.0   61    1           7.0   \n",
       "\n",
       "    UPDRSIII_On  UPDRSIII_Off  NFOGQ     Init  Completion  Kinetic  Type_-1  \\\n",
       "14         15.0          48.0     23  1395.00     1396.00      1.0        0   \n",
       "15         15.0          48.0     23  1484.00     1484.00      1.0        0   \n",
       "16         14.0          57.0     19  1395.00     1396.00      1.0        0   \n",
       "17         14.0          57.0     19  1484.00     1484.00      1.0        0   \n",
       "18         45.0          52.0     22   433.75      435.25      0.0        0   \n",
       "\n",
       "    Type_StartHesitation  Type_Turn  Type_Walking  \n",
       "14                     0          1             0  \n",
       "15                     0          1             0  \n",
       "16                     0          1             0  \n",
       "17                     0          1             0  \n",
       "18                     0          1             0  "
      ]
     },
     "execution_count": 108,
     "metadata": {},
     "output_type": "execute_result"
    }
   ],
   "source": [
    "join_df3.head()"
   ]
  },
  {
   "cell_type": "code",
   "execution_count": 105,
   "id": "d692db10",
   "metadata": {},
   "outputs": [],
   "source": [
    "join_df3['Sex'] = join_df3['Sex'].map({'F': 1, 'M': 0})"
   ]
  },
  {
   "cell_type": "code",
   "execution_count": 107,
   "id": "b9077866",
   "metadata": {},
   "outputs": [],
   "source": [
    "join_df3['Medication'] = join_df4['Medication'].map({'on': 1, 'off': 0})"
   ]
  },
  {
   "cell_type": "code",
   "execution_count": 138,
   "id": "7c0286ea",
   "metadata": {},
   "outputs": [],
   "source": [
    "join_df4['Sex'] = join_df3['Sex'].map({'F': 1, 'M': 0})\n",
    "join_df4['Medication'] = join_df4['Medication'].map({'on': 1, 'off': 0})"
   ]
  },
  {
   "cell_type": "code",
   "execution_count": 139,
   "id": "d2653a70",
   "metadata": {},
   "outputs": [],
   "source": [
    "all_dfs = [join_df3,join_df4]"
   ]
  },
  {
   "cell_type": "code",
   "execution_count": 140,
   "id": "470c13d2",
   "metadata": {},
   "outputs": [],
   "source": [
    "all_dfs_concat = pd.concat(all_dfs)"
   ]
  },
  {
   "cell_type": "code",
   "execution_count": 144,
   "id": "a86067b8",
   "metadata": {},
   "outputs": [
    {
     "name": "stdout",
     "output_type": "stream",
     "text": [
      "<class 'pandas.core.frame.DataFrame'>\n",
      "Int64Index: 3761 entries, 14 to 1625\n",
      "Data columns (total 18 columns):\n",
      " #   Column                Non-Null Count  Dtype  \n",
      "---  ------                --------------  -----  \n",
      " 0   Id                    3761 non-null   object \n",
      " 1   Subject               3761 non-null   object \n",
      " 2   Visit_x               3761 non-null   int8   \n",
      " 3   Medication            2556 non-null   float64\n",
      " 4   Visit_y               2556 non-null   float16\n",
      " 5   Age                   3761 non-null   int8   \n",
      " 6   Sex                   2556 non-null   float64\n",
      " 7   YearsSinceDx          3761 non-null   float16\n",
      " 8   UPDRSIII_On           3761 non-null   float16\n",
      " 9   UPDRSIII_Off          3761 non-null   float16\n",
      " 10  NFOGQ                 3761 non-null   int8   \n",
      " 11  Init                  3761 non-null   float16\n",
      " 12  Completion            3761 non-null   float16\n",
      " 13  Kinetic               3761 non-null   float16\n",
      " 14  Type_-1               3761 non-null   uint8  \n",
      " 15  Type_StartHesitation  3761 non-null   uint8  \n",
      " 16  Type_Turn             3761 non-null   uint8  \n",
      " 17  Type_Walking          3761 non-null   uint8  \n",
      "dtypes: float16(7), float64(2), int8(3), object(2), uint8(4)\n",
      "memory usage: 224.0+ KB\n"
     ]
    }
   ],
   "source": [
    "all_dfs_concat.info()"
   ]
  },
  {
   "cell_type": "code",
   "execution_count": 110,
   "id": "fc7f9b26",
   "metadata": {},
   "outputs": [],
   "source": [
    "from sklearn.model_selection import train_test_split"
   ]
  },
  {
   "cell_type": "code",
   "execution_count": 151,
   "id": "c12c90c6",
   "metadata": {},
   "outputs": [],
   "source": [
    "X = all_dfs_concat[['Age','YearsSinceDx','UPDRSIII_On','UPDRSIII_Off','NFOGQ','Init','Completion','Kinetic']]\n",
    "ySH = all_dfs_concat['Type_StartHesitation']\n",
    "yT = all_dfs_concat['Type_Turn']\n",
    "yW = all_dfs_concat['Type_Walking']"
   ]
  },
  {
   "cell_type": "code",
   "execution_count": 153,
   "id": "f3bb4639",
   "metadata": {},
   "outputs": [],
   "source": [
    "X_train, X_test, ySH_train, ySH_test = train_test_split(X, ySH, test_size = 0.3, random_state = 22)\n",
    "X_train, X_test, yT_train, yT_test = train_test_split(X, yT, test_size = 0.3, random_state = 22)\n",
    "X_train, X_test, yW_train, yW_test = train_test_split(X, yW, test_size = 0.3, random_state = 22)"
   ]
  },
  {
   "cell_type": "code",
   "execution_count": 154,
   "id": "669ed305",
   "metadata": {},
   "outputs": [],
   "source": [
    "from sklearn.tree import DecisionTreeClassifier # Import Decision Tree Classifier\n",
    "clfSH = DecisionTreeClassifier(criterion=\"entropy\", max_depth=3)\n",
    "clfT = DecisionTreeClassifier(criterion=\"entropy\", max_depth=3)\n",
    "clfW = DecisionTreeClassifier(criterion=\"entropy\", max_depth=3)"
   ]
  },
  {
   "cell_type": "code",
   "execution_count": 155,
   "id": "faafa3ff",
   "metadata": {},
   "outputs": [
    {
     "data": {
      "text/plain": [
       "DecisionTreeClassifier(criterion='entropy', max_depth=3)"
      ]
     },
     "execution_count": 155,
     "metadata": {},
     "output_type": "execute_result"
    }
   ],
   "source": [
    "clfSH.fit(X_train,ySH_train)\n",
    "clfT.fit(X_train,yT_train)\n",
    "clfW .fit(X_train,yW_train)"
   ]
  },
  {
   "cell_type": "code",
   "execution_count": 156,
   "id": "b520c234",
   "metadata": {},
   "outputs": [],
   "source": [
    "ySH_pred = clfSH.predict(X_test)\n",
    "yT_pred = clfT.predict(X_test)\n",
    "yW_pred = clfW.predict(X_test)"
   ]
  },
  {
   "cell_type": "code",
   "execution_count": 157,
   "id": "06acde43",
   "metadata": {},
   "outputs": [
    {
     "name": "stdout",
     "output_type": "stream",
     "text": [
      "StartHesitation:\n",
      "              precision    recall  f1-score   support\n",
      "\n",
      "           0       0.98      1.00      0.99      1090\n",
      "           1       0.81      0.33      0.47        39\n",
      "\n",
      "    accuracy                           0.97      1129\n",
      "   macro avg       0.89      0.67      0.73      1129\n",
      "weighted avg       0.97      0.97      0.97      1129\n",
      "\n",
      "Turning:\n",
      "              precision    recall  f1-score   support\n",
      "\n",
      "           0       0.86      0.09      0.16       200\n",
      "           1       0.84      1.00      0.91       929\n",
      "\n",
      "    accuracy                           0.84      1129\n",
      "   macro avg       0.85      0.54      0.54      1129\n",
      "weighted avg       0.84      0.84      0.78      1129\n",
      "\n",
      "Walking:\n",
      "              precision    recall  f1-score   support\n",
      "\n",
      "           0       0.87      1.00      0.93       968\n",
      "           1       1.00      0.07      0.14       161\n",
      "\n",
      "    accuracy                           0.87      1129\n",
      "   macro avg       0.93      0.54      0.53      1129\n",
      "weighted avg       0.89      0.87      0.82      1129\n",
      "\n"
     ]
    }
   ],
   "source": [
    "from sklearn.metrics import classification_report\n",
    "print('StartHesitation:')\n",
    "print(classification_report(ySH_test, ySH_pred))\n",
    "print('Turning:')\n",
    "print(classification_report(yT_test, yT_pred))\n",
    "print('Walking:')\n",
    "print(classification_report(yW_test, yW_pred))"
   ]
  },
  {
   "cell_type": "code",
   "execution_count": null,
   "id": "f5823614",
   "metadata": {},
   "outputs": [],
   "source": []
  }
 ],
 "metadata": {
  "kernelspec": {
   "display_name": "Python 3",
   "language": "python",
   "name": "python3"
  },
  "language_info": {
   "codemirror_mode": {
    "name": "ipython",
    "version": 3
   },
   "file_extension": ".py",
   "mimetype": "text/x-python",
   "name": "python",
   "nbconvert_exporter": "python",
   "pygments_lexer": "ipython3",
   "version": "3.8.8"
  }
 },
 "nbformat": 4,
 "nbformat_minor": 5
}
